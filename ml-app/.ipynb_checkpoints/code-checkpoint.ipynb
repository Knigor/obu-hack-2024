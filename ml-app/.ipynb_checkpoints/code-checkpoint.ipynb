{
 "cells": [
  {
   "cell_type": "markdown",
   "id": "4d0c6b21-bd9c-460a-ad15-1682503c00d1",
   "metadata": {},
   "source": [
    "# Подключаем библиотеки"
   ]
  },
  {
   "cell_type": "code",
   "execution_count": 68,
   "id": "b60248b5-eefc-41d1-ae86-31e5d79dd0d9",
   "metadata": {},
   "outputs": [],
   "source": [
    "from math import pi\n",
    "import numpy as np\n",
    "import pandas as pd\n",
    "import matplotlib.pyplot as plt\n",
    "import seaborn as sns\n",
    "from sklearn.preprocessing import OneHotEncoder, StandardScaler, MinMaxScaler\n",
    "from sklearn.model_selection import train_test_split\n",
    "import re\n",
    "from datetime import datetime\n",
    "from datetime import time\n",
    "from torch.utils.data import Dataset, DataLoader\n",
    "from torch import Tensor\n",
    "from torch.nn import Module, Linear, Sigmoid, LeakyReLU, Sequential, MSELoss\n",
    "from torch.optim import Adam, SGD"
   ]
  },
  {
   "cell_type": "code",
   "execution_count": 2,
   "id": "ec76e820-f952-40fb-8867-0bd550f14a7a",
   "metadata": {},
   "outputs": [],
   "source": [
    "import warnings\n",
    "warnings.filterwarnings('ignore')"
   ]
  },
  {
   "cell_type": "markdown",
   "id": "ac71b731-ce72-44a1-987f-e1682940f489",
   "metadata": {},
   "source": [
    "# Считываем и выводим данные"
   ]
  },
  {
   "cell_type": "code",
   "execution_count": 3,
   "id": "b3384571-9172-4f22-a097-4e73b92d8b0e",
   "metadata": {},
   "outputs": [],
   "source": [
    "df_business = pd.read_excel('Train.xlsx', sheet_name='business')\n",
    "df_business['class'] = np.ones(df_business.shape[0])\n",
    "df_economy = pd.read_excel('Train.xlsx', sheet_name='economy')\n",
    "df_economy['class'] = np.zeros(df_economy.shape[0])"
   ]
  },
  {
   "cell_type": "code",
   "execution_count": 48,
   "id": "4fd3cd8b-cfee-4110-b3f6-66285e52d567",
   "metadata": {},
   "outputs": [
    {
     "data": {
      "text/plain": [
       "(240208, 12)"
      ]
     },
     "execution_count": 48,
     "metadata": {},
     "output_type": "execute_result"
    }
   ],
   "source": [
    "df = pd.concat([df_business, df_economy], axis=0)\n",
    "df.shape"
   ]
  },
  {
   "cell_type": "markdown",
   "id": "7400dc73-0969-4271-b4b9-41756236639b",
   "metadata": {},
   "source": [
    "Удаляем дубликаты"
   ]
  },
  {
   "cell_type": "code",
   "execution_count": 49,
   "id": "5f2b230a-3824-4b44-9135-45fc9fba2d8b",
   "metadata": {},
   "outputs": [
    {
     "data": {
      "text/plain": [
       "(240208, 12)"
      ]
     },
     "execution_count": 49,
     "metadata": {},
     "output_type": "execute_result"
    }
   ],
   "source": [
    "df.drop_duplicates(inplace=True)\n",
    "df.shape"
   ]
  },
  {
   "cell_type": "markdown",
   "id": "2dd6c2d5-5c81-4d19-a0a1-ead0a5832d87",
   "metadata": {},
   "source": [
    "Перемешиваем таблицу"
   ]
  },
  {
   "cell_type": "code",
   "execution_count": 50,
   "id": "491f1c72-201d-4dc4-a802-53964134c037",
   "metadata": {},
   "outputs": [
    {
     "data": {
      "text/html": [
       "<div>\n",
       "<style scoped>\n",
       "    .dataframe tbody tr th:only-of-type {\n",
       "        vertical-align: middle;\n",
       "    }\n",
       "\n",
       "    .dataframe tbody tr th {\n",
       "        vertical-align: top;\n",
       "    }\n",
       "\n",
       "    .dataframe thead th {\n",
       "        text-align: right;\n",
       "    }\n",
       "</style>\n",
       "<table border=\"1\" class=\"dataframe\">\n",
       "  <thead>\n",
       "    <tr style=\"text-align: right;\">\n",
       "      <th></th>\n",
       "      <th>date</th>\n",
       "      <th>airline</th>\n",
       "      <th>ch_code</th>\n",
       "      <th>num_code</th>\n",
       "      <th>dep_time</th>\n",
       "      <th>from</th>\n",
       "      <th>time_taken</th>\n",
       "      <th>stop</th>\n",
       "      <th>arr_time</th>\n",
       "      <th>to</th>\n",
       "      <th>price</th>\n",
       "      <th>class</th>\n",
       "    </tr>\n",
       "  </thead>\n",
       "  <tbody>\n",
       "    <tr>\n",
       "      <th>0</th>\n",
       "      <td>09-03-2022</td>\n",
       "      <td>Air India</td>\n",
       "      <td>AI</td>\n",
       "      <td>770</td>\n",
       "      <td>20:30</td>\n",
       "      <td>Kolkata</td>\n",
       "      <td>02h 30m</td>\n",
       "      <td>non-stop</td>\n",
       "      <td>23:00</td>\n",
       "      <td>Delhi</td>\n",
       "      <td>28,510</td>\n",
       "      <td>1.0</td>\n",
       "    </tr>\n",
       "    <tr>\n",
       "      <th>1</th>\n",
       "      <td>02-03-2022</td>\n",
       "      <td>Vistara</td>\n",
       "      <td>UK</td>\n",
       "      <td>963</td>\n",
       "      <td>08:50</td>\n",
       "      <td>Delhi</td>\n",
       "      <td>08h 55m</td>\n",
       "      <td>1-stop\\n\\t\\t\\t\\t\\t\\t\\t\\t\\t\\t\\t\\t\\n\\t\\t\\t\\t\\t\\t...</td>\n",
       "      <td>17:45</td>\n",
       "      <td>Bangalore</td>\n",
       "      <td>4,896</td>\n",
       "      <td>0.0</td>\n",
       "    </tr>\n",
       "    <tr>\n",
       "      <th>2</th>\n",
       "      <td>23-02-2022</td>\n",
       "      <td>Vistara</td>\n",
       "      <td>UK</td>\n",
       "      <td>876</td>\n",
       "      <td>21:35</td>\n",
       "      <td>Hyderabad</td>\n",
       "      <td>22h 20m</td>\n",
       "      <td>1-stop\\n\\t\\t\\t\\t\\t\\t\\t\\t\\t\\t\\t\\t\\n\\t\\t\\t\\t\\t\\t...</td>\n",
       "      <td>19:55</td>\n",
       "      <td>Chennai</td>\n",
       "      <td>8,641</td>\n",
       "      <td>0.0</td>\n",
       "    </tr>\n",
       "    <tr>\n",
       "      <th>3</th>\n",
       "      <td>14-03-2022</td>\n",
       "      <td>Vistara</td>\n",
       "      <td>UK</td>\n",
       "      <td>927</td>\n",
       "      <td>09:30</td>\n",
       "      <td>Delhi</td>\n",
       "      <td>11h 25m</td>\n",
       "      <td>1-stop\\n\\t\\t\\t\\t\\t\\t\\t\\t\\t\\t\\t\\t\\n\\t\\t\\t\\t\\t\\t...</td>\n",
       "      <td>20:55</td>\n",
       "      <td>Bangalore</td>\n",
       "      <td>4,496</td>\n",
       "      <td>0.0</td>\n",
       "    </tr>\n",
       "    <tr>\n",
       "      <th>4</th>\n",
       "      <td>27-03-2022</td>\n",
       "      <td>Indigo</td>\n",
       "      <td>6E</td>\n",
       "      <td>7211</td>\n",
       "      <td>10:55</td>\n",
       "      <td>Hyderabad</td>\n",
       "      <td>03h 55m</td>\n",
       "      <td>1-stop\\n\\t\\t\\t\\t\\t\\t\\t\\t\\t\\t\\t\\t\\n\\t\\t\\t\\t\\t\\t...</td>\n",
       "      <td>14:50</td>\n",
       "      <td>Bangalore</td>\n",
       "      <td>3,374</td>\n",
       "      <td>0.0</td>\n",
       "    </tr>\n",
       "  </tbody>\n",
       "</table>\n",
       "</div>"
      ],
      "text/plain": [
       "         date    airline ch_code  num_code dep_time       from time_taken  \\\n",
       "0  09-03-2022  Air India      AI       770    20:30    Kolkata    02h 30m   \n",
       "1  02-03-2022    Vistara      UK       963    08:50      Delhi    08h 55m   \n",
       "2  23-02-2022    Vistara      UK       876    21:35  Hyderabad    22h 20m   \n",
       "3  14-03-2022    Vistara      UK       927    09:30      Delhi    11h 25m   \n",
       "4  27-03-2022     Indigo      6E      7211    10:55  Hyderabad    03h 55m   \n",
       "\n",
       "                                                stop arr_time         to  \\\n",
       "0                                          non-stop     23:00      Delhi   \n",
       "1  1-stop\\n\\t\\t\\t\\t\\t\\t\\t\\t\\t\\t\\t\\t\\n\\t\\t\\t\\t\\t\\t...    17:45  Bangalore   \n",
       "2  1-stop\\n\\t\\t\\t\\t\\t\\t\\t\\t\\t\\t\\t\\t\\n\\t\\t\\t\\t\\t\\t...    19:55    Chennai   \n",
       "3  1-stop\\n\\t\\t\\t\\t\\t\\t\\t\\t\\t\\t\\t\\t\\n\\t\\t\\t\\t\\t\\t...    20:55  Bangalore   \n",
       "4  1-stop\\n\\t\\t\\t\\t\\t\\t\\t\\t\\t\\t\\t\\t\\n\\t\\t\\t\\t\\t\\t...    14:50  Bangalore   \n",
       "\n",
       "    price  class  \n",
       "0  28,510    1.0  \n",
       "1   4,896    0.0  \n",
       "2   8,641    0.0  \n",
       "3   4,496    0.0  \n",
       "4   3,374    0.0  "
      ]
     },
     "execution_count": 50,
     "metadata": {},
     "output_type": "execute_result"
    }
   ],
   "source": [
    "df = df.sample(frac=1, random_state=42).reset_index(drop=True)\n",
    "df.head()"
   ]
  },
  {
   "cell_type": "code",
   "execution_count": 51,
   "id": "c201f42b-d102-4826-8052-4e48a2a8a58c",
   "metadata": {},
   "outputs": [
    {
     "data": {
      "text/plain": [
       "(240208, 12)"
      ]
     },
     "execution_count": 51,
     "metadata": {},
     "output_type": "execute_result"
    }
   ],
   "source": [
    "df.shape"
   ]
  },
  {
   "cell_type": "markdown",
   "id": "da7a9555-05f1-4ad3-8965-01a528299da8",
   "metadata": {},
   "source": [
    "# Обработка данных"
   ]
  },
  {
   "cell_type": "markdown",
   "id": "c995bbb3-af93-4699-8e96-59e18a3cc7da",
   "metadata": {},
   "source": [
    "Приведём столбец цены к типу данных float"
   ]
  },
  {
   "cell_type": "code",
   "execution_count": 52,
   "id": "cb136268-cbb4-42e2-b79e-e83fc481ef19",
   "metadata": {},
   "outputs": [],
   "source": [
    "df['price'] = df['price'].apply(lambda x: float(x.replace(',', '')))"
   ]
  },
  {
   "cell_type": "markdown",
   "id": "28c8635f-eba3-438b-a5cd-3afe0b741570",
   "metadata": {},
   "source": [
    "Приводим строки к соответствующему формату"
   ]
  },
  {
   "cell_type": "code",
   "execution_count": 53,
   "id": "0e46fb3c-2202-405d-81e2-548cb14bfe1d",
   "metadata": {},
   "outputs": [],
   "source": [
    "df = df.astype({'airline': 'string', 'ch_code': 'string', \\\n",
    "                'from': 'string', 'to': 'string'})"
   ]
  },
  {
   "cell_type": "code",
   "execution_count": 54,
   "id": "813f55a7-2cc8-4df3-a292-dd53156adb88",
   "metadata": {},
   "outputs": [
    {
     "name": "stdout",
     "output_type": "stream",
     "text": [
      "<class 'pandas.core.frame.DataFrame'>\n",
      "RangeIndex: 240208 entries, 0 to 240207\n",
      "Data columns (total 12 columns):\n",
      " #   Column      Non-Null Count   Dtype  \n",
      "---  ------      --------------   -----  \n",
      " 0   date        240208 non-null  object \n",
      " 1   airline     240208 non-null  string \n",
      " 2   ch_code     240208 non-null  string \n",
      " 3   num_code    240208 non-null  int64  \n",
      " 4   dep_time    240208 non-null  object \n",
      " 5   from        240208 non-null  string \n",
      " 6   time_taken  240208 non-null  object \n",
      " 7   stop        240208 non-null  object \n",
      " 8   arr_time    240208 non-null  object \n",
      " 9   to          240208 non-null  string \n",
      " 10  price       240208 non-null  float64\n",
      " 11  class       240208 non-null  float64\n",
      "dtypes: float64(2), int64(1), object(5), string(4)\n",
      "memory usage: 22.0+ MB\n"
     ]
    }
   ],
   "source": [
    "df.info()"
   ]
  },
  {
   "cell_type": "markdown",
   "id": "d53e4b01-1afe-44ac-b67e-e1845b1cb2f8",
   "metadata": {},
   "source": [
    "Функция приведения столбца с описанием пересадок в структурированных вид\n",
    "\n",
    "0 - без пересадок\n",
    "\n",
    "1 - 1 пересадка\n",
    "\n",
    "2 - 2 и более пересадок"
   ]
  },
  {
   "cell_type": "code",
   "execution_count": 55,
   "id": "c82d0e9e-4b77-4930-99dc-69897be4988a",
   "metadata": {},
   "outputs": [],
   "source": [
    "def text_to_stop_categories(text:str):\n",
    "    if text[0] == 'n':\n",
    "        return 0\n",
    "    elif text[0] == '1':\n",
    "        return 1\n",
    "    return 2"
   ]
  },
  {
   "cell_type": "markdown",
   "id": "2f3269d8-57ab-44f0-ac37-4d14518278b4",
   "metadata": {},
   "source": [
    "Функция определения, является ли время ночным или дневным (0 - ночь, 1 - день)"
   ]
  },
  {
   "cell_type": "code",
   "execution_count": 56,
   "id": "07fd9045-08fa-403c-b837-2cd12ee26c83",
   "metadata": {},
   "outputs": [],
   "source": [
    "def time_to_daytime(time_str):\n",
    "    time_obj = datetime.strptime(time_str, '%H:%M')\n",
    "    if time_obj.hour >= 8 and time_obj.hour < 20:\n",
    "        return 1\n",
    "    return 0"
   ]
  },
  {
   "cell_type": "markdown",
   "id": "e73b4955-4c62-4b24-92e5-7c31cf5e3b0c",
   "metadata": {},
   "source": [
    "Функция подсчёта количества минут"
   ]
  },
  {
   "cell_type": "code",
   "execution_count": 57,
   "id": "62d08203-8808-4f09-9e72-201811a5d747",
   "metadata": {},
   "outputs": [],
   "source": [
    "def time_to_minutes(time_str:str):\n",
    "    time_obj = re.findall(r'\\d{1,}', time_str)\n",
    "    return int(time_obj[0]) * 60 + int(time_obj[1])"
   ]
  },
  {
   "cell_type": "markdown",
   "id": "8cde8172-9ab1-4de8-b6df-6e602a1f1f82",
   "metadata": {},
   "source": [
    "Применяем к нужным столбцам соответствующие изменения\n",
    "\n",
    "Преобразуем авиалинию и ch_code в бинарный признак"
   ]
  },
  {
   "cell_type": "code",
   "execution_count": 58,
   "id": "cfb1ddc2-3151-4ecf-a195-dc6f0208fa14",
   "metadata": {},
   "outputs": [
    {
     "data": {
      "text/html": [
       "<div>\n",
       "<style scoped>\n",
       "    .dataframe tbody tr th:only-of-type {\n",
       "        vertical-align: middle;\n",
       "    }\n",
       "\n",
       "    .dataframe tbody tr th {\n",
       "        vertical-align: top;\n",
       "    }\n",
       "\n",
       "    .dataframe thead th {\n",
       "        text-align: right;\n",
       "    }\n",
       "</style>\n",
       "<table border=\"1\" class=\"dataframe\">\n",
       "  <thead>\n",
       "    <tr style=\"text-align: right;\">\n",
       "      <th></th>\n",
       "      <th>date</th>\n",
       "      <th>airline</th>\n",
       "      <th>ch_code</th>\n",
       "      <th>num_code</th>\n",
       "      <th>dep_time</th>\n",
       "      <th>from</th>\n",
       "      <th>time_taken</th>\n",
       "      <th>stop</th>\n",
       "      <th>arr_time</th>\n",
       "      <th>to</th>\n",
       "      <th>price</th>\n",
       "      <th>class</th>\n",
       "      <th>stop_categories</th>\n",
       "      <th>dep_time_category</th>\n",
       "      <th>arr_time_category</th>\n",
       "      <th>time_taken_minutes</th>\n",
       "    </tr>\n",
       "  </thead>\n",
       "  <tbody>\n",
       "    <tr>\n",
       "      <th>0</th>\n",
       "      <td>09-03-2022</td>\n",
       "      <td>Air India</td>\n",
       "      <td>AI</td>\n",
       "      <td>770</td>\n",
       "      <td>20:30</td>\n",
       "      <td>Kolkata</td>\n",
       "      <td>02h 30m</td>\n",
       "      <td>non-stop</td>\n",
       "      <td>23:00</td>\n",
       "      <td>Delhi</td>\n",
       "      <td>28510.0</td>\n",
       "      <td>1.0</td>\n",
       "      <td>0</td>\n",
       "      <td>0</td>\n",
       "      <td>0</td>\n",
       "      <td>150</td>\n",
       "    </tr>\n",
       "    <tr>\n",
       "      <th>1</th>\n",
       "      <td>02-03-2022</td>\n",
       "      <td>Vistara</td>\n",
       "      <td>UK</td>\n",
       "      <td>963</td>\n",
       "      <td>08:50</td>\n",
       "      <td>Delhi</td>\n",
       "      <td>08h 55m</td>\n",
       "      <td>1-stop\\n\\t\\t\\t\\t\\t\\t\\t\\t\\t\\t\\t\\t\\n\\t\\t\\t\\t\\t\\t...</td>\n",
       "      <td>17:45</td>\n",
       "      <td>Bangalore</td>\n",
       "      <td>4896.0</td>\n",
       "      <td>0.0</td>\n",
       "      <td>1</td>\n",
       "      <td>1</td>\n",
       "      <td>1</td>\n",
       "      <td>535</td>\n",
       "    </tr>\n",
       "    <tr>\n",
       "      <th>2</th>\n",
       "      <td>23-02-2022</td>\n",
       "      <td>Vistara</td>\n",
       "      <td>UK</td>\n",
       "      <td>876</td>\n",
       "      <td>21:35</td>\n",
       "      <td>Hyderabad</td>\n",
       "      <td>22h 20m</td>\n",
       "      <td>1-stop\\n\\t\\t\\t\\t\\t\\t\\t\\t\\t\\t\\t\\t\\n\\t\\t\\t\\t\\t\\t...</td>\n",
       "      <td>19:55</td>\n",
       "      <td>Chennai</td>\n",
       "      <td>8641.0</td>\n",
       "      <td>0.0</td>\n",
       "      <td>1</td>\n",
       "      <td>0</td>\n",
       "      <td>1</td>\n",
       "      <td>1340</td>\n",
       "    </tr>\n",
       "    <tr>\n",
       "      <th>3</th>\n",
       "      <td>14-03-2022</td>\n",
       "      <td>Vistara</td>\n",
       "      <td>UK</td>\n",
       "      <td>927</td>\n",
       "      <td>09:30</td>\n",
       "      <td>Delhi</td>\n",
       "      <td>11h 25m</td>\n",
       "      <td>1-stop\\n\\t\\t\\t\\t\\t\\t\\t\\t\\t\\t\\t\\t\\n\\t\\t\\t\\t\\t\\t...</td>\n",
       "      <td>20:55</td>\n",
       "      <td>Bangalore</td>\n",
       "      <td>4496.0</td>\n",
       "      <td>0.0</td>\n",
       "      <td>1</td>\n",
       "      <td>1</td>\n",
       "      <td>0</td>\n",
       "      <td>685</td>\n",
       "    </tr>\n",
       "    <tr>\n",
       "      <th>4</th>\n",
       "      <td>27-03-2022</td>\n",
       "      <td>Indigo</td>\n",
       "      <td>6E</td>\n",
       "      <td>7211</td>\n",
       "      <td>10:55</td>\n",
       "      <td>Hyderabad</td>\n",
       "      <td>03h 55m</td>\n",
       "      <td>1-stop\\n\\t\\t\\t\\t\\t\\t\\t\\t\\t\\t\\t\\t\\n\\t\\t\\t\\t\\t\\t...</td>\n",
       "      <td>14:50</td>\n",
       "      <td>Bangalore</td>\n",
       "      <td>3374.0</td>\n",
       "      <td>0.0</td>\n",
       "      <td>1</td>\n",
       "      <td>1</td>\n",
       "      <td>1</td>\n",
       "      <td>235</td>\n",
       "    </tr>\n",
       "  </tbody>\n",
       "</table>\n",
       "</div>"
      ],
      "text/plain": [
       "         date    airline ch_code  num_code dep_time       from time_taken  \\\n",
       "0  09-03-2022  Air India      AI       770    20:30    Kolkata    02h 30m   \n",
       "1  02-03-2022    Vistara      UK       963    08:50      Delhi    08h 55m   \n",
       "2  23-02-2022    Vistara      UK       876    21:35  Hyderabad    22h 20m   \n",
       "3  14-03-2022    Vistara      UK       927    09:30      Delhi    11h 25m   \n",
       "4  27-03-2022     Indigo      6E      7211    10:55  Hyderabad    03h 55m   \n",
       "\n",
       "                                                stop arr_time         to  \\\n",
       "0                                          non-stop     23:00      Delhi   \n",
       "1  1-stop\\n\\t\\t\\t\\t\\t\\t\\t\\t\\t\\t\\t\\t\\n\\t\\t\\t\\t\\t\\t...    17:45  Bangalore   \n",
       "2  1-stop\\n\\t\\t\\t\\t\\t\\t\\t\\t\\t\\t\\t\\t\\n\\t\\t\\t\\t\\t\\t...    19:55    Chennai   \n",
       "3  1-stop\\n\\t\\t\\t\\t\\t\\t\\t\\t\\t\\t\\t\\t\\n\\t\\t\\t\\t\\t\\t...    20:55  Bangalore   \n",
       "4  1-stop\\n\\t\\t\\t\\t\\t\\t\\t\\t\\t\\t\\t\\t\\n\\t\\t\\t\\t\\t\\t...    14:50  Bangalore   \n",
       "\n",
       "     price  class  stop_categories  dep_time_category  arr_time_category  \\\n",
       "0  28510.0    1.0                0                  0                  0   \n",
       "1   4896.0    0.0                1                  1                  1   \n",
       "2   8641.0    0.0                1                  0                  1   \n",
       "3   4496.0    0.0                1                  1                  0   \n",
       "4   3374.0    0.0                1                  1                  1   \n",
       "\n",
       "   time_taken_minutes  \n",
       "0                 150  \n",
       "1                 535  \n",
       "2                1340  \n",
       "3                 685  \n",
       "4                 235  "
      ]
     },
     "execution_count": 58,
     "metadata": {},
     "output_type": "execute_result"
    }
   ],
   "source": [
    "df['stop_categories'] = df['stop'].apply(text_to_stop_categories)\n",
    "df['dep_time_category'] = df['dep_time'].apply(time_to_daytime)\n",
    "df['arr_time_category'] = df['arr_time'].apply(time_to_daytime)\n",
    "df['time_taken_minutes'] = df['time_taken'].apply(time_to_minutes)\n",
    "df.head()"
   ]
  },
  {
   "cell_type": "markdown",
   "id": "b072f5c0-f3df-424f-ba7b-afb4df40acc3",
   "metadata": {},
   "source": [
    "Теперь закодируем признак, обозначающий количество пересадок, с помощью вектора из нулей и единиц"
   ]
  },
  {
   "cell_type": "code",
   "execution_count": 59,
   "id": "27f468d7-ca53-4a67-9148-09f86ddeb6cd",
   "metadata": {},
   "outputs": [],
   "source": [
    "stop_category_encoder = OneHotEncoder()\n",
    "stop_category_encoder.fit(df[['stop_categories']])\n",
    "df[['stop0', 'stop1', 'stop2']] = stop_category_encoder.transform(df[['stop_categories']]).toarray()"
   ]
  },
  {
   "cell_type": "markdown",
   "id": "36161f4a-fae0-43e5-aec6-066dd673052f",
   "metadata": {},
   "source": [
    "Будем учитывать расстояния между городами"
   ]
  },
  {
   "cell_type": "code",
   "execution_count": 60,
   "id": "1254a724-30e7-4d4d-95e9-f330ed657609",
   "metadata": {},
   "outputs": [],
   "source": [
    "city_indexes = {'Bangalore': 0, 'Chennai': 1, 'Delhi': 2, \\\n",
    "                'Hyderabad': 3, 'Kolkata': 4, 'Mumbai': 5}\n",
    "city_dists = [\n",
    "    [     0,          290,          1720,           1680,          1550,            830  ],\n",
    "    [   290,            0,          1760,           1840,          1360,           1050  ],\n",
    "    [  1720,         1760,             0,           1250,          1300,           1160  ],\n",
    "    [  1680,         1840,          1250,              0,          2060,            850  ],\n",
    "    [  1550,         1360,          1300,           2060,             0,           1650  ],\n",
    "    [  830,          1050,          1160,            850,          1650,              0  ]\n",
    "]"
   ]
  },
  {
   "cell_type": "code",
   "execution_count": 61,
   "id": "caa4f5e4-0493-4297-821d-99b15f10cc7a",
   "metadata": {},
   "outputs": [],
   "source": [
    "df['dist'] = df.apply(lambda x: city_dists[city_indexes[x['from']]]\\\n",
    "                      [city_indexes[x['to']]], axis=1)"
   ]
  },
  {
   "cell_type": "code",
   "execution_count": null,
   "id": "c3f287e2-eaf2-4517-a7bb-d907f9b7dbcc",
   "metadata": {},
   "outputs": [],
   "source": []
  },
  {
   "cell_type": "markdown",
   "id": "0618f441-5520-4eeb-8004-7f4c055e1a0b",
   "metadata": {},
   "source": [
    "Закодируем время вылета и прилёта двумя числами"
   ]
  },
  {
   "cell_type": "code",
   "execution_count": 78,
   "id": "e3a8acff-ad15-454c-9348-765140e0e556",
   "metadata": {},
   "outputs": [],
   "source": [
    "arr_time_angle = np.array(df['arr_time'].apply(time_to_minutes)).astype('float64')\n",
    "arr_time_angle /= 60 * 24\n",
    "arr_time_angle *= 2 * pi\n",
    "dep_time_angle = np.array(df['dep_time'].apply(time_to_minutes)).astype('float64')\n",
    "dep_time_angle /= 60 * 24\n",
    "dep_time_angle *= 2 * pi\n",
    "df['arr_time_x'] = np.cos(arr_time_angle)\n",
    "df['arr_time_y'] = np.sin(arr_time_angle)\n",
    "df['dep_time_x'] = np.cos(dep_time_angle)\n",
    "df['dep_time_y'] = np.sin(dep_time_angle)"
   ]
  },
  {
   "cell_type": "code",
   "execution_count": null,
   "id": "761c7274-8329-469c-bd13-1807d34f1212",
   "metadata": {},
   "outputs": [],
   "source": []
  },
  {
   "cell_type": "markdown",
   "id": "fc5a9ea1-cf9f-4979-be5d-3d9038353b4d",
   "metadata": {},
   "source": [
    "Посмотрим на результат"
   ]
  },
  {
   "cell_type": "code",
   "execution_count": 79,
   "id": "88520497-f16a-4263-95b2-8c3f5de18363",
   "metadata": {},
   "outputs": [
    {
     "data": {
      "text/html": [
       "<div>\n",
       "<style scoped>\n",
       "    .dataframe tbody tr th:only-of-type {\n",
       "        vertical-align: middle;\n",
       "    }\n",
       "\n",
       "    .dataframe tbody tr th {\n",
       "        vertical-align: top;\n",
       "    }\n",
       "\n",
       "    .dataframe thead th {\n",
       "        text-align: right;\n",
       "    }\n",
       "</style>\n",
       "<table border=\"1\" class=\"dataframe\">\n",
       "  <thead>\n",
       "    <tr style=\"text-align: right;\">\n",
       "      <th></th>\n",
       "      <th>date</th>\n",
       "      <th>airline</th>\n",
       "      <th>ch_code</th>\n",
       "      <th>num_code</th>\n",
       "      <th>dep_time</th>\n",
       "      <th>from</th>\n",
       "      <th>time_taken</th>\n",
       "      <th>stop</th>\n",
       "      <th>arr_time</th>\n",
       "      <th>to</th>\n",
       "      <th>...</th>\n",
       "      <th>arr_time_category</th>\n",
       "      <th>time_taken_minutes</th>\n",
       "      <th>stop0</th>\n",
       "      <th>stop1</th>\n",
       "      <th>stop2</th>\n",
       "      <th>dist</th>\n",
       "      <th>arr_time_x</th>\n",
       "      <th>arr_time_y</th>\n",
       "      <th>dep_time_x</th>\n",
       "      <th>dep_time_y</th>\n",
       "    </tr>\n",
       "  </thead>\n",
       "  <tbody>\n",
       "    <tr>\n",
       "      <th>0</th>\n",
       "      <td>09-03-2022</td>\n",
       "      <td>Air India</td>\n",
       "      <td>AI</td>\n",
       "      <td>770</td>\n",
       "      <td>20:30</td>\n",
       "      <td>Kolkata</td>\n",
       "      <td>02h 30m</td>\n",
       "      <td>non-stop</td>\n",
       "      <td>23:00</td>\n",
       "      <td>Delhi</td>\n",
       "      <td>...</td>\n",
       "      <td>0</td>\n",
       "      <td>150</td>\n",
       "      <td>1.0</td>\n",
       "      <td>0.0</td>\n",
       "      <td>0.0</td>\n",
       "      <td>1300</td>\n",
       "      <td>0.965926</td>\n",
       "      <td>-0.258819</td>\n",
       "      <td>0.608761</td>\n",
       "      <td>-0.793353</td>\n",
       "    </tr>\n",
       "    <tr>\n",
       "      <th>1</th>\n",
       "      <td>02-03-2022</td>\n",
       "      <td>Vistara</td>\n",
       "      <td>UK</td>\n",
       "      <td>963</td>\n",
       "      <td>08:50</td>\n",
       "      <td>Delhi</td>\n",
       "      <td>08h 55m</td>\n",
       "      <td>1-stop\\n\\t\\t\\t\\t\\t\\t\\t\\t\\t\\t\\t\\t\\n\\t\\t\\t\\t\\t\\t...</td>\n",
       "      <td>17:45</td>\n",
       "      <td>Bangalore</td>\n",
       "      <td>...</td>\n",
       "      <td>1</td>\n",
       "      <td>535</td>\n",
       "      <td>0.0</td>\n",
       "      <td>1.0</td>\n",
       "      <td>0.0</td>\n",
       "      <td>1720</td>\n",
       "      <td>-0.065403</td>\n",
       "      <td>-0.997859</td>\n",
       "      <td>-0.675590</td>\n",
       "      <td>0.737277</td>\n",
       "    </tr>\n",
       "    <tr>\n",
       "      <th>2</th>\n",
       "      <td>23-02-2022</td>\n",
       "      <td>Vistara</td>\n",
       "      <td>UK</td>\n",
       "      <td>876</td>\n",
       "      <td>21:35</td>\n",
       "      <td>Hyderabad</td>\n",
       "      <td>22h 20m</td>\n",
       "      <td>1-stop\\n\\t\\t\\t\\t\\t\\t\\t\\t\\t\\t\\t\\t\\n\\t\\t\\t\\t\\t\\t...</td>\n",
       "      <td>19:55</td>\n",
       "      <td>Chennai</td>\n",
       "      <td>...</td>\n",
       "      <td>1</td>\n",
       "      <td>1340</td>\n",
       "      <td>0.0</td>\n",
       "      <td>1.0</td>\n",
       "      <td>0.0</td>\n",
       "      <td>1840</td>\n",
       "      <td>0.480989</td>\n",
       "      <td>-0.876727</td>\n",
       "      <td>0.806445</td>\n",
       "      <td>-0.591310</td>\n",
       "    </tr>\n",
       "    <tr>\n",
       "      <th>3</th>\n",
       "      <td>14-03-2022</td>\n",
       "      <td>Vistara</td>\n",
       "      <td>UK</td>\n",
       "      <td>927</td>\n",
       "      <td>09:30</td>\n",
       "      <td>Delhi</td>\n",
       "      <td>11h 25m</td>\n",
       "      <td>1-stop\\n\\t\\t\\t\\t\\t\\t\\t\\t\\t\\t\\t\\t\\n\\t\\t\\t\\t\\t\\t...</td>\n",
       "      <td>20:55</td>\n",
       "      <td>Bangalore</td>\n",
       "      <td>...</td>\n",
       "      <td>0</td>\n",
       "      <td>685</td>\n",
       "      <td>0.0</td>\n",
       "      <td>1.0</td>\n",
       "      <td>0.0</td>\n",
       "      <td>1720</td>\n",
       "      <td>0.691513</td>\n",
       "      <td>-0.722364</td>\n",
       "      <td>-0.793353</td>\n",
       "      <td>0.608761</td>\n",
       "    </tr>\n",
       "    <tr>\n",
       "      <th>4</th>\n",
       "      <td>27-03-2022</td>\n",
       "      <td>Indigo</td>\n",
       "      <td>6E</td>\n",
       "      <td>7211</td>\n",
       "      <td>10:55</td>\n",
       "      <td>Hyderabad</td>\n",
       "      <td>03h 55m</td>\n",
       "      <td>1-stop\\n\\t\\t\\t\\t\\t\\t\\t\\t\\t\\t\\t\\t\\n\\t\\t\\t\\t\\t\\t...</td>\n",
       "      <td>14:50</td>\n",
       "      <td>Bangalore</td>\n",
       "      <td>...</td>\n",
       "      <td>1</td>\n",
       "      <td>235</td>\n",
       "      <td>0.0</td>\n",
       "      <td>1.0</td>\n",
       "      <td>0.0</td>\n",
       "      <td>1680</td>\n",
       "      <td>-0.737277</td>\n",
       "      <td>-0.675590</td>\n",
       "      <td>-0.960050</td>\n",
       "      <td>0.279829</td>\n",
       "    </tr>\n",
       "  </tbody>\n",
       "</table>\n",
       "<p>5 rows × 24 columns</p>\n",
       "</div>"
      ],
      "text/plain": [
       "         date    airline ch_code  num_code dep_time       from time_taken  \\\n",
       "0  09-03-2022  Air India      AI       770    20:30    Kolkata    02h 30m   \n",
       "1  02-03-2022    Vistara      UK       963    08:50      Delhi    08h 55m   \n",
       "2  23-02-2022    Vistara      UK       876    21:35  Hyderabad    22h 20m   \n",
       "3  14-03-2022    Vistara      UK       927    09:30      Delhi    11h 25m   \n",
       "4  27-03-2022     Indigo      6E      7211    10:55  Hyderabad    03h 55m   \n",
       "\n",
       "                                                stop arr_time         to  ...  \\\n",
       "0                                          non-stop     23:00      Delhi  ...   \n",
       "1  1-stop\\n\\t\\t\\t\\t\\t\\t\\t\\t\\t\\t\\t\\t\\n\\t\\t\\t\\t\\t\\t...    17:45  Bangalore  ...   \n",
       "2  1-stop\\n\\t\\t\\t\\t\\t\\t\\t\\t\\t\\t\\t\\t\\n\\t\\t\\t\\t\\t\\t...    19:55    Chennai  ...   \n",
       "3  1-stop\\n\\t\\t\\t\\t\\t\\t\\t\\t\\t\\t\\t\\t\\n\\t\\t\\t\\t\\t\\t...    20:55  Bangalore  ...   \n",
       "4  1-stop\\n\\t\\t\\t\\t\\t\\t\\t\\t\\t\\t\\t\\t\\n\\t\\t\\t\\t\\t\\t...    14:50  Bangalore  ...   \n",
       "\n",
       "   arr_time_category  time_taken_minutes  stop0  stop1  stop2  dist  \\\n",
       "0                  0                 150    1.0    0.0    0.0  1300   \n",
       "1                  1                 535    0.0    1.0    0.0  1720   \n",
       "2                  1                1340    0.0    1.0    0.0  1840   \n",
       "3                  0                 685    0.0    1.0    0.0  1720   \n",
       "4                  1                 235    0.0    1.0    0.0  1680   \n",
       "\n",
       "   arr_time_x  arr_time_y  dep_time_x  dep_time_y  \n",
       "0    0.965926   -0.258819    0.608761   -0.793353  \n",
       "1   -0.065403   -0.997859   -0.675590    0.737277  \n",
       "2    0.480989   -0.876727    0.806445   -0.591310  \n",
       "3    0.691513   -0.722364   -0.793353    0.608761  \n",
       "4   -0.737277   -0.675590   -0.960050    0.279829  \n",
       "\n",
       "[5 rows x 24 columns]"
      ]
     },
     "execution_count": 79,
     "metadata": {},
     "output_type": "execute_result"
    }
   ],
   "source": [
    "df.head()"
   ]
  },
  {
   "cell_type": "code",
   "execution_count": null,
   "id": "24a4c550-fd59-4153-842f-296d3b780e60",
   "metadata": {},
   "outputs": [],
   "source": []
  },
  {
   "cell_type": "code",
   "execution_count": null,
   "id": "000a54ea-9039-4ecb-863f-1eb7694dacad",
   "metadata": {},
   "outputs": [],
   "source": []
  },
  {
   "cell_type": "code",
   "execution_count": null,
   "id": "f2389dbc-fcc6-4d4f-b36b-440d59664de9",
   "metadata": {},
   "outputs": [],
   "source": []
  },
  {
   "cell_type": "code",
   "execution_count": null,
   "id": "5b3c919b-1383-4352-8b1f-deaab3fed746",
   "metadata": {},
   "outputs": [],
   "source": []
  },
  {
   "cell_type": "code",
   "execution_count": null,
   "id": "99bbf248-178b-47dd-b061-3acb36d73994",
   "metadata": {},
   "outputs": [],
   "source": []
  },
  {
   "cell_type": "markdown",
   "id": "dd852c69-f33b-46f8-8d27-56f8d3e1eea3",
   "metadata": {},
   "source": [
    "# Подготовка данных"
   ]
  },
  {
   "cell_type": "markdown",
   "id": "8e7b89be-fd3e-4d49-bd27-027b5dbcb7db",
   "metadata": {},
   "source": [
    "Разделим таблицу на признаки и целевую переменную"
   ]
  },
  {
   "cell_type": "code",
   "execution_count": 81,
   "id": "fe046e77-12b1-4163-aded-fce0a3defac0",
   "metadata": {},
   "outputs": [],
   "source": [
    "X = df[df.columns[11:]]\n",
    "y = df[['price']]"
   ]
  },
  {
   "cell_type": "markdown",
   "id": "32f273dc-f34b-4bba-ac29-7918f1e31919",
   "metadata": {},
   "source": [
    "Разделим данные на тренировочные, валидационные и тестовые"
   ]
  },
  {
   "cell_type": "code",
   "execution_count": 82,
   "id": "f02f4299-b6db-4bc6-88b3-400bcae62f4f",
   "metadata": {},
   "outputs": [],
   "source": [
    "X_train, X_test, y_train, y_test = train_test_split(X, y, test_size=0.2, \\\n",
    "                                                    random_state=42, shuffle=True)\n",
    "X_train, X_val, y_train, y_val = train_test_split(X_train, y_train, test_size=0.3, \\\n",
    "                                                  random_state=42, shuffle=True)"
   ]
  },
  {
   "cell_type": "markdown",
   "id": "3e03d093-33b2-4ad3-a5a3-b2d8460ecd42",
   "metadata": {},
   "source": [
    "# Проанализируем данные"
   ]
  },
  {
   "cell_type": "markdown",
   "id": "8b7bde12-ca3b-4eda-a086-8fbf36e5b802",
   "metadata": {},
   "source": [
    "Посмотрим на корреляцию между признаками"
   ]
  },
  {
   "cell_type": "code",
   "execution_count": 83,
   "id": "7ca8485a-41c8-46e9-aac4-4b646603d205",
   "metadata": {},
   "outputs": [
    {
     "data": {
      "image/png": "[encoded data removed]",
      "text/plain": [
       "<Figure size 640x480 with 2 Axes>"
      ]
     },
     "metadata": {},
     "output_type": "display_data"
    }
   ],
   "source": [
    "sns.heatmap(pd.concat([X_train, y_train], axis=1).corr());"
   ]
  },
  {
   "cell_type": "code",
   "execution_count": 84,
   "id": "ee83c21f-70b2-4abc-b326-0d7a51ca1119",
   "metadata": {},
   "outputs": [
    {
     "data": {
      "text/html": [
       "<div>\n",
       "<style scoped>\n",
       "    .dataframe tbody tr th:only-of-type {\n",
       "        vertical-align: middle;\n",
       "    }\n",
       "\n",
       "    .dataframe tbody tr th {\n",
       "        vertical-align: top;\n",
       "    }\n",
       "\n",
       "    .dataframe thead th {\n",
       "        text-align: right;\n",
       "    }\n",
       "</style>\n",
       "<table border=\"1\" class=\"dataframe\">\n",
       "  <thead>\n",
       "    <tr style=\"text-align: right;\">\n",
       "      <th></th>\n",
       "      <th>class</th>\n",
       "      <th>stop_categories</th>\n",
       "      <th>dep_time_category</th>\n",
       "      <th>arr_time_category</th>\n",
       "      <th>time_taken_minutes</th>\n",
       "      <th>stop0</th>\n",
       "      <th>stop1</th>\n",
       "      <th>stop2</th>\n",
       "      <th>dist</th>\n",
       "      <th>arr_time_x</th>\n",
       "      <th>arr_time_y</th>\n",
       "      <th>dep_time_x</th>\n",
       "      <th>dep_time_y</th>\n",
       "      <th>price</th>\n",
       "    </tr>\n",
       "  </thead>\n",
       "  <tbody>\n",
       "    <tr>\n",
       "      <th>class</th>\n",
       "      <td>1.000000</td>\n",
       "      <td>0.000981</td>\n",
       "      <td>-0.020323</td>\n",
       "      <td>0.040046</td>\n",
       "      <td>0.139651</td>\n",
       "      <td>-0.068166</td>\n",
       "      <td>0.118533</td>\n",
       "      <td>-0.105900</td>\n",
       "      <td>-0.027567</td>\n",
       "      <td>-0.024478</td>\n",
       "      <td>-0.019072</td>\n",
       "      <td>0.033119</td>\n",
       "      <td>-0.022375</td>\n",
       "      <td>0.938257</td>\n",
       "    </tr>\n",
       "    <tr>\n",
       "      <th>stop_categories</th>\n",
       "      <td>0.000981</td>\n",
       "      <td>1.000000</td>\n",
       "      <td>0.050893</td>\n",
       "      <td>0.002871</td>\n",
       "      <td>0.467832</td>\n",
       "      <td>-0.857389</td>\n",
       "      <td>0.429828</td>\n",
       "      <td>0.580981</td>\n",
       "      <td>0.029039</td>\n",
       "      <td>0.046261</td>\n",
       "      <td>-0.070813</td>\n",
       "      <td>-0.108026</td>\n",
       "      <td>0.042145</td>\n",
       "      <td>0.119248</td>\n",
       "    </tr>\n",
       "    <tr>\n",
       "      <th>dep_time_category</th>\n",
       "      <td>-0.020323</td>\n",
       "      <td>0.050893</td>\n",
       "      <td>1.000000</td>\n",
       "      <td>-0.092548</td>\n",
       "      <td>-0.040761</td>\n",
       "      <td>-0.039830</td>\n",
       "      <td>0.015200</td>\n",
       "      <td>0.035585</td>\n",
       "      <td>0.012530</td>\n",
       "      <td>0.156380</td>\n",
       "      <td>-0.121007</td>\n",
       "      <td>-0.637225</td>\n",
       "      <td>-0.314229</td>\n",
       "      <td>-0.010840</td>\n",
       "    </tr>\n",
       "    <tr>\n",
       "      <th>arr_time_category</th>\n",
       "      <td>0.040046</td>\n",
       "      <td>0.002871</td>\n",
       "      <td>-0.092548</td>\n",
       "      <td>1.000000</td>\n",
       "      <td>0.109866</td>\n",
       "      <td>-0.012389</td>\n",
       "      <td>0.018651</td>\n",
       "      <td>-0.014032</td>\n",
       "      <td>0.025487</td>\n",
       "      <td>-0.770871</td>\n",
       "      <td>-0.056496</td>\n",
       "      <td>0.055879</td>\n",
       "      <td>0.085197</td>\n",
       "      <td>0.039503</td>\n",
       "    </tr>\n",
       "    <tr>\n",
       "      <th>time_taken_minutes</th>\n",
       "      <td>0.139651</td>\n",
       "      <td>0.467832</td>\n",
       "      <td>-0.040761</td>\n",
       "      <td>0.109866</td>\n",
       "      <td>1.000000</td>\n",
       "      <td>-0.514013</td>\n",
       "      <td>0.399151</td>\n",
       "      <td>0.093260</td>\n",
       "      <td>0.005509</td>\n",
       "      <td>-0.109868</td>\n",
       "      <td>0.047400</td>\n",
       "      <td>0.139339</td>\n",
       "      <td>-0.121594</td>\n",
       "      <td>0.204962</td>\n",
       "    </tr>\n",
       "    <tr>\n",
       "      <th>stop0</th>\n",
       "      <td>-0.068166</td>\n",
       "      <td>-0.857389</td>\n",
       "      <td>-0.039830</td>\n",
       "      <td>-0.012389</td>\n",
       "      <td>-0.514013</td>\n",
       "      <td>1.000000</td>\n",
       "      <td>-0.833230</td>\n",
       "      <td>-0.079229</td>\n",
       "      <td>-0.019533</td>\n",
       "      <td>-0.032905</td>\n",
       "      <td>0.076891</td>\n",
       "      <td>0.077758</td>\n",
       "      <td>-0.021519</td>\n",
       "      <td>-0.186555</td>\n",
       "    </tr>\n",
       "    <tr>\n",
       "      <th>stop1</th>\n",
       "      <td>0.118533</td>\n",
       "      <td>0.429828</td>\n",
       "      <td>0.015200</td>\n",
       "      <td>0.018651</td>\n",
       "      <td>0.399151</td>\n",
       "      <td>-0.833230</td>\n",
       "      <td>1.000000</td>\n",
       "      <td>-0.485172</td>\n",
       "      <td>0.003070</td>\n",
       "      <td>0.008027</td>\n",
       "      <td>-0.058818</td>\n",
       "      <td>-0.020359</td>\n",
       "      <td>-0.007526</td>\n",
       "      <td>0.199171</td>\n",
       "    </tr>\n",
       "    <tr>\n",
       "      <th>stop2</th>\n",
       "      <td>-0.105900</td>\n",
       "      <td>0.580981</td>\n",
       "      <td>0.035585</td>\n",
       "      <td>-0.014032</td>\n",
       "      <td>0.093260</td>\n",
       "      <td>-0.079229</td>\n",
       "      <td>-0.485172</td>\n",
       "      <td>1.000000</td>\n",
       "      <td>0.025355</td>\n",
       "      <td>0.037566</td>\n",
       "      <td>-0.015558</td>\n",
       "      <td>-0.086264</td>\n",
       "      <td>0.047599</td>\n",
       "      <td>-0.064055</td>\n",
       "    </tr>\n",
       "    <tr>\n",
       "      <th>dist</th>\n",
       "      <td>-0.027567</td>\n",
       "      <td>0.029039</td>\n",
       "      <td>0.012530</td>\n",
       "      <td>0.025487</td>\n",
       "      <td>0.005509</td>\n",
       "      <td>-0.019533</td>\n",
       "      <td>0.003070</td>\n",
       "      <td>0.025355</td>\n",
       "      <td>1.000000</td>\n",
       "      <td>-0.001424</td>\n",
       "      <td>-0.000205</td>\n",
       "      <td>-0.016778</td>\n",
       "      <td>-0.017798</td>\n",
       "      <td>-0.025149</td>\n",
       "    </tr>\n",
       "    <tr>\n",
       "      <th>arr_time_x</th>\n",
       "      <td>-0.024478</td>\n",
       "      <td>0.046261</td>\n",
       "      <td>0.156380</td>\n",
       "      <td>-0.770871</td>\n",
       "      <td>-0.109868</td>\n",
       "      <td>-0.032905</td>\n",
       "      <td>0.008027</td>\n",
       "      <td>0.037566</td>\n",
       "      <td>-0.001424</td>\n",
       "      <td>1.000000</td>\n",
       "      <td>-0.359079</td>\n",
       "      <td>-0.173729</td>\n",
       "      <td>-0.048557</td>\n",
       "      <td>-0.005102</td>\n",
       "    </tr>\n",
       "    <tr>\n",
       "      <th>arr_time_y</th>\n",
       "      <td>-0.019072</td>\n",
       "      <td>-0.070813</td>\n",
       "      <td>-0.121007</td>\n",
       "      <td>-0.056496</td>\n",
       "      <td>0.047400</td>\n",
       "      <td>0.076891</td>\n",
       "      <td>-0.058818</td>\n",
       "      <td>-0.015558</td>\n",
       "      <td>-0.000205</td>\n",
       "      <td>-0.359079</td>\n",
       "      <td>1.000000</td>\n",
       "      <td>0.287002</td>\n",
       "      <td>-0.164115</td>\n",
       "      <td>-0.047518</td>\n",
       "    </tr>\n",
       "    <tr>\n",
       "      <th>dep_time_x</th>\n",
       "      <td>0.033119</td>\n",
       "      <td>-0.108026</td>\n",
       "      <td>-0.637225</td>\n",
       "      <td>0.055879</td>\n",
       "      <td>0.139339</td>\n",
       "      <td>0.077758</td>\n",
       "      <td>-0.020359</td>\n",
       "      <td>-0.086264</td>\n",
       "      <td>-0.016778</td>\n",
       "      <td>-0.173729</td>\n",
       "      <td>0.287002</td>\n",
       "      <td>1.000000</td>\n",
       "      <td>-0.349877</td>\n",
       "      <td>0.017301</td>\n",
       "    </tr>\n",
       "    <tr>\n",
       "      <th>dep_time_y</th>\n",
       "      <td>-0.022375</td>\n",
       "      <td>0.042145</td>\n",
       "      <td>-0.314229</td>\n",
       "      <td>0.085197</td>\n",
       "      <td>-0.121594</td>\n",
       "      <td>-0.021519</td>\n",
       "      <td>-0.007526</td>\n",
       "      <td>0.047599</td>\n",
       "      <td>-0.017798</td>\n",
       "      <td>-0.048557</td>\n",
       "      <td>-0.164115</td>\n",
       "      <td>-0.349877</td>\n",
       "      <td>1.000000</td>\n",
       "      <td>-0.018969</td>\n",
       "    </tr>\n",
       "    <tr>\n",
       "      <th>price</th>\n",
       "      <td>0.938257</td>\n",
       "      <td>0.119248</td>\n",
       "      <td>-0.010840</td>\n",
       "      <td>0.039503</td>\n",
       "      <td>0.204962</td>\n",
       "      <td>-0.186555</td>\n",
       "      <td>0.199171</td>\n",
       "      <td>-0.064055</td>\n",
       "      <td>-0.025149</td>\n",
       "      <td>-0.005102</td>\n",
       "      <td>-0.047518</td>\n",
       "      <td>0.017301</td>\n",
       "      <td>-0.018969</td>\n",
       "      <td>1.000000</td>\n",
       "    </tr>\n",
       "  </tbody>\n",
       "</table>\n",
       "</div>"
      ],
      "text/plain": [
       "                       class  stop_categories  dep_time_category  \\\n",
       "class               1.000000         0.000981          -0.020323   \n",
       "stop_categories     0.000981         1.000000           0.050893   \n",
       "dep_time_category  -0.020323         0.050893           1.000000   \n",
       "arr_time_category   0.040046         0.002871          -0.092548   \n",
       "time_taken_minutes  0.139651         0.467832          -0.040761   \n",
       "stop0              -0.068166        -0.857389          -0.039830   \n",
       "stop1               0.118533         0.429828           0.015200   \n",
       "stop2              -0.105900         0.580981           0.035585   \n",
       "dist               -0.027567         0.029039           0.012530   \n",
       "arr_time_x         -0.024478         0.046261           0.156380   \n",
       "arr_time_y         -0.019072        -0.070813          -0.121007   \n",
       "dep_time_x          0.033119        -0.108026          -0.637225   \n",
       "dep_time_y         -0.022375         0.042145          -0.314229   \n",
       "price               0.938257         0.119248          -0.010840   \n",
       "\n",
       "                    arr_time_category  time_taken_minutes     stop0     stop1  \\\n",
       "class                        0.040046            0.139651 -0.068166  0.118533   \n",
       "stop_categories              0.002871            0.467832 -0.857389  0.429828   \n",
       "dep_time_category           -0.092548           -0.040761 -0.039830  0.015200   \n",
       "arr_time_category            1.000000            0.109866 -0.012389  0.018651   \n",
       "time_taken_minutes           0.109866            1.000000 -0.514013  0.399151   \n",
       "stop0                       -0.012389           -0.514013  1.000000 -0.833230   \n",
       "stop1                        0.018651            0.399151 -0.833230  1.000000   \n",
       "stop2                       -0.014032            0.093260 -0.079229 -0.485172   \n",
       "dist                         0.025487            0.005509 -0.019533  0.003070   \n",
       "arr_time_x                  -0.770871           -0.109868 -0.032905  0.008027   \n",
       "arr_time_y                  -0.056496            0.047400  0.076891 -0.058818   \n",
       "dep_time_x                   0.055879            0.139339  0.077758 -0.020359   \n",
       "dep_time_y                   0.085197           -0.121594 -0.021519 -0.007526   \n",
       "price                        0.039503            0.204962 -0.186555  0.199171   \n",
       "\n",
       "                       stop2      dist  arr_time_x  arr_time_y  dep_time_x  \\\n",
       "class              -0.105900 -0.027567   -0.024478   -0.019072    0.033119   \n",
       "stop_categories     0.580981  0.029039    0.046261   -0.070813   -0.108026   \n",
       "dep_time_category   0.035585  0.012530    0.156380   -0.121007   -0.637225   \n",
       "arr_time_category  -0.014032  0.025487   -0.770871   -0.056496    0.055879   \n",
       "time_taken_minutes  0.093260  0.005509   -0.109868    0.047400    0.139339   \n",
       "stop0              -0.079229 -0.019533   -0.032905    0.076891    0.077758   \n",
       "stop1              -0.485172  0.003070    0.008027   -0.058818   -0.020359   \n",
       "stop2               1.000000  0.025355    0.037566   -0.015558   -0.086264   \n",
       "dist                0.025355  1.000000   -0.001424   -0.000205   -0.016778   \n",
       "arr_time_x          0.037566 -0.001424    1.000000   -0.359079   -0.173729   \n",
       "arr_time_y         -0.015558 -0.000205   -0.359079    1.000000    0.287002   \n",
       "dep_time_x         -0.086264 -0.016778   -0.173729    0.287002    1.000000   \n",
       "dep_time_y          0.047599 -0.017798   -0.048557   -0.164115   -0.349877   \n",
       "price              -0.064055 -0.025149   -0.005102   -0.047518    0.017301   \n",
       "\n",
       "                    dep_time_y     price  \n",
       "class                -0.022375  0.938257  \n",
       "stop_categories       0.042145  0.119248  \n",
       "dep_time_category    -0.314229 -0.010840  \n",
       "arr_time_category     0.085197  0.039503  \n",
       "time_taken_minutes   -0.121594  0.204962  \n",
       "stop0                -0.021519 -0.186555  \n",
       "stop1                -0.007526  0.199171  \n",
       "stop2                 0.047599 -0.064055  \n",
       "dist                 -0.017798 -0.025149  \n",
       "arr_time_x           -0.048557 -0.005102  \n",
       "arr_time_y           -0.164115 -0.047518  \n",
       "dep_time_x           -0.349877  0.017301  \n",
       "dep_time_y            1.000000 -0.018969  \n",
       "price                -0.018969  1.000000  "
      ]
     },
     "execution_count": 84,
     "metadata": {},
     "output_type": "execute_result"
    }
   ],
   "source": [
    "pd.DataFrame(pd.concat([X_train, y_train], axis=1).corr())"
   ]
  },
  {
   "cell_type": "markdown",
   "id": "22abf8fa-d2c0-46db-b171-d04dd5e4379b",
   "metadata": {},
   "source": [
    "# Нормализация данных"
   ]
  },
  {
   "cell_type": "markdown",
   "id": "3c8c4839-fc1c-474f-bb5d-600da48d53d6",
   "metadata": {},
   "source": [
    "Проведём нормализацию данных"
   ]
  },
  {
   "cell_type": "code",
   "execution_count": 86,
   "id": "f5ba03aa-3b63-4c8c-8999-4fc02b9dba39",
   "metadata": {},
   "outputs": [
    {
     "ename": "ValueError",
     "evalue": "Expected a 2-dimensional container but got <class 'pandas.core.series.Series'> instead. Pass a DataFrame containing a single row (i.e. single sample) or a single column (i.e. single feature) instead.",
     "output_type": "error",
     "traceback": [
      "\u001b[1;31m---------------------------------------------------------------------------\u001b[0m",
      "\u001b[1;31mValueError\u001b[0m                                Traceback (most recent call last)",
      "Cell \u001b[1;32mIn[86], line 10\u001b[0m\n\u001b[0;32m      6\u001b[0m X_test[\u001b[38;5;124m'\u001b[39m\u001b[38;5;124mtime_taken_minutes\u001b[39m\u001b[38;5;124m'\u001b[39m] \u001b[38;5;241m=\u001b[39m \\\n\u001b[0;32m      7\u001b[0m time_taken_minutes_scaler\u001b[38;5;241m.\u001b[39mtransform(X_test[[\u001b[38;5;124m'\u001b[39m\u001b[38;5;124mtime_taken_minutes\u001b[39m\u001b[38;5;124m'\u001b[39m]])\n\u001b[0;32m      9\u001b[0m dist_scaler \u001b[38;5;241m=\u001b[39m MinMaxScaler()\n\u001b[1;32m---> 10\u001b[0m X_train[\u001b[38;5;124m'\u001b[39m\u001b[38;5;124mdist\u001b[39m\u001b[38;5;124m'\u001b[39m] \u001b[38;5;241m=\u001b[39m \u001b[43mdist_scaler\u001b[49m\u001b[38;5;241;43m.\u001b[39;49m\u001b[43mfit_transform\u001b[49m\u001b[43m(\u001b[49m\u001b[43mX_train\u001b[49m\u001b[43m[\u001b[49m\u001b[38;5;124;43m'\u001b[39;49m\u001b[38;5;124;43mdist\u001b[39;49m\u001b[38;5;124;43m'\u001b[39;49m\u001b[43m]\u001b[49m\u001b[43m)\u001b[49m\n\u001b[0;32m     11\u001b[0m X_val[\u001b[38;5;124m'\u001b[39m\u001b[38;5;124mdist\u001b[39m\u001b[38;5;124m'\u001b[39m] \u001b[38;5;241m=\u001b[39m dist_scaler\u001b[38;5;241m.\u001b[39mtransform(X_val[\u001b[38;5;124m'\u001b[39m\u001b[38;5;124mdist\u001b[39m\u001b[38;5;124m'\u001b[39m])\n\u001b[0;32m     12\u001b[0m X_test[\u001b[38;5;124m'\u001b[39m\u001b[38;5;124mdist\u001b[39m\u001b[38;5;124m'\u001b[39m] \u001b[38;5;241m=\u001b[39m dist_scaler\u001b[38;5;241m.\u001b[39mtransform(X_test[\u001b[38;5;124m'\u001b[39m\u001b[38;5;124mdist\u001b[39m\u001b[38;5;124m'\u001b[39m])\n",
      "File \u001b[1;32m~\\AppData\\Local\\Programs\\Python\\Python312\\Lib\\site-packages\\sklearn\\utils\\_set_output.py:295\u001b[0m, in \u001b[0;36m_wrap_method_output.<locals>.wrapped\u001b[1;34m(self, X, *args, **kwargs)\u001b[0m\n\u001b[0;32m    293\u001b[0m \u001b[38;5;129m@wraps\u001b[39m(f)\n\u001b[0;32m    294\u001b[0m \u001b[38;5;28;01mdef\u001b[39;00m \u001b[38;5;21mwrapped\u001b[39m(\u001b[38;5;28mself\u001b[39m, X, \u001b[38;5;241m*\u001b[39margs, \u001b[38;5;241m*\u001b[39m\u001b[38;5;241m*\u001b[39mkwargs):\n\u001b[1;32m--> 295\u001b[0m     data_to_wrap \u001b[38;5;241m=\u001b[39m \u001b[43mf\u001b[49m\u001b[43m(\u001b[49m\u001b[38;5;28;43mself\u001b[39;49m\u001b[43m,\u001b[49m\u001b[43m \u001b[49m\u001b[43mX\u001b[49m\u001b[43m,\u001b[49m\u001b[43m \u001b[49m\u001b[38;5;241;43m*\u001b[39;49m\u001b[43margs\u001b[49m\u001b[43m,\u001b[49m\u001b[43m \u001b[49m\u001b[38;5;241;43m*\u001b[39;49m\u001b[38;5;241;43m*\u001b[39;49m\u001b[43mkwargs\u001b[49m\u001b[43m)\u001b[49m\n\u001b[0;32m    296\u001b[0m     \u001b[38;5;28;01mif\u001b[39;00m \u001b[38;5;28misinstance\u001b[39m(data_to_wrap, \u001b[38;5;28mtuple\u001b[39m):\n\u001b[0;32m    297\u001b[0m         \u001b[38;5;66;03m# only wrap the first output for cross decomposition\u001b[39;00m\n\u001b[0;32m    298\u001b[0m         return_tuple \u001b[38;5;241m=\u001b[39m (\n\u001b[0;32m    299\u001b[0m             _wrap_data_with_container(method, data_to_wrap[\u001b[38;5;241m0\u001b[39m], X, \u001b[38;5;28mself\u001b[39m),\n\u001b[0;32m    300\u001b[0m             \u001b[38;5;241m*\u001b[39mdata_to_wrap[\u001b[38;5;241m1\u001b[39m:],\n\u001b[0;32m    301\u001b[0m         )\n",
      "File \u001b[1;32m~\\AppData\\Local\\Programs\\Python\\Python312\\Lib\\site-packages\\sklearn\\base.py:1098\u001b[0m, in \u001b[0;36mTransformerMixin.fit_transform\u001b[1;34m(self, X, y, **fit_params)\u001b[0m\n\u001b[0;32m   1083\u001b[0m         warnings\u001b[38;5;241m.\u001b[39mwarn(\n\u001b[0;32m   1084\u001b[0m             (\n\u001b[0;32m   1085\u001b[0m                 \u001b[38;5;124mf\u001b[39m\u001b[38;5;124m\"\u001b[39m\u001b[38;5;124mThis object (\u001b[39m\u001b[38;5;132;01m{\u001b[39;00m\u001b[38;5;28mself\u001b[39m\u001b[38;5;241m.\u001b[39m\u001b[38;5;18m__class__\u001b[39m\u001b[38;5;241m.\u001b[39m\u001b[38;5;18m__name__\u001b[39m\u001b[38;5;132;01m}\u001b[39;00m\u001b[38;5;124m) has a `transform`\u001b[39m\u001b[38;5;124m\"\u001b[39m\n\u001b[1;32m   (...)\u001b[0m\n\u001b[0;32m   1093\u001b[0m             \u001b[38;5;167;01mUserWarning\u001b[39;00m,\n\u001b[0;32m   1094\u001b[0m         )\n\u001b[0;32m   1096\u001b[0m \u001b[38;5;28;01mif\u001b[39;00m y \u001b[38;5;129;01mis\u001b[39;00m \u001b[38;5;28;01mNone\u001b[39;00m:\n\u001b[0;32m   1097\u001b[0m     \u001b[38;5;66;03m# fit method of arity 1 (unsupervised transformation)\u001b[39;00m\n\u001b[1;32m-> 1098\u001b[0m     \u001b[38;5;28;01mreturn\u001b[39;00m \u001b[38;5;28;43mself\u001b[39;49m\u001b[38;5;241;43m.\u001b[39;49m\u001b[43mfit\u001b[49m\u001b[43m(\u001b[49m\u001b[43mX\u001b[49m\u001b[43m,\u001b[49m\u001b[43m \u001b[49m\u001b[38;5;241;43m*\u001b[39;49m\u001b[38;5;241;43m*\u001b[39;49m\u001b[43mfit_params\u001b[49m\u001b[43m)\u001b[49m\u001b[38;5;241m.\u001b[39mtransform(X)\n\u001b[0;32m   1099\u001b[0m \u001b[38;5;28;01melse\u001b[39;00m:\n\u001b[0;32m   1100\u001b[0m     \u001b[38;5;66;03m# fit method of arity 2 (supervised transformation)\u001b[39;00m\n\u001b[0;32m   1101\u001b[0m     \u001b[38;5;28;01mreturn\u001b[39;00m \u001b[38;5;28mself\u001b[39m\u001b[38;5;241m.\u001b[39mfit(X, y, \u001b[38;5;241m*\u001b[39m\u001b[38;5;241m*\u001b[39mfit_params)\u001b[38;5;241m.\u001b[39mtransform(X)\n",
      "File \u001b[1;32m~\\AppData\\Local\\Programs\\Python\\Python312\\Lib\\site-packages\\sklearn\\preprocessing\\_data.py:450\u001b[0m, in \u001b[0;36mMinMaxScaler.fit\u001b[1;34m(self, X, y)\u001b[0m\n\u001b[0;32m    448\u001b[0m \u001b[38;5;66;03m# Reset internal state before fitting\u001b[39;00m\n\u001b[0;32m    449\u001b[0m \u001b[38;5;28mself\u001b[39m\u001b[38;5;241m.\u001b[39m_reset()\n\u001b[1;32m--> 450\u001b[0m \u001b[38;5;28;01mreturn\u001b[39;00m \u001b[38;5;28;43mself\u001b[39;49m\u001b[38;5;241;43m.\u001b[39;49m\u001b[43mpartial_fit\u001b[49m\u001b[43m(\u001b[49m\u001b[43mX\u001b[49m\u001b[43m,\u001b[49m\u001b[43m \u001b[49m\u001b[43my\u001b[49m\u001b[43m)\u001b[49m\n",
      "File \u001b[1;32m~\\AppData\\Local\\Programs\\Python\\Python312\\Lib\\site-packages\\sklearn\\base.py:1474\u001b[0m, in \u001b[0;36m_fit_context.<locals>.decorator.<locals>.wrapper\u001b[1;34m(estimator, *args, **kwargs)\u001b[0m\n\u001b[0;32m   1467\u001b[0m     estimator\u001b[38;5;241m.\u001b[39m_validate_params()\n\u001b[0;32m   1469\u001b[0m \u001b[38;5;28;01mwith\u001b[39;00m config_context(\n\u001b[0;32m   1470\u001b[0m     skip_parameter_validation\u001b[38;5;241m=\u001b[39m(\n\u001b[0;32m   1471\u001b[0m         prefer_skip_nested_validation \u001b[38;5;129;01mor\u001b[39;00m global_skip_validation\n\u001b[0;32m   1472\u001b[0m     )\n\u001b[0;32m   1473\u001b[0m ):\n\u001b[1;32m-> 1474\u001b[0m     \u001b[38;5;28;01mreturn\u001b[39;00m \u001b[43mfit_method\u001b[49m\u001b[43m(\u001b[49m\u001b[43mestimator\u001b[49m\u001b[43m,\u001b[49m\u001b[43m \u001b[49m\u001b[38;5;241;43m*\u001b[39;49m\u001b[43margs\u001b[49m\u001b[43m,\u001b[49m\u001b[43m \u001b[49m\u001b[38;5;241;43m*\u001b[39;49m\u001b[38;5;241;43m*\u001b[39;49m\u001b[43mkwargs\u001b[49m\u001b[43m)\u001b[49m\n",
      "File \u001b[1;32m~\\AppData\\Local\\Programs\\Python\\Python312\\Lib\\site-packages\\sklearn\\preprocessing\\_data.py:490\u001b[0m, in \u001b[0;36mMinMaxScaler.partial_fit\u001b[1;34m(self, X, y)\u001b[0m\n\u001b[0;32m    487\u001b[0m xp, _ \u001b[38;5;241m=\u001b[39m get_namespace(X)\n\u001b[0;32m    489\u001b[0m first_pass \u001b[38;5;241m=\u001b[39m \u001b[38;5;129;01mnot\u001b[39;00m \u001b[38;5;28mhasattr\u001b[39m(\u001b[38;5;28mself\u001b[39m, \u001b[38;5;124m\"\u001b[39m\u001b[38;5;124mn_samples_seen_\u001b[39m\u001b[38;5;124m\"\u001b[39m)\n\u001b[1;32m--> 490\u001b[0m X \u001b[38;5;241m=\u001b[39m \u001b[38;5;28;43mself\u001b[39;49m\u001b[38;5;241;43m.\u001b[39;49m\u001b[43m_validate_data\u001b[49m\u001b[43m(\u001b[49m\n\u001b[0;32m    491\u001b[0m \u001b[43m    \u001b[49m\u001b[43mX\u001b[49m\u001b[43m,\u001b[49m\n\u001b[0;32m    492\u001b[0m \u001b[43m    \u001b[49m\u001b[43mreset\u001b[49m\u001b[38;5;241;43m=\u001b[39;49m\u001b[43mfirst_pass\u001b[49m\u001b[43m,\u001b[49m\n\u001b[0;32m    493\u001b[0m \u001b[43m    \u001b[49m\u001b[43mdtype\u001b[49m\u001b[38;5;241;43m=\u001b[39;49m\u001b[43m_array_api\u001b[49m\u001b[38;5;241;43m.\u001b[39;49m\u001b[43msupported_float_dtypes\u001b[49m\u001b[43m(\u001b[49m\u001b[43mxp\u001b[49m\u001b[43m)\u001b[49m\u001b[43m,\u001b[49m\n\u001b[0;32m    494\u001b[0m \u001b[43m    \u001b[49m\u001b[43mforce_all_finite\u001b[49m\u001b[38;5;241;43m=\u001b[39;49m\u001b[38;5;124;43m\"\u001b[39;49m\u001b[38;5;124;43mallow-nan\u001b[39;49m\u001b[38;5;124;43m\"\u001b[39;49m\u001b[43m,\u001b[49m\n\u001b[0;32m    495\u001b[0m \u001b[43m\u001b[49m\u001b[43m)\u001b[49m\n\u001b[0;32m    497\u001b[0m data_min \u001b[38;5;241m=\u001b[39m _array_api\u001b[38;5;241m.\u001b[39m_nanmin(X, axis\u001b[38;5;241m=\u001b[39m\u001b[38;5;241m0\u001b[39m)\n\u001b[0;32m    498\u001b[0m data_max \u001b[38;5;241m=\u001b[39m _array_api\u001b[38;5;241m.\u001b[39m_nanmax(X, axis\u001b[38;5;241m=\u001b[39m\u001b[38;5;241m0\u001b[39m)\n",
      "File \u001b[1;32m~\\AppData\\Local\\Programs\\Python\\Python312\\Lib\\site-packages\\sklearn\\base.py:633\u001b[0m, in \u001b[0;36mBaseEstimator._validate_data\u001b[1;34m(self, X, y, reset, validate_separately, cast_to_ndarray, **check_params)\u001b[0m\n\u001b[0;32m    631\u001b[0m         out \u001b[38;5;241m=\u001b[39m X, y\n\u001b[0;32m    632\u001b[0m \u001b[38;5;28;01melif\u001b[39;00m \u001b[38;5;129;01mnot\u001b[39;00m no_val_X \u001b[38;5;129;01mand\u001b[39;00m no_val_y:\n\u001b[1;32m--> 633\u001b[0m     out \u001b[38;5;241m=\u001b[39m \u001b[43mcheck_array\u001b[49m\u001b[43m(\u001b[49m\u001b[43mX\u001b[49m\u001b[43m,\u001b[49m\u001b[43m \u001b[49m\u001b[43minput_name\u001b[49m\u001b[38;5;241;43m=\u001b[39;49m\u001b[38;5;124;43m\"\u001b[39;49m\u001b[38;5;124;43mX\u001b[39;49m\u001b[38;5;124;43m\"\u001b[39;49m\u001b[43m,\u001b[49m\u001b[43m \u001b[49m\u001b[38;5;241;43m*\u001b[39;49m\u001b[38;5;241;43m*\u001b[39;49m\u001b[43mcheck_params\u001b[49m\u001b[43m)\u001b[49m\n\u001b[0;32m    634\u001b[0m \u001b[38;5;28;01melif\u001b[39;00m no_val_X \u001b[38;5;129;01mand\u001b[39;00m \u001b[38;5;129;01mnot\u001b[39;00m no_val_y:\n\u001b[0;32m    635\u001b[0m     out \u001b[38;5;241m=\u001b[39m _check_y(y, \u001b[38;5;241m*\u001b[39m\u001b[38;5;241m*\u001b[39mcheck_params)\n",
      "File \u001b[1;32m~\\AppData\\Local\\Programs\\Python\\Python312\\Lib\\site-packages\\sklearn\\utils\\validation.py:1035\u001b[0m, in \u001b[0;36mcheck_array\u001b[1;34m(array, accept_sparse, accept_large_sparse, dtype, order, copy, force_all_finite, ensure_2d, allow_nd, ensure_min_samples, ensure_min_features, estimator, input_name)\u001b[0m\n\u001b[0;32m   1028\u001b[0m         \u001b[38;5;28;01melse\u001b[39;00m:\n\u001b[0;32m   1029\u001b[0m             msg \u001b[38;5;241m=\u001b[39m (\n\u001b[0;32m   1030\u001b[0m                 \u001b[38;5;124mf\u001b[39m\u001b[38;5;124m\"\u001b[39m\u001b[38;5;124mExpected 2D array, got 1D array instead:\u001b[39m\u001b[38;5;130;01m\\n\u001b[39;00m\u001b[38;5;124marray=\u001b[39m\u001b[38;5;132;01m{\u001b[39;00marray\u001b[38;5;132;01m}\u001b[39;00m\u001b[38;5;124m.\u001b[39m\u001b[38;5;130;01m\\n\u001b[39;00m\u001b[38;5;124m\"\u001b[39m\n\u001b[0;32m   1031\u001b[0m                 \u001b[38;5;124m\"\u001b[39m\u001b[38;5;124mReshape your data either using array.reshape(-1, 1) if \u001b[39m\u001b[38;5;124m\"\u001b[39m\n\u001b[0;32m   1032\u001b[0m                 \u001b[38;5;124m\"\u001b[39m\u001b[38;5;124myour data has a single feature or array.reshape(1, -1) \u001b[39m\u001b[38;5;124m\"\u001b[39m\n\u001b[0;32m   1033\u001b[0m                 \u001b[38;5;124m\"\u001b[39m\u001b[38;5;124mif it contains a single sample.\u001b[39m\u001b[38;5;124m\"\u001b[39m\n\u001b[0;32m   1034\u001b[0m             )\n\u001b[1;32m-> 1035\u001b[0m         \u001b[38;5;28;01mraise\u001b[39;00m \u001b[38;5;167;01mValueError\u001b[39;00m(msg)\n\u001b[0;32m   1037\u001b[0m \u001b[38;5;28;01mif\u001b[39;00m dtype_numeric \u001b[38;5;129;01mand\u001b[39;00m \u001b[38;5;28mhasattr\u001b[39m(array\u001b[38;5;241m.\u001b[39mdtype, \u001b[38;5;124m\"\u001b[39m\u001b[38;5;124mkind\u001b[39m\u001b[38;5;124m\"\u001b[39m) \u001b[38;5;129;01mand\u001b[39;00m array\u001b[38;5;241m.\u001b[39mdtype\u001b[38;5;241m.\u001b[39mkind \u001b[38;5;129;01min\u001b[39;00m \u001b[38;5;124m\"\u001b[39m\u001b[38;5;124mUSV\u001b[39m\u001b[38;5;124m\"\u001b[39m:\n\u001b[0;32m   1038\u001b[0m     \u001b[38;5;28;01mraise\u001b[39;00m \u001b[38;5;167;01mValueError\u001b[39;00m(\n\u001b[0;32m   1039\u001b[0m         \u001b[38;5;124m\"\u001b[39m\u001b[38;5;124mdtype=\u001b[39m\u001b[38;5;124m'\u001b[39m\u001b[38;5;124mnumeric\u001b[39m\u001b[38;5;124m'\u001b[39m\u001b[38;5;124m is not compatible with arrays of bytes/strings.\u001b[39m\u001b[38;5;124m\"\u001b[39m\n\u001b[0;32m   1040\u001b[0m         \u001b[38;5;124m\"\u001b[39m\u001b[38;5;124mConvert your data to numeric values explicitly instead.\u001b[39m\u001b[38;5;124m\"\u001b[39m\n\u001b[0;32m   1041\u001b[0m     )\n",
      "\u001b[1;31mValueError\u001b[0m: Expected a 2-dimensional container but got <class 'pandas.core.series.Series'> instead. Pass a DataFrame containing a single row (i.e. single sample) or a single column (i.e. single feature) instead."
     ]
    }
   ],
   "source": [
    "time_taken_minutes_scaler = MinMaxScaler()\n",
    "X_train['time_taken_minutes'] = \\\n",
    "time_taken_minutes_scaler.fit_transform(X_train[['time_taken_minutes']])\n",
    "X_val['time_taken_minutes'] = \\\n",
    "time_taken_minutes_scaler.transform(X_val[['time_taken_minutes']])\n",
    "X_test['time_taken_minutes'] = \\\n",
    "time_taken_minutes_scaler.transform(X_test[['time_taken_minutes']])\n",
    "\n",
    "dist_scaler = MinMaxScaler()\n",
    "X_train['dist'] = dist_scaler.fit_transform(X_train['dist'])\n",
    "X_val['dist'] = dist_scaler.transform(X_val['dist'])\n",
    "X_test['dist'] = dist_scaler.transform(X_test['dist'])\n",
    "X_val.head()"
   ]
  },
  {
   "cell_type": "code",
   "execution_count": 19,
   "id": "873b3bc7-598f-4d24-8586-33f8d3be217b",
   "metadata": {},
   "outputs": [
    {
     "data": {
      "text/html": [
       "<div>\n",
       "<style scoped>\n",
       "    .dataframe tbody tr th:only-of-type {\n",
       "        vertical-align: middle;\n",
       "    }\n",
       "\n",
       "    .dataframe tbody tr th {\n",
       "        vertical-align: top;\n",
       "    }\n",
       "\n",
       "    .dataframe thead th {\n",
       "        text-align: right;\n",
       "    }\n",
       "</style>\n",
       "<table border=\"1\" class=\"dataframe\">\n",
       "  <thead>\n",
       "    <tr style=\"text-align: right;\">\n",
       "      <th></th>\n",
       "      <th>price</th>\n",
       "    </tr>\n",
       "  </thead>\n",
       "  <tbody>\n",
       "    <tr>\n",
       "      <th>36087</th>\n",
       "      <td>0.213686</td>\n",
       "    </tr>\n",
       "    <tr>\n",
       "      <th>70798</th>\n",
       "      <td>0.240460</td>\n",
       "    </tr>\n",
       "    <tr>\n",
       "      <th>21790</th>\n",
       "      <td>0.121956</td>\n",
       "    </tr>\n",
       "    <tr>\n",
       "      <th>37486</th>\n",
       "      <td>0.336273</td>\n",
       "    </tr>\n",
       "    <tr>\n",
       "      <th>64033</th>\n",
       "      <td>0.371635</td>\n",
       "    </tr>\n",
       "  </tbody>\n",
       "</table>\n",
       "</div>"
      ],
      "text/plain": [
       "          price\n",
       "36087  0.213686\n",
       "70798  0.240460\n",
       "21790  0.121956\n",
       "37486  0.336273\n",
       "64033  0.371635"
      ]
     },
     "execution_count": 19,
     "metadata": {},
     "output_type": "execute_result"
    }
   ],
   "source": [
    "price_scaler = MinMaxScaler()\n",
    "y_train['price'] = price_scaler.fit_transform(y_train[['price']])\n",
    "y_val['price'] = price_scaler.transform(y_val[['price']])\n",
    "y_test['price'] = price_scaler.transform(y_test[['price']])\n",
    "y_test.head()"
   ]
  },
  {
   "cell_type": "markdown",
   "id": "64e07d4c-5aac-4466-836d-7cdf12ed9c1c",
   "metadata": {},
   "source": [
    "# Подготовка датасета для нейронной сети"
   ]
  },
  {
   "cell_type": "markdown",
   "id": "c76389a0-0ae1-43fc-aa4c-c3358c2d269a",
   "metadata": {},
   "source": [
    "Создаём объекты для загрузки данных"
   ]
  },
  {
   "cell_type": "code",
   "execution_count": 20,
   "id": "98dca110-dbf3-4d75-a1f8-13a0812f2ba1",
   "metadata": {},
   "outputs": [],
   "source": [
    "class TicketsDataset(Dataset):\n",
    "    def __init__(self, data_table: pd.DataFrame, targets: pd.DataFrame):\n",
    "        self.data_table = data_table\n",
    "        self.targets = targets\n",
    "        assert self.data_table.shape[0] == self.targets.shape[0]\n",
    "    def __len__(self):\n",
    "        return self.targets.shape[0]\n",
    "    def __getitem__(self, index):\n",
    "        return Tensor(self.data_table.iloc[index]), Tensor(self.targets.iloc[index])"
   ]
  },
  {
   "cell_type": "code",
   "execution_count": 21,
   "id": "ee8c01e8-a395-465f-a31a-330afb34cfdf",
   "metadata": {},
   "outputs": [],
   "source": [
    "batch_size = 10"
   ]
  },
  {
   "cell_type": "code",
   "execution_count": 22,
   "id": "5703df43-0efd-426f-b629-1eea7830ea33",
   "metadata": {},
   "outputs": [],
   "source": [
    "train_dataset = TicketsDataset(X_train, y_train)\n",
    "val_dataset = TicketsDataset(X_val, y_val)\n",
    "test_dataset = TicketsDataset(X_test, y_test)"
   ]
  },
  {
   "cell_type": "code",
   "execution_count": 23,
   "id": "e315c80f-bc6a-4ac2-94e7-6a1ae982acc5",
   "metadata": {},
   "outputs": [],
   "source": [
    "train_dataloader = DataLoader(train_dataset, batch_size=batch_size, shuffle=True)\n",
    "val_dataloader = DataLoader(val_dataset, batch_size=len(val_dataset), shuffle=True)\n",
    "test_dataloader = DataLoader(test_dataset, batch_size=1, shuffle=True)"
   ]
  },
  {
   "cell_type": "markdown",
   "id": "71937350-41cf-4b03-9ac3-587ce9a0b258",
   "metadata": {},
   "source": [
    "# Создаём и обучаем нейронную сеть"
   ]
  },
  {
   "cell_type": "code",
   "execution_count": 130,
   "id": "47e55639-1cd5-4567-80da-49385b2910b0",
   "metadata": {},
   "outputs": [],
   "source": [
    "class Network(Module):\n",
    "    def __init__(self, n_of_features):\n",
    "        super().__init__()\n",
    "        hidden = 10\n",
    "        self.layers = Sequential(\n",
    "            Linear(n_of_features, hidden),\n",
    "            Sigmoid(),\n",
    "            Linear(hidden, 1)\n",
    "        )\n",
    "    def forward(self, x):\n",
    "        return self.layers(x)"
   ]
  },
  {
   "cell_type": "code",
   "execution_count": 131,
   "id": "7cb48522-7f46-47b8-9c27-e4ea8f47ff09",
   "metadata": {},
   "outputs": [],
   "source": [
    "model = Network(3)"
   ]
  },
  {
   "cell_type": "code",
   "execution_count": 132,
   "id": "351ca117-a322-402d-94b5-7578b9515339",
   "metadata": {},
   "outputs": [],
   "source": [
    "loss_hist = []"
   ]
  },
  {
   "cell_type": "code",
   "execution_count": 135,
   "id": "877fc130-516c-4fee-a5ab-2afa4bced112",
   "metadata": {},
   "outputs": [
    {
     "name": "stdout",
     "output_type": "stream",
     "text": [
      "Epoch: 1, samples: 100/3640,         loss=0.15753659784388171\n",
      "Epoch: 1, samples: 200/3640,         loss=0.19272200218043456\n",
      "Epoch: 1, samples: 300/3640,         loss=0.09970692458039648\n",
      "Epoch: 1, samples: 400/3640,         loss=0.103744339637717\n",
      "Epoch: 1, samples: 500/3640,         loss=0.1151682453817888\n",
      "Epoch: 1, samples: 600/3640,         loss=0.13955231673061286\n",
      "Epoch: 1, samples: 700/3640,         loss=0.1478612153342779\n",
      "Epoch: 1, samples: 800/3640,         loss=0.1191198534133967\n",
      "Epoch: 1, samples: 900/3640,         loss=0.10846714900667047\n",
      "Epoch: 1, samples: 1000/3640,         loss=0.11530393586106646\n",
      "Epoch: 1, samples: 1100/3640,         loss=0.07307996586839605\n",
      "Epoch: 1, samples: 1200/3640,         loss=0.12496200371466548\n",
      "Epoch: 1, samples: 1300/3640,         loss=0.13268548136786923\n",
      "Epoch: 1, samples: 1400/3640,         loss=0.13278137571616627\n",
      "Epoch: 1, samples: 1500/3640,         loss=0.11411042366110108\n",
      "Epoch: 1, samples: 1600/3640,         loss=0.18049526061165588\n",
      "Epoch: 1, samples: 1700/3640,         loss=0.1334992911368206\n",
      "Epoch: 1, samples: 1800/3640,         loss=0.20164274459191883\n",
      "Epoch: 1, samples: 1900/3640,         loss=0.11109437579503166\n",
      "Epoch: 1, samples: 2000/3640,         loss=0.09230547888081977\n",
      "Epoch: 1, samples: 2100/3640,         loss=0.136470767327072\n",
      "Epoch: 1, samples: 2200/3640,         loss=0.11338217120270808\n",
      "Epoch: 1, samples: 2300/3640,         loss=0.08605351798777564\n",
      "Epoch: 1, samples: 2400/3640,         loss=0.11829684812278175\n",
      "Epoch: 1, samples: 2500/3640,         loss=0.15489374677778678\n",
      "Epoch: 1, samples: 2600/3640,         loss=0.13302190484720897\n",
      "Epoch: 1, samples: 2700/3640,         loss=0.10347644046273673\n",
      "Epoch: 1, samples: 2800/3640,         loss=0.11414940900117017\n",
      "Epoch: 1, samples: 2900/3640,         loss=0.17506583648581434\n",
      "Epoch: 1, samples: 3000/3640,         loss=0.20658835234866374\n",
      "Epoch: 1, samples: 3100/3640,         loss=0.1369509224243965\n",
      "Epoch: 1, samples: 3200/3640,         loss=0.06207139980523362\n",
      "Epoch: 1, samples: 3300/3640,         loss=0.11418634608635196\n",
      "Epoch: 1, samples: 3400/3640,         loss=0.08533745950331481\n",
      "Epoch: 1, samples: 3500/3640,         loss=0.10537173524648923\n",
      "Epoch: 1, samples: 3600/3640,         loss=0.10753234904680159\n",
      "Epoch: 2, samples: 100/3640,         loss=0.14060770034343856\n",
      "Epoch: 2, samples: 200/3640,         loss=0.17675942478182266\n",
      "Epoch: 2, samples: 300/3640,         loss=0.10522916744122417\n",
      "Epoch: 2, samples: 400/3640,         loss=0.1187300564934008\n",
      "Epoch: 2, samples: 500/3640,         loss=0.11969918113732554\n",
      "Epoch: 2, samples: 600/3640,         loss=0.1341185723486183\n",
      "Epoch: 2, samples: 700/3640,         loss=0.15436326783499196\n",
      "Epoch: 2, samples: 800/3640,         loss=0.11527262069169736\n",
      "Epoch: 2, samples: 900/3640,         loss=0.11898047596109139\n",
      "Epoch: 2, samples: 1000/3640,         loss=0.1474017536054974\n",
      "Epoch: 2, samples: 1100/3640,         loss=0.06836150711004314\n",
      "Epoch: 2, samples: 1200/3640,         loss=0.141901271263558\n",
      "Epoch: 2, samples: 1300/3640,         loss=0.0757624861011357\n",
      "Epoch: 2, samples: 1400/3640,         loss=0.13584518641503757\n",
      "Epoch: 2, samples: 1500/3640,         loss=0.09745691459318823\n",
      "Epoch: 2, samples: 1600/3640,         loss=0.20443364556019342\n",
      "Epoch: 2, samples: 1700/3640,         loss=0.07894658283021332\n",
      "Epoch: 2, samples: 1800/3640,         loss=0.11703051542655095\n",
      "Epoch: 2, samples: 1900/3640,         loss=0.11885053463461735\n",
      "Epoch: 2, samples: 2000/3640,         loss=0.12144447112873266\n",
      "Epoch: 2, samples: 2100/3640,         loss=0.11900520836753077\n",
      "Epoch: 2, samples: 2200/3640,         loss=0.11660902376440219\n",
      "Epoch: 2, samples: 2300/3640,         loss=0.16017180460317193\n",
      "Epoch: 2, samples: 2400/3640,         loss=0.11543427924561658\n",
      "Epoch: 2, samples: 2500/3640,         loss=0.1022249314670375\n",
      "Epoch: 2, samples: 2600/3640,         loss=0.10366010030559585\n",
      "Epoch: 2, samples: 2700/3640,         loss=0.14492160046492328\n",
      "Epoch: 2, samples: 2800/3640,         loss=0.11013504324699118\n",
      "Epoch: 2, samples: 2900/3640,         loss=0.12619990134977802\n",
      "Epoch: 2, samples: 3000/3640,         loss=0.13265351288154256\n",
      "Epoch: 2, samples: 3100/3640,         loss=0.10900482905287247\n",
      "Epoch: 2, samples: 3200/3640,         loss=0.1360319324776872\n",
      "Epoch: 2, samples: 3300/3640,         loss=0.08484579648048993\n",
      "Epoch: 2, samples: 3400/3640,         loss=0.08658234913511843\n",
      "Epoch: 2, samples: 3500/3640,         loss=0.12490137500998688\n",
      "Epoch: 2, samples: 3600/3640,         loss=0.13972182446328488\n",
      "Epoch: 3, samples: 100/3640,         loss=0.11866101676733629\n",
      "Epoch: 3, samples: 200/3640,         loss=0.11512242552843266\n",
      "Epoch: 3, samples: 300/3640,         loss=0.18842114241536945\n",
      "Epoch: 3, samples: 400/3640,         loss=0.13435263863516475\n",
      "Epoch: 3, samples: 500/3640,         loss=0.11533527079012709\n",
      "Epoch: 3, samples: 600/3640,         loss=0.08961165552471702\n",
      "Epoch: 3, samples: 700/3640,         loss=0.1085052007429101\n",
      "Epoch: 3, samples: 800/3640,         loss=0.12749855543234528\n",
      "Epoch: 3, samples: 900/3640,         loss=0.11018412470692172\n",
      "Epoch: 3, samples: 1000/3640,         loss=0.15187136453429603\n",
      "Epoch: 3, samples: 1100/3640,         loss=0.17146629811726133\n",
      "Epoch: 3, samples: 1200/3640,         loss=0.2167906287728292\n",
      "Epoch: 3, samples: 1300/3640,         loss=0.18010099145845665\n",
      "Epoch: 3, samples: 1400/3640,         loss=0.13791472626912468\n",
      "Epoch: 3, samples: 1500/3640,         loss=0.11559247690377875\n",
      "Epoch: 3, samples: 1600/3640,         loss=0.11231956797990701\n",
      "Epoch: 3, samples: 1700/3640,         loss=0.15166229890094599\n",
      "Epoch: 3, samples: 1800/3640,         loss=0.19409469506361166\n",
      "Epoch: 3, samples: 1900/3640,         loss=0.10866344980068093\n",
      "Epoch: 3, samples: 2000/3640,         loss=0.19062914062130396\n",
      "Epoch: 3, samples: 2100/3640,         loss=0.1094793435061134\n",
      "Epoch: 3, samples: 2200/3640,         loss=0.1136494604604747\n",
      "Epoch: 3, samples: 2300/3640,         loss=0.18758140227454906\n",
      "Epoch: 3, samples: 2400/3640,         loss=0.21853176368304975\n",
      "Epoch: 3, samples: 2500/3640,         loss=0.14716515339042388\n",
      "Epoch: 3, samples: 2600/3640,         loss=0.15377867271396964\n",
      "Epoch: 3, samples: 2700/3640,         loss=0.08736397524412412\n",
      "Epoch: 3, samples: 2800/3640,         loss=0.12274461664026644\n",
      "Epoch: 3, samples: 2900/3640,         loss=0.10935491138990037\n",
      "Epoch: 3, samples: 3000/3640,         loss=0.10507505724374636\n",
      "Epoch: 3, samples: 3100/3640,         loss=0.11668322465539463\n",
      "Epoch: 3, samples: 3200/3640,         loss=0.12459438048404851\n",
      "Epoch: 3, samples: 3300/3640,         loss=0.14793474611306592\n",
      "Epoch: 3, samples: 3400/3640,         loss=0.10988093340311537\n",
      "Epoch: 3, samples: 3500/3640,         loss=0.08456542318099491\n",
      "Epoch: 3, samples: 3600/3640,         loss=0.18558173605037803\n",
      "Epoch: 4, samples: 100/3640,         loss=0.1664553652621294\n",
      "Epoch: 4, samples: 200/3640,         loss=0.1238701428686686\n",
      "Epoch: 4, samples: 300/3640,         loss=0.13021293790940824\n",
      "Epoch: 4, samples: 400/3640,         loss=0.12956271487695273\n",
      "Epoch: 4, samples: 500/3640,         loss=0.1666477957612083\n",
      "Epoch: 4, samples: 600/3640,         loss=0.1327744738052118\n",
      "Epoch: 4, samples: 700/3640,         loss=0.10860053974304201\n",
      "Epoch: 4, samples: 800/3640,         loss=0.07295702735442132\n",
      "Epoch: 4, samples: 900/3640,         loss=0.12735169274770625\n",
      "Epoch: 4, samples: 1000/3640,         loss=0.12183639621067317\n",
      "Epoch: 4, samples: 1100/3640,         loss=0.1076284459796861\n",
      "Epoch: 4, samples: 1200/3640,         loss=0.14037510072257828\n",
      "Epoch: 4, samples: 1300/3640,         loss=0.11622236900844124\n",
      "Epoch: 4, samples: 1400/3640,         loss=0.09890656675345275\n",
      "Epoch: 4, samples: 1500/3640,         loss=0.09547906552195715\n",
      "Epoch: 4, samples: 1600/3640,         loss=0.1223218538706509\n",
      "Epoch: 4, samples: 1700/3640,         loss=0.1901229931815109\n",
      "Epoch: 4, samples: 1800/3640,         loss=0.14459028198348914\n",
      "Epoch: 4, samples: 1900/3640,         loss=0.14186652813626968\n",
      "Epoch: 4, samples: 2000/3640,         loss=0.1403282995929063\n",
      "Epoch: 4, samples: 2100/3640,         loss=0.14063531784776717\n",
      "Epoch: 4, samples: 2200/3640,         loss=0.08555265977539812\n",
      "Epoch: 4, samples: 2300/3640,         loss=0.20695295292813676\n",
      "Epoch: 4, samples: 2400/3640,         loss=0.18853029661160417\n",
      "Epoch: 4, samples: 2500/3640,         loss=0.11202894858200389\n",
      "Epoch: 4, samples: 2600/3640,         loss=0.13412178739315866\n",
      "Epoch: 4, samples: 2700/3640,         loss=0.07533549271895025\n",
      "Epoch: 4, samples: 2800/3640,         loss=0.10210951798537735\n",
      "Epoch: 4, samples: 2900/3640,         loss=0.17190517897515833\n",
      "Epoch: 4, samples: 3000/3640,         loss=0.23008763596414708\n",
      "Epoch: 4, samples: 3100/3640,         loss=0.24561833069266922\n",
      "Epoch: 4, samples: 3200/3640,         loss=0.1257772273255609\n",
      "Epoch: 4, samples: 3300/3640,         loss=0.15606968130906465\n",
      "Epoch: 4, samples: 3400/3640,         loss=0.10077839559017004\n",
      "Epoch: 4, samples: 3500/3640,         loss=0.14737747685217173\n",
      "Epoch: 4, samples: 3600/3640,         loss=0.17949337424466033\n",
      "Epoch: 5, samples: 100/3640,         loss=0.17581055185023137\n",
      "Epoch: 5, samples: 200/3640,         loss=0.20346715426796966\n",
      "Epoch: 5, samples: 300/3640,         loss=0.15594440616917424\n",
      "Epoch: 5, samples: 400/3640,         loss=0.13185428209184735\n",
      "Epoch: 5, samples: 500/3640,         loss=0.1490167496306684\n",
      "Epoch: 5, samples: 600/3640,         loss=0.17077777417512013\n",
      "Epoch: 5, samples: 700/3640,         loss=0.07633333028831243\n",
      "Epoch: 5, samples: 800/3640,         loss=0.15565817330012136\n",
      "Epoch: 5, samples: 900/3640,         loss=0.12099933789255331\n",
      "Epoch: 5, samples: 1000/3640,         loss=0.13351445661271297\n",
      "Epoch: 5, samples: 1100/3640,         loss=0.18813336211214898\n",
      "Epoch: 5, samples: 1200/3640,         loss=0.10257153224023702\n",
      "Epoch: 5, samples: 1300/3640,         loss=0.09657776401762747\n",
      "Epoch: 5, samples: 1400/3640,         loss=0.10467044830232594\n",
      "Epoch: 5, samples: 1500/3640,         loss=0.08512545420316132\n",
      "Epoch: 5, samples: 1600/3640,         loss=0.13438880455834054\n",
      "Epoch: 5, samples: 1700/3640,         loss=0.19392855515168855\n",
      "Epoch: 5, samples: 1800/3640,         loss=0.11946735372807549\n",
      "Epoch: 5, samples: 1900/3640,         loss=0.11150380127060439\n",
      "Epoch: 5, samples: 2000/3640,         loss=0.18328487508104313\n",
      "Epoch: 5, samples: 2100/3640,         loss=0.14039172586594256\n",
      "Epoch: 5, samples: 2200/3640,         loss=0.1398015683239993\n",
      "Epoch: 5, samples: 2300/3640,         loss=0.1562366956768701\n",
      "Epoch: 5, samples: 2400/3640,         loss=0.1469598682201012\n",
      "Epoch: 5, samples: 2500/3640,         loss=0.08027481138255622\n",
      "Epoch: 5, samples: 2600/3640,         loss=0.1509373005575438\n",
      "Epoch: 5, samples: 2700/3640,         loss=0.15318721412389222\n",
      "Epoch: 5, samples: 2800/3640,         loss=0.07131788246050695\n",
      "Epoch: 5, samples: 2900/3640,         loss=0.147882616518463\n",
      "Epoch: 5, samples: 3000/3640,         loss=0.16063417094021606\n",
      "Epoch: 5, samples: 3100/3640,         loss=0.25465205770916144\n",
      "Epoch: 5, samples: 3200/3640,         loss=0.16276100476476596\n",
      "Epoch: 5, samples: 3300/3640,         loss=0.105817844014263\n",
      "Epoch: 5, samples: 3400/3640,         loss=0.10615125337968939\n",
      "Epoch: 5, samples: 3500/3640,         loss=0.11612571267970762\n",
      "Epoch: 5, samples: 3600/3640,         loss=0.1085793557678505\n"
     ]
    }
   ],
   "source": [
    "epochs = 5\n",
    "\n",
    "loss_fn = MSELoss()\n",
    "#optim = Adam(model.parameters(), lr=0.0003)\n",
    "optim = SGD(model.parameters(), weight_decay=0.01)\n",
    "\n",
    "for e in range(1, epochs + 1):\n",
    "    for i, [data_input, target_output] in enumerate(train_dataloader):\n",
    "        model.train()\n",
    "        data_pred = model(data_input)\n",
    "        loss = loss_fn(data_pred, target_output)\n",
    "        loss.backward()\n",
    "        optim.step()\n",
    "        optim.zero_grad()\n",
    "        if (i + 1) % 10 == 0:\n",
    "            print(f'Epoch: {e}, samples: {i * batch_size + len(data_input)}/{len(train_dataset)}, \\\n",
    "        loss={np.sqrt(loss.item())}')\n",
    "    model.eval()\n",
    "    data_input, target_output = next(iter(val_dataloader))\n",
    "    data_pred = model(data_input)\n",
    "    loss = loss_fn(data_pred, target_output)\n",
    "    loss_hist.append(np.sqrt(loss.item()))"
   ]
  },
  {
   "cell_type": "code",
   "execution_count": 136,
   "id": "6cd5d612-91c9-44d9-9d0b-4227e4d1437e",
   "metadata": {},
   "outputs": [
    {
     "data": {
      "image/png": "[encoded data removed]",
      "text/plain": [
       "<Figure size 640x480 with 1 Axes>"
      ]
     },
     "metadata": {},
     "output_type": "display_data"
    }
   ],
   "source": [
    "plt.plot(list(range(len(loss_hist))), loss_hist);"
   ]
  },
  {
   "cell_type": "code",
   "execution_count": 129,
   "id": "8eb530ed-5ed8-471a-9286-4b43a2b0aaf3",
   "metadata": {},
   "outputs": [
    {
     "data": {
      "text/plain": [
       "[0.21991965392703708,\n",
       " 0.15963018477756458,\n",
       " 0.1472476022351867,\n",
       " 0.1439167180639233,\n",
       " 0.14214045485148458,\n",
       " 0.14082163070717793,\n",
       " 0.13968696596269697,\n",
       " 0.13871687843880345,\n",
       " 0.13784882260348305,\n",
       " 0.13709732502644792]"
      ]
     },
     "execution_count": 129,
     "metadata": {},
     "output_type": "execute_result"
    }
   ],
   "source": [
    "loss_hist"
   ]
  },
  {
   "cell_type": "code",
   "execution_count": 167,
   "id": "59f45227-c0ab-48f8-94bf-0b699510ab20",
   "metadata": {},
   "outputs": [
    {
     "data": {
      "text/plain": [
       "tensor([[1.0000, 0.0000, 0.2258]])"
      ]
     },
     "execution_count": 167,
     "metadata": {},
     "output_type": "execute_result"
    }
   ],
   "source": [
    "features, target = next(iter(test_dataloader))\n",
    "features"
   ]
  },
  {
   "cell_type": "code",
   "execution_count": 168,
   "id": "69b68363-0575-4f57-b72e-d23b041a6bf7",
   "metadata": {},
   "outputs": [
    {
     "data": {
      "text/plain": [
       "array([[17604.00016087]])"
      ]
     },
     "execution_count": 168,
     "metadata": {},
     "output_type": "execute_result"
    }
   ],
   "source": [
    "price_scaler.inverse_transform(target)"
   ]
  },
  {
   "cell_type": "code",
   "execution_count": 169,
   "id": "6cb55c70-3ada-474e-88f2-0e55357615cb",
   "metadata": {},
   "outputs": [
    {
     "data": {
      "text/plain": [
       "array([[26405.07316658]])"
      ]
     },
     "execution_count": 169,
     "metadata": {},
     "output_type": "execute_result"
    }
   ],
   "source": [
    "price_scaler.inverse_transform(model(features).detach())"
   ]
  },
  {
   "cell_type": "code",
   "execution_count": null,
   "id": "8bd44f92-be21-4635-a741-85b4f52841f8",
   "metadata": {},
   "outputs": [],
   "source": []
  }
 ],
 "metadata": {
  "kernelspec": {
   "display_name": "Python 3 (ipykernel)",
   "language": "python",
   "name": "python3"
  },
  "language_info": {
   "codemirror_mode": {
    "name": "ipython",
    "version": 3
   },
   "file_extension": ".py",
   "mimetype": "text/x-python",
   "name": "python",
   "nbconvert_exporter": "python",
   "pygments_lexer": "ipython3",
   "version": "3.12.3"
  }
 },
 "nbformat": 4,
 "nbformat_minor": 5
}
