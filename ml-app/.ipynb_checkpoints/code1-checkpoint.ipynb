{
 "cells": [
  {
   "cell_type": "markdown",
   "id": "4d0c6b21-bd9c-460a-ad15-1682503c00d1",
   "metadata": {},
   "source": [
    "# Подключаем библиотеки"
   ]
  },
  {
   "cell_type": "code",
   "execution_count": 154,
   "id": "b60248b5-eefc-41d1-ae86-31e5d79dd0d9",
   "metadata": {},
   "outputs": [],
   "source": [
    "from math import pi\n",
    "import numpy as np\n",
    "import pandas as pd\n",
    "import matplotlib.pyplot as plt\n",
    "import seaborn as sns\n",
    "from sklearn.preprocessing import OneHotEncoder, StandardScaler, MinMaxScaler\n",
    "from sklearn.model_selection import train_test_split\n",
    "import re\n",
    "from datetime import datetime\n",
    "from datetime import time\n",
    "from torch.utils.data import Dataset, DataLoader\n",
    "from torch import Tensor\n",
    "from torch.nn import Module, Linear, Sigmoid, LeakyReLU, Tanh, Sequential, MSELoss\n",
    "from torch.optim import Adam, SGD"
   ]
  },
  {
   "cell_type": "code",
   "execution_count": 2,
   "id": "ec76e820-f952-40fb-8867-0bd550f14a7a",
   "metadata": {},
   "outputs": [],
   "source": [
    "import warnings\n",
    "warnings.filterwarnings('ignore')"
   ]
  },
  {
   "cell_type": "markdown",
   "id": "ac71b731-ce72-44a1-987f-e1682940f489",
   "metadata": {},
   "source": [
    "# Считываем и выводим данные"
   ]
  },
  {
   "cell_type": "code",
   "execution_count": 3,
   "id": "b3384571-9172-4f22-a097-4e73b92d8b0e",
   "metadata": {},
   "outputs": [],
   "source": [
    "df_business = pd.read_excel('Train.xlsx', sheet_name='business')\n",
    "df_business['class'] = np.ones(df_business.shape[0])\n",
    "df_economy = pd.read_excel('Train.xlsx', sheet_name='economy')\n",
    "df_economy['class'] = np.zeros(df_economy.shape[0])"
   ]
  },
  {
   "cell_type": "code",
   "execution_count": 4,
   "id": "4fd3cd8b-cfee-4110-b3f6-66285e52d567",
   "metadata": {},
   "outputs": [
    {
     "data": {
      "text/plain": [
       "(240208, 12)"
      ]
     },
     "execution_count": 4,
     "metadata": {},
     "output_type": "execute_result"
    }
   ],
   "source": [
    "df = pd.concat([df_business, df_economy], axis=0)\n",
    "df.shape"
   ]
  },
  {
   "cell_type": "markdown",
   "id": "7400dc73-0969-4271-b4b9-41756236639b",
   "metadata": {},
   "source": [
    "Удаляем дубликаты"
   ]
  },
  {
   "cell_type": "code",
   "execution_count": 5,
   "id": "5f2b230a-3824-4b44-9135-45fc9fba2d8b",
   "metadata": {},
   "outputs": [
    {
     "data": {
      "text/plain": [
       "(240208, 12)"
      ]
     },
     "execution_count": 5,
     "metadata": {},
     "output_type": "execute_result"
    }
   ],
   "source": [
    "df.drop_duplicates(inplace=True)\n",
    "df.shape"
   ]
  },
  {
   "cell_type": "markdown",
   "id": "2dd6c2d5-5c81-4d19-a0a1-ead0a5832d87",
   "metadata": {},
   "source": [
    "Перемешиваем таблицу"
   ]
  },
  {
   "cell_type": "code",
   "execution_count": 6,
   "id": "491f1c72-201d-4dc4-a802-53964134c037",
   "metadata": {},
   "outputs": [
    {
     "data": {
      "text/html": [
       "<div>\n",
       "<style scoped>\n",
       "    .dataframe tbody tr th:only-of-type {\n",
       "        vertical-align: middle;\n",
       "    }\n",
       "\n",
       "    .dataframe tbody tr th {\n",
       "        vertical-align: top;\n",
       "    }\n",
       "\n",
       "    .dataframe thead th {\n",
       "        text-align: right;\n",
       "    }\n",
       "</style>\n",
       "<table border=\"1\" class=\"dataframe\">\n",
       "  <thead>\n",
       "    <tr style=\"text-align: right;\">\n",
       "      <th></th>\n",
       "      <th>date</th>\n",
       "      <th>airline</th>\n",
       "      <th>ch_code</th>\n",
       "      <th>num_code</th>\n",
       "      <th>dep_time</th>\n",
       "      <th>from</th>\n",
       "      <th>time_taken</th>\n",
       "      <th>stop</th>\n",
       "      <th>arr_time</th>\n",
       "      <th>to</th>\n",
       "      <th>price</th>\n",
       "      <th>class</th>\n",
       "    </tr>\n",
       "  </thead>\n",
       "  <tbody>\n",
       "    <tr>\n",
       "      <th>0</th>\n",
       "      <td>09-03-2022</td>\n",
       "      <td>Air India</td>\n",
       "      <td>AI</td>\n",
       "      <td>770</td>\n",
       "      <td>20:30</td>\n",
       "      <td>Kolkata</td>\n",
       "      <td>02h 30m</td>\n",
       "      <td>non-stop</td>\n",
       "      <td>23:00</td>\n",
       "      <td>Delhi</td>\n",
       "      <td>28,510</td>\n",
       "      <td>1.0</td>\n",
       "    </tr>\n",
       "    <tr>\n",
       "      <th>1</th>\n",
       "      <td>02-03-2022</td>\n",
       "      <td>Vistara</td>\n",
       "      <td>UK</td>\n",
       "      <td>963</td>\n",
       "      <td>08:50</td>\n",
       "      <td>Delhi</td>\n",
       "      <td>08h 55m</td>\n",
       "      <td>1-stop\\n\\t\\t\\t\\t\\t\\t\\t\\t\\t\\t\\t\\t\\n\\t\\t\\t\\t\\t\\t...</td>\n",
       "      <td>17:45</td>\n",
       "      <td>Bangalore</td>\n",
       "      <td>4,896</td>\n",
       "      <td>0.0</td>\n",
       "    </tr>\n",
       "    <tr>\n",
       "      <th>2</th>\n",
       "      <td>23-02-2022</td>\n",
       "      <td>Vistara</td>\n",
       "      <td>UK</td>\n",
       "      <td>876</td>\n",
       "      <td>21:35</td>\n",
       "      <td>Hyderabad</td>\n",
       "      <td>22h 20m</td>\n",
       "      <td>1-stop\\n\\t\\t\\t\\t\\t\\t\\t\\t\\t\\t\\t\\t\\n\\t\\t\\t\\t\\t\\t...</td>\n",
       "      <td>19:55</td>\n",
       "      <td>Chennai</td>\n",
       "      <td>8,641</td>\n",
       "      <td>0.0</td>\n",
       "    </tr>\n",
       "    <tr>\n",
       "      <th>3</th>\n",
       "      <td>14-03-2022</td>\n",
       "      <td>Vistara</td>\n",
       "      <td>UK</td>\n",
       "      <td>927</td>\n",
       "      <td>09:30</td>\n",
       "      <td>Delhi</td>\n",
       "      <td>11h 25m</td>\n",
       "      <td>1-stop\\n\\t\\t\\t\\t\\t\\t\\t\\t\\t\\t\\t\\t\\n\\t\\t\\t\\t\\t\\t...</td>\n",
       "      <td>20:55</td>\n",
       "      <td>Bangalore</td>\n",
       "      <td>4,496</td>\n",
       "      <td>0.0</td>\n",
       "    </tr>\n",
       "    <tr>\n",
       "      <th>4</th>\n",
       "      <td>27-03-2022</td>\n",
       "      <td>Indigo</td>\n",
       "      <td>6E</td>\n",
       "      <td>7211</td>\n",
       "      <td>10:55</td>\n",
       "      <td>Hyderabad</td>\n",
       "      <td>03h 55m</td>\n",
       "      <td>1-stop\\n\\t\\t\\t\\t\\t\\t\\t\\t\\t\\t\\t\\t\\n\\t\\t\\t\\t\\t\\t...</td>\n",
       "      <td>14:50</td>\n",
       "      <td>Bangalore</td>\n",
       "      <td>3,374</td>\n",
       "      <td>0.0</td>\n",
       "    </tr>\n",
       "  </tbody>\n",
       "</table>\n",
       "</div>"
      ],
      "text/plain": [
       "         date    airline ch_code  num_code dep_time       from time_taken  \\\n",
       "0  09-03-2022  Air India      AI       770    20:30    Kolkata    02h 30m   \n",
       "1  02-03-2022    Vistara      UK       963    08:50      Delhi    08h 55m   \n",
       "2  23-02-2022    Vistara      UK       876    21:35  Hyderabad    22h 20m   \n",
       "3  14-03-2022    Vistara      UK       927    09:30      Delhi    11h 25m   \n",
       "4  27-03-2022     Indigo      6E      7211    10:55  Hyderabad    03h 55m   \n",
       "\n",
       "                                                stop arr_time         to  \\\n",
       "0                                          non-stop     23:00      Delhi   \n",
       "1  1-stop\\n\\t\\t\\t\\t\\t\\t\\t\\t\\t\\t\\t\\t\\n\\t\\t\\t\\t\\t\\t...    17:45  Bangalore   \n",
       "2  1-stop\\n\\t\\t\\t\\t\\t\\t\\t\\t\\t\\t\\t\\t\\n\\t\\t\\t\\t\\t\\t...    19:55    Chennai   \n",
       "3  1-stop\\n\\t\\t\\t\\t\\t\\t\\t\\t\\t\\t\\t\\t\\n\\t\\t\\t\\t\\t\\t...    20:55  Bangalore   \n",
       "4  1-stop\\n\\t\\t\\t\\t\\t\\t\\t\\t\\t\\t\\t\\t\\n\\t\\t\\t\\t\\t\\t...    14:50  Bangalore   \n",
       "\n",
       "    price  class  \n",
       "0  28,510    1.0  \n",
       "1   4,896    0.0  \n",
       "2   8,641    0.0  \n",
       "3   4,496    0.0  \n",
       "4   3,374    0.0  "
      ]
     },
     "execution_count": 6,
     "metadata": {},
     "output_type": "execute_result"
    }
   ],
   "source": [
    "df = df.sample(frac=1, random_state=42).reset_index(drop=True)\n",
    "df.head()"
   ]
  },
  {
   "cell_type": "code",
   "execution_count": 7,
   "id": "c201f42b-d102-4826-8052-4e48a2a8a58c",
   "metadata": {},
   "outputs": [
    {
     "data": {
      "text/plain": [
       "(240208, 12)"
      ]
     },
     "execution_count": 7,
     "metadata": {},
     "output_type": "execute_result"
    }
   ],
   "source": [
    "df.shape"
   ]
  },
  {
   "cell_type": "markdown",
   "id": "da7a9555-05f1-4ad3-8965-01a528299da8",
   "metadata": {},
   "source": [
    "# Обработка данных"
   ]
  },
  {
   "cell_type": "markdown",
   "id": "c995bbb3-af93-4699-8e96-59e18a3cc7da",
   "metadata": {},
   "source": [
    "Приведём столбец цены к типу данных float"
   ]
  },
  {
   "cell_type": "code",
   "execution_count": 8,
   "id": "cb136268-cbb4-42e2-b79e-e83fc481ef19",
   "metadata": {},
   "outputs": [],
   "source": [
    "df['price'] = df['price'].apply(lambda x: float(x.replace(',', '')))"
   ]
  },
  {
   "cell_type": "markdown",
   "id": "28c8635f-eba3-438b-a5cd-3afe0b741570",
   "metadata": {},
   "source": [
    "Приводим строки к соответствующему формату"
   ]
  },
  {
   "cell_type": "code",
   "execution_count": 9,
   "id": "0e46fb3c-2202-405d-81e2-548cb14bfe1d",
   "metadata": {},
   "outputs": [],
   "source": [
    "df = df.astype({'airline': 'string', 'ch_code': 'string', \\\n",
    "                'from': 'string', 'to': 'string'})"
   ]
  },
  {
   "cell_type": "code",
   "execution_count": 10,
   "id": "813f55a7-2cc8-4df3-a292-dd53156adb88",
   "metadata": {},
   "outputs": [
    {
     "name": "stdout",
     "output_type": "stream",
     "text": [
      "<class 'pandas.core.frame.DataFrame'>\n",
      "RangeIndex: 240208 entries, 0 to 240207\n",
      "Data columns (total 12 columns):\n",
      " #   Column      Non-Null Count   Dtype  \n",
      "---  ------      --------------   -----  \n",
      " 0   date        240208 non-null  object \n",
      " 1   airline     240208 non-null  string \n",
      " 2   ch_code     240208 non-null  string \n",
      " 3   num_code    240208 non-null  int64  \n",
      " 4   dep_time    240208 non-null  object \n",
      " 5   from        240208 non-null  string \n",
      " 6   time_taken  240208 non-null  object \n",
      " 7   stop        240208 non-null  object \n",
      " 8   arr_time    240208 non-null  object \n",
      " 9   to          240208 non-null  string \n",
      " 10  price       240208 non-null  float64\n",
      " 11  class       240208 non-null  float64\n",
      "dtypes: float64(2), int64(1), object(5), string(4)\n",
      "memory usage: 22.0+ MB\n"
     ]
    }
   ],
   "source": [
    "df.info()"
   ]
  },
  {
   "cell_type": "markdown",
   "id": "d53e4b01-1afe-44ac-b67e-e1845b1cb2f8",
   "metadata": {},
   "source": [
    "Функция приведения столбца с описанием пересадок в структурированных вид\n",
    "\n",
    "0 - без пересадок\n",
    "\n",
    "1 - 1 пересадка\n",
    "\n",
    "2 - 2 и более пересадок"
   ]
  },
  {
   "cell_type": "code",
   "execution_count": 11,
   "id": "c82d0e9e-4b77-4930-99dc-69897be4988a",
   "metadata": {},
   "outputs": [],
   "source": [
    "def text_to_stop_categories(text:str):\n",
    "    if text[0] == 'n':\n",
    "        return 0\n",
    "    elif text[0] == '1':\n",
    "        return 1\n",
    "    return 2"
   ]
  },
  {
   "cell_type": "markdown",
   "id": "2f3269d8-57ab-44f0-ac37-4d14518278b4",
   "metadata": {},
   "source": [
    "Функция определения, является ли время ночным или дневным (0 - ночь, 1 - день)"
   ]
  },
  {
   "cell_type": "code",
   "execution_count": 12,
   "id": "07fd9045-08fa-403c-b837-2cd12ee26c83",
   "metadata": {},
   "outputs": [],
   "source": [
    "def time_to_daytime(time_str):\n",
    "    time_obj = datetime.strptime(time_str, '%H:%M')\n",
    "    if time_obj.hour >= 8 and time_obj.hour < 20:\n",
    "        return 1\n",
    "    return 0"
   ]
  },
  {
   "cell_type": "markdown",
   "id": "e73b4955-4c62-4b24-92e5-7c31cf5e3b0c",
   "metadata": {},
   "source": [
    "Функция подсчёта количества минут"
   ]
  },
  {
   "cell_type": "code",
   "execution_count": 13,
   "id": "62d08203-8808-4f09-9e72-201811a5d747",
   "metadata": {},
   "outputs": [],
   "source": [
    "def time_to_minutes(time_str:str):\n",
    "    time_obj = re.findall(r'\\d{1,}', time_str)\n",
    "    return int(time_obj[0]) * 60 + int(time_obj[1])"
   ]
  },
  {
   "cell_type": "markdown",
   "id": "8cde8172-9ab1-4de8-b6df-6e602a1f1f82",
   "metadata": {},
   "source": [
    "Применяем к нужным столбцам соответствующие изменения\n",
    "\n",
    "Преобразуем авиалинию и ch_code в бинарный признак"
   ]
  },
  {
   "cell_type": "code",
   "execution_count": 14,
   "id": "cfb1ddc2-3151-4ecf-a195-dc6f0208fa14",
   "metadata": {},
   "outputs": [
    {
     "data": {
      "text/html": [
       "<div>\n",
       "<style scoped>\n",
       "    .dataframe tbody tr th:only-of-type {\n",
       "        vertical-align: middle;\n",
       "    }\n",
       "\n",
       "    .dataframe tbody tr th {\n",
       "        vertical-align: top;\n",
       "    }\n",
       "\n",
       "    .dataframe thead th {\n",
       "        text-align: right;\n",
       "    }\n",
       "</style>\n",
       "<table border=\"1\" class=\"dataframe\">\n",
       "  <thead>\n",
       "    <tr style=\"text-align: right;\">\n",
       "      <th></th>\n",
       "      <th>date</th>\n",
       "      <th>airline</th>\n",
       "      <th>ch_code</th>\n",
       "      <th>num_code</th>\n",
       "      <th>dep_time</th>\n",
       "      <th>from</th>\n",
       "      <th>time_taken</th>\n",
       "      <th>stop</th>\n",
       "      <th>arr_time</th>\n",
       "      <th>to</th>\n",
       "      <th>price</th>\n",
       "      <th>class</th>\n",
       "      <th>stop_categories</th>\n",
       "      <th>dep_time_category</th>\n",
       "      <th>arr_time_category</th>\n",
       "      <th>time_taken_minutes</th>\n",
       "    </tr>\n",
       "  </thead>\n",
       "  <tbody>\n",
       "    <tr>\n",
       "      <th>0</th>\n",
       "      <td>09-03-2022</td>\n",
       "      <td>Air India</td>\n",
       "      <td>AI</td>\n",
       "      <td>770</td>\n",
       "      <td>20:30</td>\n",
       "      <td>Kolkata</td>\n",
       "      <td>02h 30m</td>\n",
       "      <td>non-stop</td>\n",
       "      <td>23:00</td>\n",
       "      <td>Delhi</td>\n",
       "      <td>28510.0</td>\n",
       "      <td>1.0</td>\n",
       "      <td>0</td>\n",
       "      <td>0</td>\n",
       "      <td>0</td>\n",
       "      <td>150</td>\n",
       "    </tr>\n",
       "    <tr>\n",
       "      <th>1</th>\n",
       "      <td>02-03-2022</td>\n",
       "      <td>Vistara</td>\n",
       "      <td>UK</td>\n",
       "      <td>963</td>\n",
       "      <td>08:50</td>\n",
       "      <td>Delhi</td>\n",
       "      <td>08h 55m</td>\n",
       "      <td>1-stop\\n\\t\\t\\t\\t\\t\\t\\t\\t\\t\\t\\t\\t\\n\\t\\t\\t\\t\\t\\t...</td>\n",
       "      <td>17:45</td>\n",
       "      <td>Bangalore</td>\n",
       "      <td>4896.0</td>\n",
       "      <td>0.0</td>\n",
       "      <td>1</td>\n",
       "      <td>1</td>\n",
       "      <td>1</td>\n",
       "      <td>535</td>\n",
       "    </tr>\n",
       "    <tr>\n",
       "      <th>2</th>\n",
       "      <td>23-02-2022</td>\n",
       "      <td>Vistara</td>\n",
       "      <td>UK</td>\n",
       "      <td>876</td>\n",
       "      <td>21:35</td>\n",
       "      <td>Hyderabad</td>\n",
       "      <td>22h 20m</td>\n",
       "      <td>1-stop\\n\\t\\t\\t\\t\\t\\t\\t\\t\\t\\t\\t\\t\\n\\t\\t\\t\\t\\t\\t...</td>\n",
       "      <td>19:55</td>\n",
       "      <td>Chennai</td>\n",
       "      <td>8641.0</td>\n",
       "      <td>0.0</td>\n",
       "      <td>1</td>\n",
       "      <td>0</td>\n",
       "      <td>1</td>\n",
       "      <td>1340</td>\n",
       "    </tr>\n",
       "    <tr>\n",
       "      <th>3</th>\n",
       "      <td>14-03-2022</td>\n",
       "      <td>Vistara</td>\n",
       "      <td>UK</td>\n",
       "      <td>927</td>\n",
       "      <td>09:30</td>\n",
       "      <td>Delhi</td>\n",
       "      <td>11h 25m</td>\n",
       "      <td>1-stop\\n\\t\\t\\t\\t\\t\\t\\t\\t\\t\\t\\t\\t\\n\\t\\t\\t\\t\\t\\t...</td>\n",
       "      <td>20:55</td>\n",
       "      <td>Bangalore</td>\n",
       "      <td>4496.0</td>\n",
       "      <td>0.0</td>\n",
       "      <td>1</td>\n",
       "      <td>1</td>\n",
       "      <td>0</td>\n",
       "      <td>685</td>\n",
       "    </tr>\n",
       "    <tr>\n",
       "      <th>4</th>\n",
       "      <td>27-03-2022</td>\n",
       "      <td>Indigo</td>\n",
       "      <td>6E</td>\n",
       "      <td>7211</td>\n",
       "      <td>10:55</td>\n",
       "      <td>Hyderabad</td>\n",
       "      <td>03h 55m</td>\n",
       "      <td>1-stop\\n\\t\\t\\t\\t\\t\\t\\t\\t\\t\\t\\t\\t\\n\\t\\t\\t\\t\\t\\t...</td>\n",
       "      <td>14:50</td>\n",
       "      <td>Bangalore</td>\n",
       "      <td>3374.0</td>\n",
       "      <td>0.0</td>\n",
       "      <td>1</td>\n",
       "      <td>1</td>\n",
       "      <td>1</td>\n",
       "      <td>235</td>\n",
       "    </tr>\n",
       "  </tbody>\n",
       "</table>\n",
       "</div>"
      ],
      "text/plain": [
       "         date    airline ch_code  num_code dep_time       from time_taken  \\\n",
       "0  09-03-2022  Air India      AI       770    20:30    Kolkata    02h 30m   \n",
       "1  02-03-2022    Vistara      UK       963    08:50      Delhi    08h 55m   \n",
       "2  23-02-2022    Vistara      UK       876    21:35  Hyderabad    22h 20m   \n",
       "3  14-03-2022    Vistara      UK       927    09:30      Delhi    11h 25m   \n",
       "4  27-03-2022     Indigo      6E      7211    10:55  Hyderabad    03h 55m   \n",
       "\n",
       "                                                stop arr_time         to  \\\n",
       "0                                          non-stop     23:00      Delhi   \n",
       "1  1-stop\\n\\t\\t\\t\\t\\t\\t\\t\\t\\t\\t\\t\\t\\n\\t\\t\\t\\t\\t\\t...    17:45  Bangalore   \n",
       "2  1-stop\\n\\t\\t\\t\\t\\t\\t\\t\\t\\t\\t\\t\\t\\n\\t\\t\\t\\t\\t\\t...    19:55    Chennai   \n",
       "3  1-stop\\n\\t\\t\\t\\t\\t\\t\\t\\t\\t\\t\\t\\t\\n\\t\\t\\t\\t\\t\\t...    20:55  Bangalore   \n",
       "4  1-stop\\n\\t\\t\\t\\t\\t\\t\\t\\t\\t\\t\\t\\t\\n\\t\\t\\t\\t\\t\\t...    14:50  Bangalore   \n",
       "\n",
       "     price  class  stop_categories  dep_time_category  arr_time_category  \\\n",
       "0  28510.0    1.0                0                  0                  0   \n",
       "1   4896.0    0.0                1                  1                  1   \n",
       "2   8641.0    0.0                1                  0                  1   \n",
       "3   4496.0    0.0                1                  1                  0   \n",
       "4   3374.0    0.0                1                  1                  1   \n",
       "\n",
       "   time_taken_minutes  \n",
       "0                 150  \n",
       "1                 535  \n",
       "2                1340  \n",
       "3                 685  \n",
       "4                 235  "
      ]
     },
     "execution_count": 14,
     "metadata": {},
     "output_type": "execute_result"
    }
   ],
   "source": [
    "df['stop_categories'] = df['stop'].apply(text_to_stop_categories)\n",
    "df['dep_time_category'] = df['dep_time'].apply(time_to_daytime)\n",
    "df['arr_time_category'] = df['arr_time'].apply(time_to_daytime)\n",
    "df['time_taken_minutes'] = df['time_taken'].apply(time_to_minutes)\n",
    "df.head()"
   ]
  },
  {
   "cell_type": "markdown",
   "id": "b072f5c0-f3df-424f-ba7b-afb4df40acc3",
   "metadata": {},
   "source": [
    "Теперь закодируем признак, обозначающий количество пересадок, с помощью вектора из нулей и единиц"
   ]
  },
  {
   "cell_type": "code",
   "execution_count": 15,
   "id": "27f468d7-ca53-4a67-9148-09f86ddeb6cd",
   "metadata": {},
   "outputs": [],
   "source": [
    "stop_category_encoder = OneHotEncoder()\n",
    "stop_category_encoder.fit(df[['stop_categories']])\n",
    "df[['stop0', 'stop1', 'stop2']] = stop_category_encoder.transform(df[['stop_categories']]).toarray()"
   ]
  },
  {
   "cell_type": "markdown",
   "id": "36161f4a-fae0-43e5-aec6-066dd673052f",
   "metadata": {},
   "source": [
    "Будем учитывать расстояния между городами"
   ]
  },
  {
   "cell_type": "code",
   "execution_count": 16,
   "id": "1254a724-30e7-4d4d-95e9-f330ed657609",
   "metadata": {},
   "outputs": [],
   "source": [
    "city_indexes = {'Bangalore': 0, 'Chennai': 1, 'Delhi': 2, \\\n",
    "                'Hyderabad': 3, 'Kolkata': 4, 'Mumbai': 5}\n",
    "city_dists = [\n",
    "    [     0,          290,          1720,           1680,          1550,            830  ],\n",
    "    [   290,            0,          1760,           1840,          1360,           1050  ],\n",
    "    [  1720,         1760,             0,           1250,          1300,           1160  ],\n",
    "    [  1680,         1840,          1250,              0,          2060,            850  ],\n",
    "    [  1550,         1360,          1300,           2060,             0,           1650  ],\n",
    "    [  830,          1050,          1160,            850,          1650,              0  ]\n",
    "]"
   ]
  },
  {
   "cell_type": "code",
   "execution_count": 17,
   "id": "caa4f5e4-0493-4297-821d-99b15f10cc7a",
   "metadata": {},
   "outputs": [],
   "source": [
    "df['dist'] = df.apply(lambda x: city_dists[city_indexes[x['from']]]\\\n",
    "                      [city_indexes[x['to']]], axis=1)"
   ]
  },
  {
   "cell_type": "markdown",
   "id": "0618f441-5520-4eeb-8004-7f4c055e1a0b",
   "metadata": {},
   "source": [
    "Закодируем время вылета и прилёта двумя числами"
   ]
  },
  {
   "cell_type": "code",
   "execution_count": 18,
   "id": "e3a8acff-ad15-454c-9348-765140e0e556",
   "metadata": {},
   "outputs": [],
   "source": [
    "arr_time_angle = np.array(df['arr_time'].apply(time_to_minutes)).astype('float64')\n",
    "arr_time_angle /= 60 * 24\n",
    "arr_time_angle *= 2 * pi\n",
    "dep_time_angle = np.array(df['dep_time'].apply(time_to_minutes)).astype('float64')\n",
    "dep_time_angle /= 60 * 24\n",
    "dep_time_angle *= 2 * pi\n",
    "df['arr_time_x'] = np.cos(arr_time_angle)\n",
    "df['arr_time_y'] = np.sin(arr_time_angle)\n",
    "df['dep_time_x'] = np.cos(dep_time_angle)\n",
    "df['dep_time_y'] = np.sin(dep_time_angle)"
   ]
  },
  {
   "cell_type": "markdown",
   "id": "fc5a9ea1-cf9f-4979-be5d-3d9038353b4d",
   "metadata": {},
   "source": [
    "Посмотрим на результат"
   ]
  },
  {
   "cell_type": "code",
   "execution_count": 19,
   "id": "88520497-f16a-4263-95b2-8c3f5de18363",
   "metadata": {},
   "outputs": [
    {
     "data": {
      "text/html": [
       "<div>\n",
       "<style scoped>\n",
       "    .dataframe tbody tr th:only-of-type {\n",
       "        vertical-align: middle;\n",
       "    }\n",
       "\n",
       "    .dataframe tbody tr th {\n",
       "        vertical-align: top;\n",
       "    }\n",
       "\n",
       "    .dataframe thead th {\n",
       "        text-align: right;\n",
       "    }\n",
       "</style>\n",
       "<table border=\"1\" class=\"dataframe\">\n",
       "  <thead>\n",
       "    <tr style=\"text-align: right;\">\n",
       "      <th></th>\n",
       "      <th>date</th>\n",
       "      <th>airline</th>\n",
       "      <th>ch_code</th>\n",
       "      <th>num_code</th>\n",
       "      <th>dep_time</th>\n",
       "      <th>from</th>\n",
       "      <th>time_taken</th>\n",
       "      <th>stop</th>\n",
       "      <th>arr_time</th>\n",
       "      <th>to</th>\n",
       "      <th>...</th>\n",
       "      <th>arr_time_category</th>\n",
       "      <th>time_taken_minutes</th>\n",
       "      <th>stop0</th>\n",
       "      <th>stop1</th>\n",
       "      <th>stop2</th>\n",
       "      <th>dist</th>\n",
       "      <th>arr_time_x</th>\n",
       "      <th>arr_time_y</th>\n",
       "      <th>dep_time_x</th>\n",
       "      <th>dep_time_y</th>\n",
       "    </tr>\n",
       "  </thead>\n",
       "  <tbody>\n",
       "    <tr>\n",
       "      <th>0</th>\n",
       "      <td>09-03-2022</td>\n",
       "      <td>Air India</td>\n",
       "      <td>AI</td>\n",
       "      <td>770</td>\n",
       "      <td>20:30</td>\n",
       "      <td>Kolkata</td>\n",
       "      <td>02h 30m</td>\n",
       "      <td>non-stop</td>\n",
       "      <td>23:00</td>\n",
       "      <td>Delhi</td>\n",
       "      <td>...</td>\n",
       "      <td>0</td>\n",
       "      <td>150</td>\n",
       "      <td>1.0</td>\n",
       "      <td>0.0</td>\n",
       "      <td>0.0</td>\n",
       "      <td>1300</td>\n",
       "      <td>0.965926</td>\n",
       "      <td>-0.258819</td>\n",
       "      <td>0.608761</td>\n",
       "      <td>-0.793353</td>\n",
       "    </tr>\n",
       "    <tr>\n",
       "      <th>1</th>\n",
       "      <td>02-03-2022</td>\n",
       "      <td>Vistara</td>\n",
       "      <td>UK</td>\n",
       "      <td>963</td>\n",
       "      <td>08:50</td>\n",
       "      <td>Delhi</td>\n",
       "      <td>08h 55m</td>\n",
       "      <td>1-stop\\n\\t\\t\\t\\t\\t\\t\\t\\t\\t\\t\\t\\t\\n\\t\\t\\t\\t\\t\\t...</td>\n",
       "      <td>17:45</td>\n",
       "      <td>Bangalore</td>\n",
       "      <td>...</td>\n",
       "      <td>1</td>\n",
       "      <td>535</td>\n",
       "      <td>0.0</td>\n",
       "      <td>1.0</td>\n",
       "      <td>0.0</td>\n",
       "      <td>1720</td>\n",
       "      <td>-0.065403</td>\n",
       "      <td>-0.997859</td>\n",
       "      <td>-0.675590</td>\n",
       "      <td>0.737277</td>\n",
       "    </tr>\n",
       "    <tr>\n",
       "      <th>2</th>\n",
       "      <td>23-02-2022</td>\n",
       "      <td>Vistara</td>\n",
       "      <td>UK</td>\n",
       "      <td>876</td>\n",
       "      <td>21:35</td>\n",
       "      <td>Hyderabad</td>\n",
       "      <td>22h 20m</td>\n",
       "      <td>1-stop\\n\\t\\t\\t\\t\\t\\t\\t\\t\\t\\t\\t\\t\\n\\t\\t\\t\\t\\t\\t...</td>\n",
       "      <td>19:55</td>\n",
       "      <td>Chennai</td>\n",
       "      <td>...</td>\n",
       "      <td>1</td>\n",
       "      <td>1340</td>\n",
       "      <td>0.0</td>\n",
       "      <td>1.0</td>\n",
       "      <td>0.0</td>\n",
       "      <td>1840</td>\n",
       "      <td>0.480989</td>\n",
       "      <td>-0.876727</td>\n",
       "      <td>0.806445</td>\n",
       "      <td>-0.591310</td>\n",
       "    </tr>\n",
       "    <tr>\n",
       "      <th>3</th>\n",
       "      <td>14-03-2022</td>\n",
       "      <td>Vistara</td>\n",
       "      <td>UK</td>\n",
       "      <td>927</td>\n",
       "      <td>09:30</td>\n",
       "      <td>Delhi</td>\n",
       "      <td>11h 25m</td>\n",
       "      <td>1-stop\\n\\t\\t\\t\\t\\t\\t\\t\\t\\t\\t\\t\\t\\n\\t\\t\\t\\t\\t\\t...</td>\n",
       "      <td>20:55</td>\n",
       "      <td>Bangalore</td>\n",
       "      <td>...</td>\n",
       "      <td>0</td>\n",
       "      <td>685</td>\n",
       "      <td>0.0</td>\n",
       "      <td>1.0</td>\n",
       "      <td>0.0</td>\n",
       "      <td>1720</td>\n",
       "      <td>0.691513</td>\n",
       "      <td>-0.722364</td>\n",
       "      <td>-0.793353</td>\n",
       "      <td>0.608761</td>\n",
       "    </tr>\n",
       "    <tr>\n",
       "      <th>4</th>\n",
       "      <td>27-03-2022</td>\n",
       "      <td>Indigo</td>\n",
       "      <td>6E</td>\n",
       "      <td>7211</td>\n",
       "      <td>10:55</td>\n",
       "      <td>Hyderabad</td>\n",
       "      <td>03h 55m</td>\n",
       "      <td>1-stop\\n\\t\\t\\t\\t\\t\\t\\t\\t\\t\\t\\t\\t\\n\\t\\t\\t\\t\\t\\t...</td>\n",
       "      <td>14:50</td>\n",
       "      <td>Bangalore</td>\n",
       "      <td>...</td>\n",
       "      <td>1</td>\n",
       "      <td>235</td>\n",
       "      <td>0.0</td>\n",
       "      <td>1.0</td>\n",
       "      <td>0.0</td>\n",
       "      <td>1680</td>\n",
       "      <td>-0.737277</td>\n",
       "      <td>-0.675590</td>\n",
       "      <td>-0.960050</td>\n",
       "      <td>0.279829</td>\n",
       "    </tr>\n",
       "  </tbody>\n",
       "</table>\n",
       "<p>5 rows × 24 columns</p>\n",
       "</div>"
      ],
      "text/plain": [
       "         date    airline ch_code  num_code dep_time       from time_taken  \\\n",
       "0  09-03-2022  Air India      AI       770    20:30    Kolkata    02h 30m   \n",
       "1  02-03-2022    Vistara      UK       963    08:50      Delhi    08h 55m   \n",
       "2  23-02-2022    Vistara      UK       876    21:35  Hyderabad    22h 20m   \n",
       "3  14-03-2022    Vistara      UK       927    09:30      Delhi    11h 25m   \n",
       "4  27-03-2022     Indigo      6E      7211    10:55  Hyderabad    03h 55m   \n",
       "\n",
       "                                                stop arr_time         to  ...  \\\n",
       "0                                          non-stop     23:00      Delhi  ...   \n",
       "1  1-stop\\n\\t\\t\\t\\t\\t\\t\\t\\t\\t\\t\\t\\t\\n\\t\\t\\t\\t\\t\\t...    17:45  Bangalore  ...   \n",
       "2  1-stop\\n\\t\\t\\t\\t\\t\\t\\t\\t\\t\\t\\t\\t\\n\\t\\t\\t\\t\\t\\t...    19:55    Chennai  ...   \n",
       "3  1-stop\\n\\t\\t\\t\\t\\t\\t\\t\\t\\t\\t\\t\\t\\n\\t\\t\\t\\t\\t\\t...    20:55  Bangalore  ...   \n",
       "4  1-stop\\n\\t\\t\\t\\t\\t\\t\\t\\t\\t\\t\\t\\t\\n\\t\\t\\t\\t\\t\\t...    14:50  Bangalore  ...   \n",
       "\n",
       "   arr_time_category  time_taken_minutes  stop0  stop1  stop2  dist  \\\n",
       "0                  0                 150    1.0    0.0    0.0  1300   \n",
       "1                  1                 535    0.0    1.0    0.0  1720   \n",
       "2                  1                1340    0.0    1.0    0.0  1840   \n",
       "3                  0                 685    0.0    1.0    0.0  1720   \n",
       "4                  1                 235    0.0    1.0    0.0  1680   \n",
       "\n",
       "   arr_time_x  arr_time_y  dep_time_x  dep_time_y  \n",
       "0    0.965926   -0.258819    0.608761   -0.793353  \n",
       "1   -0.065403   -0.997859   -0.675590    0.737277  \n",
       "2    0.480989   -0.876727    0.806445   -0.591310  \n",
       "3    0.691513   -0.722364   -0.793353    0.608761  \n",
       "4   -0.737277   -0.675590   -0.960050    0.279829  \n",
       "\n",
       "[5 rows x 24 columns]"
      ]
     },
     "execution_count": 19,
     "metadata": {},
     "output_type": "execute_result"
    }
   ],
   "source": [
    "df.head()"
   ]
  },
  {
   "cell_type": "code",
   "execution_count": null,
   "id": "24a4c550-fd59-4153-842f-296d3b780e60",
   "metadata": {},
   "outputs": [],
   "source": []
  },
  {
   "cell_type": "code",
   "execution_count": null,
   "id": "000a54ea-9039-4ecb-863f-1eb7694dacad",
   "metadata": {},
   "outputs": [],
   "source": []
  },
  {
   "cell_type": "code",
   "execution_count": null,
   "id": "f2389dbc-fcc6-4d4f-b36b-440d59664de9",
   "metadata": {},
   "outputs": [],
   "source": []
  },
  {
   "cell_type": "code",
   "execution_count": null,
   "id": "5b3c919b-1383-4352-8b1f-deaab3fed746",
   "metadata": {},
   "outputs": [],
   "source": []
  },
  {
   "cell_type": "code",
   "execution_count": null,
   "id": "99bbf248-178b-47dd-b061-3acb36d73994",
   "metadata": {},
   "outputs": [],
   "source": []
  },
  {
   "cell_type": "markdown",
   "id": "dd852c69-f33b-46f8-8d27-56f8d3e1eea3",
   "metadata": {},
   "source": [
    "# Подготовка данных"
   ]
  },
  {
   "cell_type": "markdown",
   "id": "8e7b89be-fd3e-4d49-bd27-027b5dbcb7db",
   "metadata": {},
   "source": [
    "Разделим таблицу на признаки и целевую переменную"
   ]
  },
  {
   "cell_type": "code",
   "execution_count": 170,
   "id": "fe046e77-12b1-4163-aded-fce0a3defac0",
   "metadata": {},
   "outputs": [],
   "source": [
    "X = df[df.columns[11:]]\n",
    "X.drop(columns='stop_categories', inplace=True)\n",
    "y = df[['price']]"
   ]
  },
  {
   "cell_type": "markdown",
   "id": "32f273dc-f34b-4bba-ac29-7918f1e31919",
   "metadata": {},
   "source": [
    "Разделим данные на тренировочные, валидационные и тестовые"
   ]
  },
  {
   "cell_type": "code",
   "execution_count": 171,
   "id": "f02f4299-b6db-4bc6-88b3-400bcae62f4f",
   "metadata": {},
   "outputs": [],
   "source": [
    "X_train, X_test, y_train, y_test = train_test_split(X, y, test_size=0.2, \\\n",
    "                                                    random_state=42, shuffle=True)\n",
    "X_train, X_val, y_train, y_val = train_test_split(X_train, y_train, test_size=0.3, \\\n",
    "                                                  random_state=42, shuffle=True)"
   ]
  },
  {
   "cell_type": "markdown",
   "id": "3e03d093-33b2-4ad3-a5a3-b2d8460ecd42",
   "metadata": {},
   "source": [
    "# Проанализируем данные"
   ]
  },
  {
   "cell_type": "markdown",
   "id": "8b7bde12-ca3b-4eda-a086-8fbf36e5b802",
   "metadata": {},
   "source": [
    "Посмотрим на корреляцию между признаками"
   ]
  },
  {
   "cell_type": "code",
   "execution_count": 172,
   "id": "7ca8485a-41c8-46e9-aac4-4b646603d205",
   "metadata": {},
   "outputs": [
    {
     "data": {
      "image/png": "[encoded data removed]",
      "text/plain": [
       "<Figure size 640x480 with 2 Axes>"
      ]
     },
     "metadata": {},
     "output_type": "display_data"
    }
   ],
   "source": [
    "sns.heatmap(pd.concat([X_train, y_train], axis=1).corr());"
   ]
  },
  {
   "cell_type": "code",
   "execution_count": 173,
   "id": "ee83c21f-70b2-4abc-b326-0d7a51ca1119",
   "metadata": {},
   "outputs": [
    {
     "data": {
      "text/html": [
       "<div>\n",
       "<style scoped>\n",
       "    .dataframe tbody tr th:only-of-type {\n",
       "        vertical-align: middle;\n",
       "    }\n",
       "\n",
       "    .dataframe tbody tr th {\n",
       "        vertical-align: top;\n",
       "    }\n",
       "\n",
       "    .dataframe thead th {\n",
       "        text-align: right;\n",
       "    }\n",
       "</style>\n",
       "<table border=\"1\" class=\"dataframe\">\n",
       "  <thead>\n",
       "    <tr style=\"text-align: right;\">\n",
       "      <th></th>\n",
       "      <th>class</th>\n",
       "      <th>dep_time_category</th>\n",
       "      <th>arr_time_category</th>\n",
       "      <th>time_taken_minutes</th>\n",
       "      <th>stop0</th>\n",
       "      <th>stop1</th>\n",
       "      <th>stop2</th>\n",
       "      <th>dist</th>\n",
       "      <th>arr_time_x</th>\n",
       "      <th>arr_time_y</th>\n",
       "      <th>dep_time_x</th>\n",
       "      <th>dep_time_y</th>\n",
       "      <th>price</th>\n",
       "    </tr>\n",
       "  </thead>\n",
       "  <tbody>\n",
       "    <tr>\n",
       "      <th>class</th>\n",
       "      <td>1.000000</td>\n",
       "      <td>-0.020323</td>\n",
       "      <td>0.040046</td>\n",
       "      <td>0.139651</td>\n",
       "      <td>-0.068166</td>\n",
       "      <td>0.118533</td>\n",
       "      <td>-0.105900</td>\n",
       "      <td>-0.027567</td>\n",
       "      <td>-0.024478</td>\n",
       "      <td>-0.019072</td>\n",
       "      <td>0.033119</td>\n",
       "      <td>-0.022375</td>\n",
       "      <td>0.938257</td>\n",
       "    </tr>\n",
       "    <tr>\n",
       "      <th>dep_time_category</th>\n",
       "      <td>-0.020323</td>\n",
       "      <td>1.000000</td>\n",
       "      <td>-0.092548</td>\n",
       "      <td>-0.040761</td>\n",
       "      <td>-0.039830</td>\n",
       "      <td>0.015200</td>\n",
       "      <td>0.035585</td>\n",
       "      <td>0.012530</td>\n",
       "      <td>0.156380</td>\n",
       "      <td>-0.121007</td>\n",
       "      <td>-0.637225</td>\n",
       "      <td>-0.314229</td>\n",
       "      <td>-0.010840</td>\n",
       "    </tr>\n",
       "    <tr>\n",
       "      <th>arr_time_category</th>\n",
       "      <td>0.040046</td>\n",
       "      <td>-0.092548</td>\n",
       "      <td>1.000000</td>\n",
       "      <td>0.109866</td>\n",
       "      <td>-0.012389</td>\n",
       "      <td>0.018651</td>\n",
       "      <td>-0.014032</td>\n",
       "      <td>0.025487</td>\n",
       "      <td>-0.770871</td>\n",
       "      <td>-0.056496</td>\n",
       "      <td>0.055879</td>\n",
       "      <td>0.085197</td>\n",
       "      <td>0.039503</td>\n",
       "    </tr>\n",
       "    <tr>\n",
       "      <th>time_taken_minutes</th>\n",
       "      <td>0.139651</td>\n",
       "      <td>-0.040761</td>\n",
       "      <td>0.109866</td>\n",
       "      <td>1.000000</td>\n",
       "      <td>-0.514013</td>\n",
       "      <td>0.399151</td>\n",
       "      <td>0.093260</td>\n",
       "      <td>0.005509</td>\n",
       "      <td>-0.109868</td>\n",
       "      <td>0.047400</td>\n",
       "      <td>0.139339</td>\n",
       "      <td>-0.121594</td>\n",
       "      <td>0.204962</td>\n",
       "    </tr>\n",
       "    <tr>\n",
       "      <th>stop0</th>\n",
       "      <td>-0.068166</td>\n",
       "      <td>-0.039830</td>\n",
       "      <td>-0.012389</td>\n",
       "      <td>-0.514013</td>\n",
       "      <td>1.000000</td>\n",
       "      <td>-0.833230</td>\n",
       "      <td>-0.079229</td>\n",
       "      <td>-0.019533</td>\n",
       "      <td>-0.032905</td>\n",
       "      <td>0.076891</td>\n",
       "      <td>0.077758</td>\n",
       "      <td>-0.021519</td>\n",
       "      <td>-0.186555</td>\n",
       "    </tr>\n",
       "    <tr>\n",
       "      <th>stop1</th>\n",
       "      <td>0.118533</td>\n",
       "      <td>0.015200</td>\n",
       "      <td>0.018651</td>\n",
       "      <td>0.399151</td>\n",
       "      <td>-0.833230</td>\n",
       "      <td>1.000000</td>\n",
       "      <td>-0.485172</td>\n",
       "      <td>0.003070</td>\n",
       "      <td>0.008027</td>\n",
       "      <td>-0.058818</td>\n",
       "      <td>-0.020359</td>\n",
       "      <td>-0.007526</td>\n",
       "      <td>0.199171</td>\n",
       "    </tr>\n",
       "    <tr>\n",
       "      <th>stop2</th>\n",
       "      <td>-0.105900</td>\n",
       "      <td>0.035585</td>\n",
       "      <td>-0.014032</td>\n",
       "      <td>0.093260</td>\n",
       "      <td>-0.079229</td>\n",
       "      <td>-0.485172</td>\n",
       "      <td>1.000000</td>\n",
       "      <td>0.025355</td>\n",
       "      <td>0.037566</td>\n",
       "      <td>-0.015558</td>\n",
       "      <td>-0.086264</td>\n",
       "      <td>0.047599</td>\n",
       "      <td>-0.064055</td>\n",
       "    </tr>\n",
       "    <tr>\n",
       "      <th>dist</th>\n",
       "      <td>-0.027567</td>\n",
       "      <td>0.012530</td>\n",
       "      <td>0.025487</td>\n",
       "      <td>0.005509</td>\n",
       "      <td>-0.019533</td>\n",
       "      <td>0.003070</td>\n",
       "      <td>0.025355</td>\n",
       "      <td>1.000000</td>\n",
       "      <td>-0.001424</td>\n",
       "      <td>-0.000205</td>\n",
       "      <td>-0.016778</td>\n",
       "      <td>-0.017798</td>\n",
       "      <td>-0.025149</td>\n",
       "    </tr>\n",
       "    <tr>\n",
       "      <th>arr_time_x</th>\n",
       "      <td>-0.024478</td>\n",
       "      <td>0.156380</td>\n",
       "      <td>-0.770871</td>\n",
       "      <td>-0.109868</td>\n",
       "      <td>-0.032905</td>\n",
       "      <td>0.008027</td>\n",
       "      <td>0.037566</td>\n",
       "      <td>-0.001424</td>\n",
       "      <td>1.000000</td>\n",
       "      <td>-0.359079</td>\n",
       "      <td>-0.173729</td>\n",
       "      <td>-0.048557</td>\n",
       "      <td>-0.005102</td>\n",
       "    </tr>\n",
       "    <tr>\n",
       "      <th>arr_time_y</th>\n",
       "      <td>-0.019072</td>\n",
       "      <td>-0.121007</td>\n",
       "      <td>-0.056496</td>\n",
       "      <td>0.047400</td>\n",
       "      <td>0.076891</td>\n",
       "      <td>-0.058818</td>\n",
       "      <td>-0.015558</td>\n",
       "      <td>-0.000205</td>\n",
       "      <td>-0.359079</td>\n",
       "      <td>1.000000</td>\n",
       "      <td>0.287002</td>\n",
       "      <td>-0.164115</td>\n",
       "      <td>-0.047518</td>\n",
       "    </tr>\n",
       "    <tr>\n",
       "      <th>dep_time_x</th>\n",
       "      <td>0.033119</td>\n",
       "      <td>-0.637225</td>\n",
       "      <td>0.055879</td>\n",
       "      <td>0.139339</td>\n",
       "      <td>0.077758</td>\n",
       "      <td>-0.020359</td>\n",
       "      <td>-0.086264</td>\n",
       "      <td>-0.016778</td>\n",
       "      <td>-0.173729</td>\n",
       "      <td>0.287002</td>\n",
       "      <td>1.000000</td>\n",
       "      <td>-0.349877</td>\n",
       "      <td>0.017301</td>\n",
       "    </tr>\n",
       "    <tr>\n",
       "      <th>dep_time_y</th>\n",
       "      <td>-0.022375</td>\n",
       "      <td>-0.314229</td>\n",
       "      <td>0.085197</td>\n",
       "      <td>-0.121594</td>\n",
       "      <td>-0.021519</td>\n",
       "      <td>-0.007526</td>\n",
       "      <td>0.047599</td>\n",
       "      <td>-0.017798</td>\n",
       "      <td>-0.048557</td>\n",
       "      <td>-0.164115</td>\n",
       "      <td>-0.349877</td>\n",
       "      <td>1.000000</td>\n",
       "      <td>-0.018969</td>\n",
       "    </tr>\n",
       "    <tr>\n",
       "      <th>price</th>\n",
       "      <td>0.938257</td>\n",
       "      <td>-0.010840</td>\n",
       "      <td>0.039503</td>\n",
       "      <td>0.204962</td>\n",
       "      <td>-0.186555</td>\n",
       "      <td>0.199171</td>\n",
       "      <td>-0.064055</td>\n",
       "      <td>-0.025149</td>\n",
       "      <td>-0.005102</td>\n",
       "      <td>-0.047518</td>\n",
       "      <td>0.017301</td>\n",
       "      <td>-0.018969</td>\n",
       "      <td>1.000000</td>\n",
       "    </tr>\n",
       "  </tbody>\n",
       "</table>\n",
       "</div>"
      ],
      "text/plain": [
       "                       class  dep_time_category  arr_time_category  \\\n",
       "class               1.000000          -0.020323           0.040046   \n",
       "dep_time_category  -0.020323           1.000000          -0.092548   \n",
       "arr_time_category   0.040046          -0.092548           1.000000   \n",
       "time_taken_minutes  0.139651          -0.040761           0.109866   \n",
       "stop0              -0.068166          -0.039830          -0.012389   \n",
       "stop1               0.118533           0.015200           0.018651   \n",
       "stop2              -0.105900           0.035585          -0.014032   \n",
       "dist               -0.027567           0.012530           0.025487   \n",
       "arr_time_x         -0.024478           0.156380          -0.770871   \n",
       "arr_time_y         -0.019072          -0.121007          -0.056496   \n",
       "dep_time_x          0.033119          -0.637225           0.055879   \n",
       "dep_time_y         -0.022375          -0.314229           0.085197   \n",
       "price               0.938257          -0.010840           0.039503   \n",
       "\n",
       "                    time_taken_minutes     stop0     stop1     stop2  \\\n",
       "class                         0.139651 -0.068166  0.118533 -0.105900   \n",
       "dep_time_category            -0.040761 -0.039830  0.015200  0.035585   \n",
       "arr_time_category             0.109866 -0.012389  0.018651 -0.014032   \n",
       "time_taken_minutes            1.000000 -0.514013  0.399151  0.093260   \n",
       "stop0                        -0.514013  1.000000 -0.833230 -0.079229   \n",
       "stop1                         0.399151 -0.833230  1.000000 -0.485172   \n",
       "stop2                         0.093260 -0.079229 -0.485172  1.000000   \n",
       "dist                          0.005509 -0.019533  0.003070  0.025355   \n",
       "arr_time_x                   -0.109868 -0.032905  0.008027  0.037566   \n",
       "arr_time_y                    0.047400  0.076891 -0.058818 -0.015558   \n",
       "dep_time_x                    0.139339  0.077758 -0.020359 -0.086264   \n",
       "dep_time_y                   -0.121594 -0.021519 -0.007526  0.047599   \n",
       "price                         0.204962 -0.186555  0.199171 -0.064055   \n",
       "\n",
       "                        dist  arr_time_x  arr_time_y  dep_time_x  dep_time_y  \\\n",
       "class              -0.027567   -0.024478   -0.019072    0.033119   -0.022375   \n",
       "dep_time_category   0.012530    0.156380   -0.121007   -0.637225   -0.314229   \n",
       "arr_time_category   0.025487   -0.770871   -0.056496    0.055879    0.085197   \n",
       "time_taken_minutes  0.005509   -0.109868    0.047400    0.139339   -0.121594   \n",
       "stop0              -0.019533   -0.032905    0.076891    0.077758   -0.021519   \n",
       "stop1               0.003070    0.008027   -0.058818   -0.020359   -0.007526   \n",
       "stop2               0.025355    0.037566   -0.015558   -0.086264    0.047599   \n",
       "dist                1.000000   -0.001424   -0.000205   -0.016778   -0.017798   \n",
       "arr_time_x         -0.001424    1.000000   -0.359079   -0.173729   -0.048557   \n",
       "arr_time_y         -0.000205   -0.359079    1.000000    0.287002   -0.164115   \n",
       "dep_time_x         -0.016778   -0.173729    0.287002    1.000000   -0.349877   \n",
       "dep_time_y         -0.017798   -0.048557   -0.164115   -0.349877    1.000000   \n",
       "price              -0.025149   -0.005102   -0.047518    0.017301   -0.018969   \n",
       "\n",
       "                       price  \n",
       "class               0.938257  \n",
       "dep_time_category  -0.010840  \n",
       "arr_time_category   0.039503  \n",
       "time_taken_minutes  0.204962  \n",
       "stop0              -0.186555  \n",
       "stop1               0.199171  \n",
       "stop2              -0.064055  \n",
       "dist               -0.025149  \n",
       "arr_time_x         -0.005102  \n",
       "arr_time_y         -0.047518  \n",
       "dep_time_x          0.017301  \n",
       "dep_time_y         -0.018969  \n",
       "price               1.000000  "
      ]
     },
     "execution_count": 173,
     "metadata": {},
     "output_type": "execute_result"
    }
   ],
   "source": [
    "pd.DataFrame(pd.concat([X_train, y_train], axis=1).corr())"
   ]
  },
  {
   "cell_type": "markdown",
   "id": "22abf8fa-d2c0-46db-b171-d04dd5e4379b",
   "metadata": {},
   "source": [
    "# Нормализация данных"
   ]
  },
  {
   "cell_type": "markdown",
   "id": "3c8c4839-fc1c-474f-bb5d-600da48d53d6",
   "metadata": {},
   "source": [
    "Проведём нормализацию данных"
   ]
  },
  {
   "cell_type": "code",
   "execution_count": 174,
   "id": "f5ba03aa-3b63-4c8c-8999-4fc02b9dba39",
   "metadata": {},
   "outputs": [
    {
     "data": {
      "text/html": [
       "<div>\n",
       "<style scoped>\n",
       "    .dataframe tbody tr th:only-of-type {\n",
       "        vertical-align: middle;\n",
       "    }\n",
       "\n",
       "    .dataframe tbody tr th {\n",
       "        vertical-align: top;\n",
       "    }\n",
       "\n",
       "    .dataframe thead th {\n",
       "        text-align: right;\n",
       "    }\n",
       "</style>\n",
       "<table border=\"1\" class=\"dataframe\">\n",
       "  <thead>\n",
       "    <tr style=\"text-align: right;\">\n",
       "      <th></th>\n",
       "      <th>class</th>\n",
       "      <th>dep_time_category</th>\n",
       "      <th>arr_time_category</th>\n",
       "      <th>time_taken_minutes</th>\n",
       "      <th>stop0</th>\n",
       "      <th>stop1</th>\n",
       "      <th>stop2</th>\n",
       "      <th>dist</th>\n",
       "      <th>arr_time_x</th>\n",
       "      <th>arr_time_y</th>\n",
       "      <th>dep_time_x</th>\n",
       "      <th>dep_time_y</th>\n",
       "    </tr>\n",
       "  </thead>\n",
       "  <tbody>\n",
       "    <tr>\n",
       "      <th>65824</th>\n",
       "      <td>0.0</td>\n",
       "      <td>0</td>\n",
       "      <td>1</td>\n",
       "      <td>0.207815</td>\n",
       "      <td>0.0</td>\n",
       "      <td>1.0</td>\n",
       "      <td>0.0</td>\n",
       "      <td>1.000000</td>\n",
       "      <td>-0.675590</td>\n",
       "      <td>0.737277</td>\n",
       "      <td>0.896873</td>\n",
       "      <td>-0.442289</td>\n",
       "    </tr>\n",
       "    <tr>\n",
       "      <th>103216</th>\n",
       "      <td>0.0</td>\n",
       "      <td>1</td>\n",
       "      <td>1</td>\n",
       "      <td>0.323268</td>\n",
       "      <td>0.0</td>\n",
       "      <td>1.0</td>\n",
       "      <td>0.0</td>\n",
       "      <td>0.604520</td>\n",
       "      <td>-0.707107</td>\n",
       "      <td>0.707107</td>\n",
       "      <td>-0.258819</td>\n",
       "      <td>-0.965926</td>\n",
       "    </tr>\n",
       "    <tr>\n",
       "      <th>96403</th>\n",
       "      <td>0.0</td>\n",
       "      <td>1</td>\n",
       "      <td>1</td>\n",
       "      <td>0.031972</td>\n",
       "      <td>1.0</td>\n",
       "      <td>0.0</td>\n",
       "      <td>0.0</td>\n",
       "      <td>0.604520</td>\n",
       "      <td>-0.173648</td>\n",
       "      <td>-0.984808</td>\n",
       "      <td>-0.707107</td>\n",
       "      <td>-0.707107</td>\n",
       "    </tr>\n",
       "    <tr>\n",
       "      <th>208884</th>\n",
       "      <td>1.0</td>\n",
       "      <td>1</td>\n",
       "      <td>0</td>\n",
       "      <td>0.030195</td>\n",
       "      <td>1.0</td>\n",
       "      <td>0.0</td>\n",
       "      <td>0.0</td>\n",
       "      <td>1.000000</td>\n",
       "      <td>0.751840</td>\n",
       "      <td>-0.659346</td>\n",
       "      <td>0.258819</td>\n",
       "      <td>-0.965926</td>\n",
       "    </tr>\n",
       "    <tr>\n",
       "      <th>68445</th>\n",
       "      <td>0.0</td>\n",
       "      <td>1</td>\n",
       "      <td>1</td>\n",
       "      <td>0.147425</td>\n",
       "      <td>0.0</td>\n",
       "      <td>0.0</td>\n",
       "      <td>1.0</td>\n",
       "      <td>0.316384</td>\n",
       "      <td>0.480989</td>\n",
       "      <td>-0.876727</td>\n",
       "      <td>-0.999048</td>\n",
       "      <td>-0.043619</td>\n",
       "    </tr>\n",
       "  </tbody>\n",
       "</table>\n",
       "</div>"
      ],
      "text/plain": [
       "        class  dep_time_category  arr_time_category  time_taken_minutes  \\\n",
       "65824     0.0                  0                  1            0.207815   \n",
       "103216    0.0                  1                  1            0.323268   \n",
       "96403     0.0                  1                  1            0.031972   \n",
       "208884    1.0                  1                  0            0.030195   \n",
       "68445     0.0                  1                  1            0.147425   \n",
       "\n",
       "        stop0  stop1  stop2      dist  arr_time_x  arr_time_y  dep_time_x  \\\n",
       "65824     0.0    1.0    0.0  1.000000   -0.675590    0.737277    0.896873   \n",
       "103216    0.0    1.0    0.0  0.604520   -0.707107    0.707107   -0.258819   \n",
       "96403     1.0    0.0    0.0  0.604520   -0.173648   -0.984808   -0.707107   \n",
       "208884    1.0    0.0    0.0  1.000000    0.751840   -0.659346    0.258819   \n",
       "68445     0.0    0.0    1.0  0.316384    0.480989   -0.876727   -0.999048   \n",
       "\n",
       "        dep_time_y  \n",
       "65824    -0.442289  \n",
       "103216   -0.965926  \n",
       "96403    -0.707107  \n",
       "208884   -0.965926  \n",
       "68445    -0.043619  "
      ]
     },
     "execution_count": 174,
     "metadata": {},
     "output_type": "execute_result"
    }
   ],
   "source": [
    "time_taken_minutes_scaler = MinMaxScaler()\n",
    "X_train['time_taken_minutes'] = \\\n",
    "time_taken_minutes_scaler.fit_transform(X_train[['time_taken_minutes']])\n",
    "X_val['time_taken_minutes'] = \\\n",
    "time_taken_minutes_scaler.transform(X_val[['time_taken_minutes']])\n",
    "X_test['time_taken_minutes'] = \\\n",
    "time_taken_minutes_scaler.transform(X_test[['time_taken_minutes']])\n",
    "\n",
    "dist_scaler = MinMaxScaler()\n",
    "X_train['dist'] = dist_scaler.fit_transform(X_train[['dist']])\n",
    "X_val['dist'] = dist_scaler.transform(X_val[['dist']])\n",
    "X_test['dist'] = dist_scaler.transform(X_test[['dist']])\n",
    "X_val.head()"
   ]
  },
  {
   "cell_type": "code",
   "execution_count": 169,
   "id": "873b3bc7-598f-4d24-8586-33f8d3be217b",
   "metadata": {},
   "outputs": [
    {
     "data": {
      "text/html": [
       "<div>\n",
       "<style scoped>\n",
       "    .dataframe tbody tr th:only-of-type {\n",
       "        vertical-align: middle;\n",
       "    }\n",
       "\n",
       "    .dataframe tbody tr th {\n",
       "        vertical-align: top;\n",
       "    }\n",
       "\n",
       "    .dataframe thead th {\n",
       "        text-align: right;\n",
       "    }\n",
       "</style>\n",
       "<table border=\"1\" class=\"dataframe\">\n",
       "  <thead>\n",
       "    <tr style=\"text-align: right;\">\n",
       "      <th></th>\n",
       "      <th>price</th>\n",
       "    </tr>\n",
       "  </thead>\n",
       "  <tbody>\n",
       "    <tr>\n",
       "      <th>54567</th>\n",
       "      <td>0.419619</td>\n",
       "    </tr>\n",
       "    <tr>\n",
       "      <th>180896</th>\n",
       "      <td>0.026850</td>\n",
       "    </tr>\n",
       "    <tr>\n",
       "      <th>217744</th>\n",
       "      <td>0.080298</td>\n",
       "    </tr>\n",
       "    <tr>\n",
       "      <th>215352</th>\n",
       "      <td>0.034740</td>\n",
       "    </tr>\n",
       "    <tr>\n",
       "      <th>104443</th>\n",
       "      <td>0.040864</td>\n",
       "    </tr>\n",
       "  </tbody>\n",
       "</table>\n",
       "</div>"
      ],
      "text/plain": [
       "           price\n",
       "54567   0.419619\n",
       "180896  0.026850\n",
       "217744  0.080298\n",
       "215352  0.034740\n",
       "104443  0.040864"
      ]
     },
     "execution_count": 169,
     "metadata": {},
     "output_type": "execute_result"
    }
   ],
   "source": [
    "price_scaler = MinMaxScaler()\n",
    "y_train['price'] = price_scaler.fit_transform(y_train[['price']])\n",
    "y_val['price'] = price_scaler.transform(y_val[['price']])\n",
    "y_test['price'] = price_scaler.transform(y_test[['price']])\n",
    "y_test.head()"
   ]
  },
  {
   "cell_type": "markdown",
   "id": "64e07d4c-5aac-4466-836d-7cdf12ed9c1c",
   "metadata": {},
   "source": [
    "# Подготовка датасета для нейронной сети"
   ]
  },
  {
   "cell_type": "markdown",
   "id": "c76389a0-0ae1-43fc-aa4c-c3358c2d269a",
   "metadata": {},
   "source": [
    "Создаём объекты для загрузки данных"
   ]
  },
  {
   "cell_type": "code",
   "execution_count": 175,
   "id": "98dca110-dbf3-4d75-a1f8-13a0812f2ba1",
   "metadata": {},
   "outputs": [],
   "source": [
    "class TicketsDataset(Dataset):\n",
    "    def __init__(self, data_table: pd.DataFrame, targets: pd.DataFrame):\n",
    "        self.data_table = data_table\n",
    "        self.targets = targets\n",
    "        assert self.data_table.shape[0] == self.targets.shape[0]\n",
    "    def __len__(self):\n",
    "        return self.targets.shape[0]\n",
    "    def __getitem__(self, index):\n",
    "        return Tensor(self.data_table.iloc[index]), Tensor(self.targets.iloc[index])"
   ]
  },
  {
   "cell_type": "code",
   "execution_count": 176,
   "id": "ee8c01e8-a395-465f-a31a-330afb34cfdf",
   "metadata": {},
   "outputs": [],
   "source": [
    "batch_size = 100"
   ]
  },
  {
   "cell_type": "code",
   "execution_count": 177,
   "id": "5703df43-0efd-426f-b629-1eea7830ea33",
   "metadata": {},
   "outputs": [],
   "source": [
    "train_dataset = TicketsDataset(X_train, y_train)\n",
    "val_dataset = TicketsDataset(X_val, y_val)\n",
    "test_dataset = TicketsDataset(X_test, y_test)"
   ]
  },
  {
   "cell_type": "code",
   "execution_count": 178,
   "id": "e315c80f-bc6a-4ac2-94e7-6a1ae982acc5",
   "metadata": {},
   "outputs": [],
   "source": [
    "train_dataloader = DataLoader(train_dataset, batch_size=batch_size, shuffle=True)\n",
    "val_dataloader = DataLoader(val_dataset, batch_size=len(val_dataset), shuffle=True)\n",
    "test_dataloader = DataLoader(test_dataset, batch_size=1, shuffle=True)"
   ]
  },
  {
   "cell_type": "markdown",
   "id": "71937350-41cf-4b03-9ac3-587ce9a0b258",
   "metadata": {},
   "source": [
    "# Создаём и обучаем нейронную сеть"
   ]
  },
  {
   "cell_type": "code",
   "execution_count": 273,
   "id": "47e55639-1cd5-4567-80da-49385b2910b0",
   "metadata": {},
   "outputs": [],
   "source": [
    "class Network(Module):\n",
    "    def __init__(self, n_of_features):\n",
    "        super().__init__()\n",
    "        hidden = 30\n",
    "        self.layers = Sequential(\n",
    "            Linear(n_of_features, hidden),\n",
    "            Sigmoid(),\n",
    "            Linear(hidden, 1)\n",
    "        )\n",
    "    def forward(self, x):\n",
    "        return self.layers(x)"
   ]
  },
  {
   "cell_type": "code",
   "execution_count": 274,
   "id": "7cb48522-7f46-47b8-9c27-e4ea8f47ff09",
   "metadata": {},
   "outputs": [],
   "source": [
    "model = Network(X.shape[1])"
   ]
  },
  {
   "cell_type": "code",
   "execution_count": 275,
   "id": "351ca117-a322-402d-94b5-7578b9515339",
   "metadata": {},
   "outputs": [],
   "source": [
    "loss_hist = []"
   ]
  },
  {
   "cell_type": "code",
   "execution_count": 276,
   "id": "877fc130-516c-4fee-a5ab-2afa4bced112",
   "metadata": {},
   "outputs": [
    {
     "name": "stdout",
     "output_type": "stream",
     "text": [
      "Epoch: 1, samples: 1000/134516,         loss=27386.008690570445\n",
      "Epoch: 1, samples: 2000/134516,         loss=22350.070067004264\n",
      "Epoch: 1, samples: 3000/134516,         loss=24934.62171359333\n",
      "Epoch: 1, samples: 4000/134516,         loss=21118.898456122184\n",
      "Epoch: 1, samples: 5000/134516,         loss=20796.521247554843\n",
      "Epoch: 1, samples: 6000/134516,         loss=21701.028915698906\n",
      "Epoch: 1, samples: 7000/134516,         loss=22166.02950462712\n",
      "Epoch: 1, samples: 8000/134516,         loss=23389.276175204737\n",
      "Epoch: 1, samples: 9000/134516,         loss=19229.657095226634\n",
      "Epoch: 1, samples: 10000/134516,         loss=19400.593805345237\n",
      "Epoch: 1, samples: 11000/134516,         loss=19129.875274031456\n",
      "Epoch: 1, samples: 12000/134516,         loss=16192.862131198424\n",
      "Epoch: 1, samples: 13000/134516,         loss=19943.88046494463\n",
      "Epoch: 1, samples: 14000/134516,         loss=18293.245966749586\n",
      "Epoch: 1, samples: 15000/134516,         loss=16880.480561879747\n",
      "Epoch: 1, samples: 16000/134516,         loss=14746.679083780185\n",
      "Epoch: 1, samples: 17000/134516,         loss=19004.338873004763\n",
      "Epoch: 1, samples: 18000/134516,         loss=14914.064771215122\n",
      "Epoch: 1, samples: 19000/134516,         loss=15489.731308192535\n",
      "Epoch: 1, samples: 20000/134516,         loss=15451.026114792507\n",
      "Epoch: 1, samples: 21000/134516,         loss=18898.00666737103\n",
      "Epoch: 1, samples: 22000/134516,         loss=11335.347193624022\n",
      "Epoch: 1, samples: 23000/134516,         loss=13488.87719567496\n",
      "Epoch: 1, samples: 24000/134516,         loss=13664.040398066745\n",
      "Epoch: 1, samples: 25000/134516,         loss=13087.20596613349\n",
      "Epoch: 1, samples: 26000/134516,         loss=14948.642212589075\n",
      "Epoch: 1, samples: 27000/134516,         loss=13139.742463229635\n",
      "Epoch: 1, samples: 28000/134516,         loss=12172.612537988713\n",
      "Epoch: 1, samples: 29000/134516,         loss=10344.98100529914\n",
      "Epoch: 1, samples: 30000/134516,         loss=10956.464028143386\n",
      "Epoch: 1, samples: 31000/134516,         loss=13121.741347854711\n",
      "Epoch: 1, samples: 32000/134516,         loss=10644.131152893598\n",
      "Epoch: 1, samples: 33000/134516,         loss=12103.898215037996\n",
      "Epoch: 1, samples: 34000/134516,         loss=9096.640258908781\n",
      "Epoch: 1, samples: 35000/134516,         loss=8988.676432044931\n",
      "Epoch: 1, samples: 36000/134516,         loss=10309.867506423156\n",
      "Epoch: 1, samples: 37000/134516,         loss=9173.636138413165\n",
      "Epoch: 1, samples: 38000/134516,         loss=12313.226709518509\n",
      "Epoch: 1, samples: 39000/134516,         loss=9773.608545465691\n",
      "Epoch: 1, samples: 40000/134516,         loss=8505.217692687236\n",
      "Epoch: 1, samples: 41000/134516,         loss=8942.760200296103\n",
      "Epoch: 1, samples: 42000/134516,         loss=7820.705339034325\n",
      "Epoch: 1, samples: 43000/134516,         loss=11603.352618963194\n",
      "Epoch: 1, samples: 44000/134516,         loss=7883.91298785064\n",
      "Epoch: 1, samples: 45000/134516,         loss=6657.374557586497\n",
      "Epoch: 1, samples: 46000/134516,         loss=9232.570173034159\n",
      "Epoch: 1, samples: 47000/134516,         loss=8121.9261262338505\n",
      "Epoch: 1, samples: 48000/134516,         loss=9378.884368622954\n",
      "Epoch: 1, samples: 49000/134516,         loss=7320.947752852769\n",
      "Epoch: 1, samples: 50000/134516,         loss=9395.757340417003\n",
      "Epoch: 1, samples: 51000/134516,         loss=10126.640509073086\n",
      "Epoch: 1, samples: 52000/134516,         loss=8854.133949743476\n",
      "Epoch: 1, samples: 53000/134516,         loss=9277.889415163343\n",
      "Epoch: 1, samples: 54000/134516,         loss=6931.4330408653595\n",
      "Epoch: 1, samples: 55000/134516,         loss=7494.444342311176\n",
      "Epoch: 1, samples: 56000/134516,         loss=8280.434771194083\n",
      "Epoch: 1, samples: 57000/134516,         loss=7655.4182119594225\n",
      "Epoch: 1, samples: 58000/134516,         loss=8327.839095467683\n",
      "Epoch: 1, samples: 59000/134516,         loss=9143.215189417779\n",
      "Epoch: 1, samples: 60000/134516,         loss=7996.00200100025\n",
      "Epoch: 1, samples: 61000/134516,         loss=8870.438546092295\n",
      "Epoch: 1, samples: 62000/134516,         loss=6854.309301454086\n",
      "Epoch: 1, samples: 63000/134516,         loss=9309.869172013106\n",
      "Epoch: 1, samples: 64000/134516,         loss=10769.479467458026\n",
      "Epoch: 1, samples: 65000/134516,         loss=7859.471229033159\n",
      "Epoch: 1, samples: 66000/134516,         loss=7788.923160488875\n",
      "Epoch: 1, samples: 67000/134516,         loss=7745.495723322039\n",
      "Epoch: 1, samples: 68000/134516,         loss=9010.265256916691\n",
      "Epoch: 1, samples: 69000/134516,         loss=7850.30827420172\n",
      "Epoch: 1, samples: 70000/134516,         loss=8257.326928249844\n",
      "Epoch: 1, samples: 71000/134516,         loss=8283.419583722654\n",
      "Epoch: 1, samples: 72000/134516,         loss=8353.89633644086\n",
      "Epoch: 1, samples: 73000/134516,         loss=8505.539841773712\n",
      "Epoch: 1, samples: 74000/134516,         loss=7258.362900819991\n",
      "Epoch: 1, samples: 75000/134516,         loss=7417.950390775069\n",
      "Epoch: 1, samples: 76000/134516,         loss=8864.832993350748\n",
      "Epoch: 1, samples: 77000/134516,         loss=7064.413068330588\n",
      "Epoch: 1, samples: 78000/134516,         loss=8626.092974226513\n",
      "Epoch: 1, samples: 79000/134516,         loss=8010.318096055861\n",
      "Epoch: 1, samples: 80000/134516,         loss=8150.681443903939\n",
      "Epoch: 1, samples: 81000/134516,         loss=7109.976652563636\n",
      "Epoch: 1, samples: 82000/134516,         loss=9969.818052502262\n",
      "Epoch: 1, samples: 83000/134516,         loss=7350.693028551797\n",
      "Epoch: 1, samples: 84000/134516,         loss=7499.388508405202\n",
      "Epoch: 1, samples: 85000/134516,         loss=6911.5075056025225\n",
      "Epoch: 1, samples: 86000/134516,         loss=9418.718384153972\n",
      "Epoch: 1, samples: 87000/134516,         loss=10498.372826300274\n",
      "Epoch: 1, samples: 88000/134516,         loss=8995.338792952714\n",
      "Epoch: 1, samples: 89000/134516,         loss=8971.76771879433\n",
      "Epoch: 1, samples: 90000/134516,         loss=9230.456976769894\n",
      "Epoch: 1, samples: 91000/134516,         loss=8608.515783803849\n",
      "Epoch: 1, samples: 92000/134516,         loss=8969.959197231612\n",
      "Epoch: 1, samples: 93000/134516,         loss=7651.814948102182\n",
      "Epoch: 1, samples: 94000/134516,         loss=6809.0049199571\n",
      "Epoch: 1, samples: 95000/134516,         loss=7694.311925052168\n",
      "Epoch: 1, samples: 96000/134516,         loss=8445.959033762832\n",
      "Epoch: 1, samples: 97000/134516,         loss=6295.458998357467\n",
      "Epoch: 1, samples: 98000/134516,         loss=8167.319021563931\n",
      "Epoch: 1, samples: 99000/134516,         loss=10186.89785950561\n",
      "Epoch: 1, samples: 100000/134516,         loss=9619.222421796889\n",
      "Epoch: 1, samples: 101000/134516,         loss=7591.249172567055\n",
      "Epoch: 1, samples: 102000/134516,         loss=7594.847200569608\n",
      "Epoch: 1, samples: 103000/134516,         loss=7404.239326223863\n",
      "Epoch: 1, samples: 104000/134516,         loss=7416.09331117132\n",
      "Epoch: 1, samples: 105000/134516,         loss=8624.854781386177\n",
      "Epoch: 1, samples: 106000/134516,         loss=7685.024658385944\n",
      "Epoch: 1, samples: 107000/134516,         loss=7727.215539895338\n",
      "Epoch: 1, samples: 108000/134516,         loss=7459.445287687282\n",
      "Epoch: 1, samples: 109000/134516,         loss=8915.069938031895\n",
      "Epoch: 1, samples: 110000/134516,         loss=6040.381776013831\n",
      "Epoch: 1, samples: 111000/134516,         loss=5589.292620716865\n",
      "Epoch: 1, samples: 112000/134516,         loss=6983.772905815309\n",
      "Epoch: 1, samples: 113000/134516,         loss=7896.674489935621\n",
      "Epoch: 1, samples: 114000/134516,         loss=8001.722314602026\n",
      "Epoch: 1, samples: 115000/134516,         loss=7382.690566453399\n",
      "Epoch: 1, samples: 116000/134516,         loss=7603.791685731534\n",
      "Epoch: 1, samples: 117000/134516,         loss=9354.373522582899\n",
      "Epoch: 1, samples: 118000/134516,         loss=7801.165553941282\n",
      "Epoch: 1, samples: 119000/134516,         loss=7455.643500060876\n",
      "Epoch: 1, samples: 120000/134516,         loss=8874.62675271473\n",
      "Epoch: 1, samples: 121000/134516,         loss=6198.302025555064\n",
      "Epoch: 1, samples: 122000/134516,         loss=8803.389801661631\n",
      "Epoch: 1, samples: 123000/134516,         loss=7098.708896693821\n",
      "Epoch: 1, samples: 124000/134516,         loss=8614.473402361864\n",
      "Epoch: 1, samples: 125000/134516,         loss=10903.796403088238\n",
      "Epoch: 1, samples: 126000/134516,         loss=6713.818883467144\n",
      "Epoch: 1, samples: 127000/134516,         loss=5724.606362013025\n",
      "Epoch: 1, samples: 128000/134516,         loss=7515.094144453547\n",
      "Epoch: 1, samples: 129000/134516,         loss=6578.327447003531\n",
      "Epoch: 1, samples: 130000/134516,         loss=7333.209938355782\n",
      "Epoch: 1, samples: 131000/134516,         loss=7969.515920054367\n",
      "Epoch: 1, samples: 132000/134516,         loss=6701.453275223218\n",
      "Epoch: 1, samples: 133000/134516,         loss=10324.299491975231\n",
      "Epoch: 1, samples: 134000/134516,         loss=6585.513191847694\n",
      "Epoch: 2, samples: 1000/134516,         loss=9583.935725994828\n",
      "Epoch: 2, samples: 2000/134516,         loss=7541.228281918006\n",
      "Epoch: 2, samples: 3000/134516,         loss=8144.905155985551\n",
      "Epoch: 2, samples: 4000/134516,         loss=9869.752985764133\n",
      "Epoch: 2, samples: 5000/134516,         loss=8135.564393451754\n",
      "Epoch: 2, samples: 6000/134516,         loss=7331.044673169029\n",
      "Epoch: 2, samples: 7000/134516,         loss=7376.832111414764\n",
      "Epoch: 2, samples: 8000/134516,         loss=7412.615732654702\n",
      "Epoch: 2, samples: 9000/134516,         loss=9155.208353718663\n",
      "Epoch: 2, samples: 10000/134516,         loss=7295.798516954809\n",
      "Epoch: 2, samples: 11000/134516,         loss=8353.011433010253\n",
      "Epoch: 2, samples: 12000/134516,         loss=9454.90306666335\n",
      "Epoch: 2, samples: 13000/134516,         loss=7466.359487728942\n"
     ]
    },
    {
     "ename": "KeyboardInterrupt",
     "evalue": "",
     "output_type": "error",
     "traceback": [
      "\u001b[1;31m---------------------------------------------------------------------------\u001b[0m",
      "\u001b[1;31mKeyboardInterrupt\u001b[0m                         Traceback (most recent call last)",
      "Cell \u001b[1;32mIn[276], line 8\u001b[0m\n\u001b[0;32m      5\u001b[0m optim \u001b[38;5;241m=\u001b[39m SGD(model\u001b[38;5;241m.\u001b[39mparameters(), weight_decay\u001b[38;5;241m=\u001b[39m\u001b[38;5;241m0.01\u001b[39m)\n\u001b[0;32m      7\u001b[0m \u001b[38;5;28;01mfor\u001b[39;00m e \u001b[38;5;129;01min\u001b[39;00m \u001b[38;5;28mrange\u001b[39m(\u001b[38;5;241m1\u001b[39m, epochs \u001b[38;5;241m+\u001b[39m \u001b[38;5;241m1\u001b[39m):\n\u001b[1;32m----> 8\u001b[0m \u001b[43m    \u001b[49m\u001b[38;5;28;43;01mfor\u001b[39;49;00m\u001b[43m \u001b[49m\u001b[43mi\u001b[49m\u001b[43m,\u001b[49m\u001b[43m \u001b[49m\u001b[43m[\u001b[49m\u001b[43mdata_input\u001b[49m\u001b[43m,\u001b[49m\u001b[43m \u001b[49m\u001b[43mtarget_output\u001b[49m\u001b[43m]\u001b[49m\u001b[43m \u001b[49m\u001b[38;5;129;43;01min\u001b[39;49;00m\u001b[43m \u001b[49m\u001b[38;5;28;43menumerate\u001b[39;49m\u001b[43m(\u001b[49m\u001b[43mtrain_dataloader\u001b[49m\u001b[43m)\u001b[49m\u001b[43m:\u001b[49m\n\u001b[0;32m      9\u001b[0m \u001b[43m        \u001b[49m\u001b[43mmodel\u001b[49m\u001b[38;5;241;43m.\u001b[39;49m\u001b[43mtrain\u001b[49m\u001b[43m(\u001b[49m\u001b[43m)\u001b[49m\n\u001b[0;32m     10\u001b[0m \u001b[43m        \u001b[49m\u001b[43mdata_pred\u001b[49m\u001b[43m \u001b[49m\u001b[38;5;241;43m=\u001b[39;49m\u001b[43m \u001b[49m\u001b[43mmodel\u001b[49m\u001b[43m(\u001b[49m\u001b[43mdata_input\u001b[49m\u001b[43m)\u001b[49m\n",
      "File \u001b[1;32m~\\AppData\\Local\\Programs\\Python\\Python312\\Lib\\site-packages\\torch\\utils\\data\\dataloader.py:631\u001b[0m, in \u001b[0;36m_BaseDataLoaderIter.__next__\u001b[1;34m(self)\u001b[0m\n\u001b[0;32m    628\u001b[0m \u001b[38;5;28;01mif\u001b[39;00m \u001b[38;5;28mself\u001b[39m\u001b[38;5;241m.\u001b[39m_sampler_iter \u001b[38;5;129;01mis\u001b[39;00m \u001b[38;5;28;01mNone\u001b[39;00m:\n\u001b[0;32m    629\u001b[0m     \u001b[38;5;66;03m# TODO(https://github.com/pytorch/pytorch/issues/76750)\u001b[39;00m\n\u001b[0;32m    630\u001b[0m     \u001b[38;5;28mself\u001b[39m\u001b[38;5;241m.\u001b[39m_reset()  \u001b[38;5;66;03m# type: ignore[call-arg]\u001b[39;00m\n\u001b[1;32m--> 631\u001b[0m data \u001b[38;5;241m=\u001b[39m \u001b[38;5;28;43mself\u001b[39;49m\u001b[38;5;241;43m.\u001b[39;49m\u001b[43m_next_data\u001b[49m\u001b[43m(\u001b[49m\u001b[43m)\u001b[49m\n\u001b[0;32m    632\u001b[0m \u001b[38;5;28mself\u001b[39m\u001b[38;5;241m.\u001b[39m_num_yielded \u001b[38;5;241m+\u001b[39m\u001b[38;5;241m=\u001b[39m \u001b[38;5;241m1\u001b[39m\n\u001b[0;32m    633\u001b[0m \u001b[38;5;28;01mif\u001b[39;00m \u001b[38;5;28mself\u001b[39m\u001b[38;5;241m.\u001b[39m_dataset_kind \u001b[38;5;241m==\u001b[39m _DatasetKind\u001b[38;5;241m.\u001b[39mIterable \u001b[38;5;129;01mand\u001b[39;00m \\\n\u001b[0;32m    634\u001b[0m         \u001b[38;5;28mself\u001b[39m\u001b[38;5;241m.\u001b[39m_IterableDataset_len_called \u001b[38;5;129;01mis\u001b[39;00m \u001b[38;5;129;01mnot\u001b[39;00m \u001b[38;5;28;01mNone\u001b[39;00m \u001b[38;5;129;01mand\u001b[39;00m \\\n\u001b[0;32m    635\u001b[0m         \u001b[38;5;28mself\u001b[39m\u001b[38;5;241m.\u001b[39m_num_yielded \u001b[38;5;241m>\u001b[39m \u001b[38;5;28mself\u001b[39m\u001b[38;5;241m.\u001b[39m_IterableDataset_len_called:\n",
      "File \u001b[1;32m~\\AppData\\Local\\Programs\\Python\\Python312\\Lib\\site-packages\\torch\\utils\\data\\dataloader.py:675\u001b[0m, in \u001b[0;36m_SingleProcessDataLoaderIter._next_data\u001b[1;34m(self)\u001b[0m\n\u001b[0;32m    673\u001b[0m \u001b[38;5;28;01mdef\u001b[39;00m \u001b[38;5;21m_next_data\u001b[39m(\u001b[38;5;28mself\u001b[39m):\n\u001b[0;32m    674\u001b[0m     index \u001b[38;5;241m=\u001b[39m \u001b[38;5;28mself\u001b[39m\u001b[38;5;241m.\u001b[39m_next_index()  \u001b[38;5;66;03m# may raise StopIteration\u001b[39;00m\n\u001b[1;32m--> 675\u001b[0m     data \u001b[38;5;241m=\u001b[39m \u001b[38;5;28;43mself\u001b[39;49m\u001b[38;5;241;43m.\u001b[39;49m\u001b[43m_dataset_fetcher\u001b[49m\u001b[38;5;241;43m.\u001b[39;49m\u001b[43mfetch\u001b[49m\u001b[43m(\u001b[49m\u001b[43mindex\u001b[49m\u001b[43m)\u001b[49m  \u001b[38;5;66;03m# may raise StopIteration\u001b[39;00m\n\u001b[0;32m    676\u001b[0m     \u001b[38;5;28;01mif\u001b[39;00m \u001b[38;5;28mself\u001b[39m\u001b[38;5;241m.\u001b[39m_pin_memory:\n\u001b[0;32m    677\u001b[0m         data \u001b[38;5;241m=\u001b[39m _utils\u001b[38;5;241m.\u001b[39mpin_memory\u001b[38;5;241m.\u001b[39mpin_memory(data, \u001b[38;5;28mself\u001b[39m\u001b[38;5;241m.\u001b[39m_pin_memory_device)\n",
      "File \u001b[1;32m~\\AppData\\Local\\Programs\\Python\\Python312\\Lib\\site-packages\\torch\\utils\\data\\_utils\\fetch.py:54\u001b[0m, in \u001b[0;36m_MapDatasetFetcher.fetch\u001b[1;34m(self, possibly_batched_index)\u001b[0m\n\u001b[0;32m     52\u001b[0m \u001b[38;5;28;01melse\u001b[39;00m:\n\u001b[0;32m     53\u001b[0m     data \u001b[38;5;241m=\u001b[39m \u001b[38;5;28mself\u001b[39m\u001b[38;5;241m.\u001b[39mdataset[possibly_batched_index]\n\u001b[1;32m---> 54\u001b[0m \u001b[38;5;28;01mreturn\u001b[39;00m \u001b[38;5;28;43mself\u001b[39;49m\u001b[38;5;241;43m.\u001b[39;49m\u001b[43mcollate_fn\u001b[49m\u001b[43m(\u001b[49m\u001b[43mdata\u001b[49m\u001b[43m)\u001b[49m\n",
      "File \u001b[1;32m~\\AppData\\Local\\Programs\\Python\\Python312\\Lib\\site-packages\\torch\\utils\\data\\_utils\\collate.py:316\u001b[0m, in \u001b[0;36mdefault_collate\u001b[1;34m(batch)\u001b[0m\n\u001b[0;32m    255\u001b[0m \u001b[38;5;28;01mdef\u001b[39;00m \u001b[38;5;21mdefault_collate\u001b[39m(batch):\n\u001b[0;32m    256\u001b[0m \u001b[38;5;250m    \u001b[39m\u001b[38;5;124mr\u001b[39m\u001b[38;5;124;03m\"\"\"\u001b[39;00m\n\u001b[0;32m    257\u001b[0m \u001b[38;5;124;03m    Take in a batch of data and put the elements within the batch into a tensor with an additional outer dimension - batch size.\u001b[39;00m\n\u001b[0;32m    258\u001b[0m \n\u001b[1;32m   (...)\u001b[0m\n\u001b[0;32m    314\u001b[0m \u001b[38;5;124;03m        >>> default_collate(batch)  # Handle `CustomType` automatically\u001b[39;00m\n\u001b[0;32m    315\u001b[0m \u001b[38;5;124;03m    \"\"\"\u001b[39;00m\n\u001b[1;32m--> 316\u001b[0m     \u001b[38;5;28;01mreturn\u001b[39;00m \u001b[43mcollate\u001b[49m\u001b[43m(\u001b[49m\u001b[43mbatch\u001b[49m\u001b[43m,\u001b[49m\u001b[43m \u001b[49m\u001b[43mcollate_fn_map\u001b[49m\u001b[38;5;241;43m=\u001b[39;49m\u001b[43mdefault_collate_fn_map\u001b[49m\u001b[43m)\u001b[49m\n",
      "File \u001b[1;32m~\\AppData\\Local\\Programs\\Python\\Python312\\Lib\\site-packages\\torch\\utils\\data\\_utils\\collate.py:173\u001b[0m, in \u001b[0;36mcollate\u001b[1;34m(batch, collate_fn_map)\u001b[0m\n\u001b[0;32m    170\u001b[0m transposed \u001b[38;5;241m=\u001b[39m \u001b[38;5;28mlist\u001b[39m(\u001b[38;5;28mzip\u001b[39m(\u001b[38;5;241m*\u001b[39mbatch))  \u001b[38;5;66;03m# It may be accessed twice, so we use a list.\u001b[39;00m\n\u001b[0;32m    172\u001b[0m \u001b[38;5;28;01mif\u001b[39;00m \u001b[38;5;28misinstance\u001b[39m(elem, \u001b[38;5;28mtuple\u001b[39m):\n\u001b[1;32m--> 173\u001b[0m     \u001b[38;5;28;01mreturn\u001b[39;00m [\u001b[43mcollate\u001b[49m\u001b[43m(\u001b[49m\u001b[43msamples\u001b[49m\u001b[43m,\u001b[49m\u001b[43m \u001b[49m\u001b[43mcollate_fn_map\u001b[49m\u001b[38;5;241;43m=\u001b[39;49m\u001b[43mcollate_fn_map\u001b[49m\u001b[43m)\u001b[49m \u001b[38;5;28;01mfor\u001b[39;00m samples \u001b[38;5;129;01min\u001b[39;00m transposed]  \u001b[38;5;66;03m# Backwards compatibility.\u001b[39;00m\n\u001b[0;32m    174\u001b[0m \u001b[38;5;28;01melse\u001b[39;00m:\n\u001b[0;32m    175\u001b[0m     \u001b[38;5;28;01mtry\u001b[39;00m:\n",
      "File \u001b[1;32m~\\AppData\\Local\\Programs\\Python\\Python312\\Lib\\site-packages\\torch\\utils\\data\\_utils\\collate.py:141\u001b[0m, in \u001b[0;36mcollate\u001b[1;34m(batch, collate_fn_map)\u001b[0m\n\u001b[0;32m    139\u001b[0m \u001b[38;5;28;01mif\u001b[39;00m collate_fn_map \u001b[38;5;129;01mis\u001b[39;00m \u001b[38;5;129;01mnot\u001b[39;00m \u001b[38;5;28;01mNone\u001b[39;00m:\n\u001b[0;32m    140\u001b[0m     \u001b[38;5;28;01mif\u001b[39;00m elem_type \u001b[38;5;129;01min\u001b[39;00m collate_fn_map:\n\u001b[1;32m--> 141\u001b[0m         \u001b[38;5;28;01mreturn\u001b[39;00m \u001b[43mcollate_fn_map\u001b[49m\u001b[43m[\u001b[49m\u001b[43melem_type\u001b[49m\u001b[43m]\u001b[49m\u001b[43m(\u001b[49m\u001b[43mbatch\u001b[49m\u001b[43m,\u001b[49m\u001b[43m \u001b[49m\u001b[43mcollate_fn_map\u001b[49m\u001b[38;5;241;43m=\u001b[39;49m\u001b[43mcollate_fn_map\u001b[49m\u001b[43m)\u001b[49m\n\u001b[0;32m    143\u001b[0m     \u001b[38;5;28;01mfor\u001b[39;00m collate_type \u001b[38;5;129;01min\u001b[39;00m collate_fn_map:\n\u001b[0;32m    144\u001b[0m         \u001b[38;5;28;01mif\u001b[39;00m \u001b[38;5;28misinstance\u001b[39m(elem, collate_type):\n",
      "File \u001b[1;32m~\\AppData\\Local\\Programs\\Python\\Python312\\Lib\\site-packages\\torch\\utils\\data\\_utils\\collate.py:213\u001b[0m, in \u001b[0;36mcollate_tensor_fn\u001b[1;34m(batch, collate_fn_map)\u001b[0m\n\u001b[0;32m    211\u001b[0m     storage \u001b[38;5;241m=\u001b[39m elem\u001b[38;5;241m.\u001b[39m_typed_storage()\u001b[38;5;241m.\u001b[39m_new_shared(numel, device\u001b[38;5;241m=\u001b[39melem\u001b[38;5;241m.\u001b[39mdevice)\n\u001b[0;32m    212\u001b[0m     out \u001b[38;5;241m=\u001b[39m elem\u001b[38;5;241m.\u001b[39mnew(storage)\u001b[38;5;241m.\u001b[39mresize_(\u001b[38;5;28mlen\u001b[39m(batch), \u001b[38;5;241m*\u001b[39m\u001b[38;5;28mlist\u001b[39m(elem\u001b[38;5;241m.\u001b[39msize()))\n\u001b[1;32m--> 213\u001b[0m \u001b[38;5;28;01mreturn\u001b[39;00m \u001b[43mtorch\u001b[49m\u001b[38;5;241;43m.\u001b[39;49m\u001b[43mstack\u001b[49m\u001b[43m(\u001b[49m\u001b[43mbatch\u001b[49m\u001b[43m,\u001b[49m\u001b[43m \u001b[49m\u001b[38;5;241;43m0\u001b[39;49m\u001b[43m,\u001b[49m\u001b[43m \u001b[49m\u001b[43mout\u001b[49m\u001b[38;5;241;43m=\u001b[39;49m\u001b[43mout\u001b[49m\u001b[43m)\u001b[49m\n",
      "\u001b[1;31mKeyboardInterrupt\u001b[0m: "
     ]
    }
   ],
   "source": [
    "epochs = 5\n",
    "\n",
    "loss_fn = MSELoss()\n",
    "#optim = Adam(model.parameters(), lr=0.001)\n",
    "optim = SGD(model.parameters(), weight_decay=0.01)\n",
    "\n",
    "for e in range(1, epochs + 1):\n",
    "    for i, [data_input, target_output] in enumerate(train_dataloader):\n",
    "        model.train()\n",
    "        data_pred = model(data_input)\n",
    "        loss = loss_fn(data_pred, target_output)\n",
    "        loss.backward()\n",
    "        optim.step()\n",
    "        optim.zero_grad()\n",
    "        if (i + 1) % 10 == 0:\n",
    "            print(f'Epoch: {e}, samples: {i * batch_size + len(data_input)}/{len(train_dataset)}, \\\n",
    "        loss={np.sqrt(loss.item())}')\n",
    "    model.eval()\n",
    "    data_input, target_output = next(iter(val_dataloader))\n",
    "    data_pred = model(data_input)\n",
    "    loss = loss_fn(data_pred, target_output)\n",
    "    loss_hist.append(np.sqrt(loss.item()))"
   ]
  },
  {
   "cell_type": "code",
   "execution_count": 259,
   "id": "6cd5d612-91c9-44d9-9d0b-4227e4d1437e",
   "metadata": {},
   "outputs": [
    {
     "data": {
      "image/png": "[encoded data removed]",
      "text/plain": [
       "<Figure size 640x480 with 1 Axes>"
      ]
     },
     "metadata": {},
     "output_type": "display_data"
    }
   ],
   "source": [
    "plt.plot(list(range(len(loss_hist))), loss_hist);"
   ]
  },
  {
   "cell_type": "code",
   "execution_count": 238,
   "id": "8eb530ed-5ed8-471a-9286-4b43a2b0aaf3",
   "metadata": {},
   "outputs": [
    {
     "data": {
      "text/plain": [
       "[8824.664979476558,\n",
       " 7934.777879688882,\n",
       " 7922.93329518809,\n",
       " 7921.19460687591,\n",
       " 7921.62331848719]"
      ]
     },
     "execution_count": 238,
     "metadata": {},
     "output_type": "execute_result"
    }
   ],
   "source": [
    "loss_hist"
   ]
  },
  {
   "cell_type": "code",
   "execution_count": 260,
   "id": "59f45227-c0ab-48f8-94bf-0b699510ab20",
   "metadata": {},
   "outputs": [
    {
     "data": {
      "text/plain": [
       "tensor([[ 0.0000,  1.0000,  0.0000,  0.0284,  1.0000,  0.0000,  0.0000,  0.4915,\n",
       "          0.8660, -0.5000,  0.4617, -0.8870]])"
      ]
     },
     "execution_count": 260,
     "metadata": {},
     "output_type": "execute_result"
    }
   ],
   "source": [
    "features, target = next(iter(test_dataloader))\n",
    "features"
   ]
  },
  {
   "cell_type": "code",
   "execution_count": 261,
   "id": "69b68363-0575-4f57-b72e-d23b041a6bf7",
   "metadata": {},
   "outputs": [
    {
     "data": {
      "text/plain": [
       "tensor([[5955.]])"
      ]
     },
     "execution_count": 261,
     "metadata": {},
     "output_type": "execute_result"
    }
   ],
   "source": [
    "target"
   ]
  },
  {
   "cell_type": "code",
   "execution_count": 262,
   "id": "6cb55c70-3ada-474e-88f2-0e55357615cb",
   "metadata": {},
   "outputs": [
    {
     "data": {
      "text/plain": [
       "tensor([[7416.2900]], grad_fn=<AddmmBackward0>)"
      ]
     },
     "execution_count": 262,
     "metadata": {},
     "output_type": "execute_result"
    }
   ],
   "source": [
    "model(features)"
   ]
  },
  {
   "cell_type": "code",
   "execution_count": 85,
   "id": "8bd44f92-be21-4635-a741-85b4f52841f8",
   "metadata": {},
   "outputs": [
    {
     "data": {
      "text/plain": [
       "1160"
      ]
     },
     "execution_count": 85,
     "metadata": {},
     "output_type": "execute_result"
    }
   ],
   "source": [
    "city_dists[city_indexes['Delhi']][city_indexes['Mumbai']]"
   ]
  },
  {
   "cell_type": "code",
   "execution_count": 83,
   "id": "bc71a259-0834-4898-8a78-8962bfa8f5b1",
   "metadata": {},
   "outputs": [
    {
     "data": {
      "text/plain": [
       "2"
      ]
     },
     "execution_count": 83,
     "metadata": {},
     "output_type": "execute_result"
    }
   ],
   "source": [
    "city_indexes['Delhi']"
   ]
  },
  {
   "cell_type": "code",
   "execution_count": 84,
   "id": "3c59e9dc-d70c-477f-898b-81d3b6044602",
   "metadata": {},
   "outputs": [
    {
     "data": {
      "text/plain": [
       "5"
      ]
     },
     "execution_count": 84,
     "metadata": {},
     "output_type": "execute_result"
    }
   ],
   "source": [
    "city_indexes['Mumbai']"
   ]
  },
  {
   "cell_type": "code",
   "execution_count": 227,
   "id": "ffaecd0d-b553-4f15-abed-b6c13833c76c",
   "metadata": {},
   "outputs": [],
   "source": [
    "import torch"
   ]
  },
  {
   "cell_type": "code",
   "execution_count": 277,
   "id": "8b3f7288-1135-45bc-971d-cf561c2555b8",
   "metadata": {},
   "outputs": [],
   "source": [
    "torch.save(model, 'model')"
   ]
  },
  {
   "cell_type": "code",
   "execution_count": null,
   "id": "8f01772a-b6be-4d2e-b6aa-4d0b3b731741",
   "metadata": {},
   "outputs": [],
   "source": []
  },
  {
   "cell_type": "code",
   "execution_count": null,
   "id": "4507766d-187a-4db6-b6d5-beb99bd4bff4",
   "metadata": {},
   "outputs": [],
   "source": []
  },
  {
   "cell_type": "code",
   "execution_count": 248,
   "id": "c25a080c-2c1d-4e93-bab4-cb381e26bc25",
   "metadata": {},
   "outputs": [
    {
     "data": {
      "text/plain": [
       "type"
      ]
     },
     "execution_count": 248,
     "metadata": {},
     "output_type": "execute_result"
    }
   ],
   "source": [
    "type(type(1.0))"
   ]
  },
  {
   "cell_type": "code",
   "execution_count": null,
   "id": "db7e0869-55eb-42fc-b95f-5b2c4eb22555",
   "metadata": {},
   "outputs": [],
   "source": [
    "from flask import Flask, request, jsonify\n",
    "from flask_cors import CORS\n",
    "import torch\n",
    "from torch import Tensor\n",
    "\n",
    "model = torch.load('model')\n",
    "model.eval()\n",
    "\n",
    "city_indexes = {'Bangalore': 0, 'Chennai': 1, 'Delhi': 2, \\\n",
    "                'Hyderabad': 3, 'Kolkata': 4, 'Mumbai': 5}\n",
    "city_dists = [\n",
    "    [     0,          290,          1720,           1680,          1550,            830  ],\n",
    "    [   290,            0,          1760,           1840,          1360,           1050  ],\n",
    "    [  1720,         1760,             0,           1250,          1300,           1160  ],\n",
    "    [  1680,         1840,          1250,              0,          2060,            850  ],\n",
    "    [  1550,         1360,          1300,           2060,             0,           1650  ],\n",
    "    [  830,          1050,          1160,            850,          1650,              0  ]\n",
    "]\n",
    "\n",
    "app = Flask(__name__)\n",
    "CORS(app, resources={r\"/getTicket\": {\"origins\": \"http://localhost:5173\"}})\n",
    "\n",
    "@app.route('/getTicket', methods=['POST'])\n",
    "def get_ticket():\n",
    "    data = request.get_json()\n",
    "\n",
    "    if not data:\n",
    "        return jsonify({'error': 'No input data provided'}), 400\n",
    "\n",
    "    position = data.get('position')\n",
    "    positionTo = data.get('positionTo')\n",
    "    classPlane = data.get('classPlane')\n",
    "\n",
    "    dist = city_dists[city_indexes[position]][city_indexes[positionTo]]\n",
    "    cl = 0.0\n",
    "    if classPlane == 'One':\n",
    "        cl = 1.0\n",
    "\n",
    "    input_data = Tensor([[cl, 1.0, 1.0, 180.0, 1.0, 0.0, 0.0, dist, -1.0, 0.0, -1.0, 0.0]])\n",
    "\n",
    "    answer = model(input_data).item()\n",
    "\n",
    "    # Логика обработки данных\n",
    "    #print(f\"Position: {position}, PositionTo: {positionTo}, ClassPlane: {classPlane}\")\n",
    "    print(f'Price:{answer}')\n",
    "\n",
    "    return jsonify({\n",
    "        'message': 'Data received successfully',\n",
    "        'data': {\n",
    "            'position': position,\n",
    "            'positionTo': positionTo,\n",
    "            'classPlane': classPlane,\n",
    "            'price': str(answer)\n",
    "        }\n",
    "    }), 200\n",
    "\n",
    "if __name__ == '__main__':\n",
    "    app.run(debug=True)"
   ]
  },
  {
   "cell_type": "code",
   "execution_count": 271,
   "id": "f66600b7-48cb-45bc-aece-0c63c2917188",
   "metadata": {},
   "outputs": [],
   "source": [
    "input_data = Tensor([[1, 1.0, 1.0, 180.0, 1.0, 0.0, 0.0, 0.5, -1.0, 0.0, -1.0, 0.0]])\n",
    "model2 = torch.load('model')\n",
    "#answer = model(input_data).item()"
   ]
  },
  {
   "cell_type": "code",
   "execution_count": 272,
   "id": "e2cc20e6-4cc8-4329-93bc-b591a2af0d2f",
   "metadata": {},
   "outputs": [
    {
     "data": {
      "text/plain": [
       "37530.31640625"
      ]
     },
     "execution_count": 272,
     "metadata": {},
     "output_type": "execute_result"
    }
   ],
   "source": [
    "answer = model2(input_data)\n",
    "answer.item()"
   ]
  },
  {
   "cell_type": "code",
   "execution_count": null,
   "id": "a9a3c697-809a-4508-b407-d8fe76766ae7",
   "metadata": {},
   "outputs": [],
   "source": []
  }
 ],
 "metadata": {
  "kernelspec": {
   "display_name": "Python 3 (ipykernel)",
   "language": "python",
   "name": "python3"
  },
  "language_info": {
   "codemirror_mode": {
    "name": "ipython",
    "version": 3
   },
   "file_extension": ".py",
   "mimetype": "text/x-python",
   "name": "python",
   "nbconvert_exporter": "python",
   "pygments_lexer": "ipython3",
   "version": "3.12.3"
  }
 },
 "nbformat": 4,
 "nbformat_minor": 5
}
